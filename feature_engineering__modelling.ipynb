{
 "cells": [
  {
   "cell_type": "markdown",
   "metadata": {
    "id": "4bAWiDkkLZoG"
   },
   "source": [
    "# 📈 Feature Engineering"
   ]
  },
  {
   "cell_type": "code",
   "execution_count": 1,
   "metadata": {
    "executionInfo": {
     "elapsed": 674,
     "status": "ok",
     "timestamp": 1748616120817,
     "user": {
      "displayName": "Camila Dewes",
      "userId": "13076630737521809714"
     },
     "user_tz": -60
    },
    "id": "bhRoDre4-26E"
   },
   "outputs": [],
   "source": [
    "import pandas as pd\n",
    "import numpy as np\n",
    "import holidays"
   ]
  },
  {
   "cell_type": "code",
   "execution_count": 2,
   "metadata": {
    "executionInfo": {
     "elapsed": 19641,
     "status": "ok",
     "timestamp": 1748616140455,
     "user": {
      "displayName": "Camila Dewes",
      "userId": "13076630737521809714"
     },
     "user_tz": -60
    },
    "id": "i38prNtX_QYO"
   },
   "outputs": [],
   "source": [
    "chain_campaigns = pd.read_csv('/content/drive/MyDrive/LDSSA/Capstone project/chain_campaigns.csv')\n",
    "product_prices = pd.read_csv('/content/drive/MyDrive/LDSSA/Capstone project/product_prices_leaflets.csv')\n",
    "product_structures = pd.read_csv('/content/drive/MyDrive/LDSSA/Capstone project/product_structures_sales.csv')\n",
    "\n",
    "chain_campaigns['start_date'] = pd.to_datetime(chain_campaigns['start_date'])\n",
    "chain_campaigns['end_date'] = pd.to_datetime(chain_campaigns['end_date'])\n",
    "product_prices['time_key'] = pd.to_datetime(product_prices['time_key'].astype(str), format='%Y%m%d')\n",
    "# product_structures['time_key'] = pd.to_datetime(product_structures['time_key'].astype(str), format='%Y%m%d')"
   ]
  },
  {
   "cell_type": "code",
   "execution_count": null,
   "metadata": {
    "executionInfo": {
     "elapsed": 37,
     "status": "ok",
     "timestamp": 1748616140488,
     "user": {
      "displayName": "Camila Dewes",
      "userId": "13076630737521809714"
     },
     "user_tz": -60
    },
    "id": "CHLm4sgP_Vru"
   },
   "outputs": [],
   "source": [
    "def create_features(competitor, product_prices, chain_campaigns, product_structures, other_competitors=['competitorB', 'chain']):\n",
    "    \"\"\"\n",
    "    Cria todas as features para um competidor específico\n",
    "    Args:\n",
    "        competitor: Nome do competidor (ex: 'competitorA')\n",
    "        product_prices: DataFrame com preços dos produtos\n",
    "        chain_campaigns: DataFrame com campanhas\n",
    "        product_structures: DataFrame com estruturas dos produtos\n",
    "        other_competitors: Lista de concorrentes para incluir como features\n",
    "    Returns:\n",
    "        DataFrame com features e target\n",
    "    \"\"\"\n",
    "    # 1. Filtrar dados do competidor\n",
    "    df = filter_competitor_data(product_prices, competitor)\n",
    "\n",
    "    # 2. Engenharia de features temporais\n",
    "    df = add_temporal_features(df)\n",
    "\n",
    "    # 3. Features de séries temporais\n",
    "    df = add_time_series_features(df)\n",
    "\n",
    "    # 4. Codificar leaflet_type\n",
    "    df = encode_leaflet(df)\n",
    "\n",
    "    # 5. Features de campanha\n",
    "    df = add_campaign_features(df, chain_campaigns, competitor)\n",
    "\n",
    "    # 6. Adicionar categoria do produto\n",
    "    df = add_product_category(df, product_structures)\n",
    "\n",
    "    # 7. Adicionar preços dos concorrentes\n",
    "    df = add_competitor_prices(df, product_prices, other_competitors)\n",
    "\n",
    "    # 8. Definir target e tratar dados faltantes\n",
    "    df = df.dropna(subset=['pvp_was']).reset_index(drop=True)\n",
    "\n",
    "    return df\n",
    "\n",
    "def filter_competitor_data(df, competitor):\n",
    "    \"\"\"Filtra dados do competidor e prepara estrutura básica\"\"\"\n",
    "    return (\n",
    "        df[df['competitor'] == competitor]\n",
    "        .copy()\n",
    "        .sort_values(['sku', 'time_key'])\n",
    "        .assign(time_key=lambda x: pd.to_datetime(x['time_key']))\n",
    "    )\n",
    "\n",
    "def add_temporal_features(df):\n",
    "    \"\"\"Adiciona features relacionadas ao calendário\"\"\"\n",
    "    pt_holidays = holidays.Portugal()\n",
    "\n",
    "    return df.assign(\n",
    "        day_of_month=lambda x: x['time_key'].dt.day,\n",
    "        day_of_week=lambda x: x['time_key'].dt.dayofweek,\n",
    "        month=lambda x: x['time_key'].dt.month,\n",
    "        holiday_flag=lambda x: x['time_key'].isin(pt_holidays).astype(int)\n",
    "    )\n",
    "\n",
    "def add_time_series_features(df):\n",
    "    \"\"\"Calcula lags e estatísticas móveis\"\"\"\n",
    "    grouper = df.groupby('sku')\n",
    "\n",
    "    # Lags\n",
    "    #for lag in [7, 14, 30]:\n",
    "    #    df[f'lag_{lag}'] = grouper['pvp_was'].shift(lag)\n",
    "\n",
    "    # Rolling statistics\n",
    "    #windows = [1, 7, 14, 30]\n",
    "    #for w in windows:\n",
    "    #    df[f'rolling_mean_{w}'] = grouper['pvp_was'].transform(lambda x: x.rolling(w, min_periods=1).mean())\n",
    "\n",
    "    for w in [7, 14, 30]:\n",
    "        df[f'rolling_std_{w}'] = grouper['pvp_was'].transform(lambda x: x.rolling(w, min_periods=1).std())\n",
    "\n",
    "    return df\n",
    "\n",
    "def encode_leaflet(df):\n",
    "    \"\"\"Codifica o leaflet_type de forma segura\"\"\"\n",
    "    leaflet_mapping = {\n",
    "        'themed': 1,\n",
    "        'weekly': 2,\n",
    "        'short': 3\n",
    "    }\n",
    "    return df.assign(\n",
    "        leaflet=lambda x: x['leaflet'].map(leaflet_mapping).fillna(0).astype('category')\n",
    "    )\n",
    "\n",
    "def add_campaign_features(df, chain_campaigns, competitor):\n",
    "    \"\"\"Adiciona features relacionadas a campanhas\"\"\"\n",
    "    # Filtra campanhas do competidor e remove duplicatas\n",
    "    campaigns = (\n",
    "        chain_campaigns[chain_campaigns['competitor'] == competitor]\n",
    "        [['start_date', 'end_date', 'chain_campaign']]\n",
    "        .drop_duplicates()\n",
    "    )\n",
    "    # Cria um DataFrame com todas as datas de campanha\n",
    "    date_ranges = []\n",
    "    for _, row in campaigns.iterrows():\n",
    "        dates = pd.date_range(row['start_date'], row['end_date'], freq='D')\n",
    "        date_ranges.extend([(date, row['chain_campaign']) for date in dates])\n",
    "\n",
    "    campaign_dates = pd.DataFrame(date_ranges, columns=['time_key', 'campaign_code'])\n",
    "\n",
    "    # Merge com o DataFrame principal\n",
    "    df = df.merge(\n",
    "        campaign_dates,\n",
    "        on='time_key',\n",
    "        how='left'\n",
    "    )\n",
    "\n",
    "    # Cria flags e codificação\n",
    "    df['campaign_active'] = df['campaign_code'].notna().astype(int)\n",
    "\n",
    "    # Codifica os tipos de campanha (A1 -> 1, A2 -> 2, C1 -> 3, etc.)\n",
    "    df['campaign_type'] = (\n",
    "        df['campaign_code']\n",
    "        .str.extract(r'([A-Za-z]+)')[0]  # Extrai a letra (A, C, etc.)\n",
    "        .astype('category')\n",
    "        .cat.codes\n",
    "        .add(1)\n",
    "        .fillna(0)\n",
    "        .astype(int)\n",
    "    )\n",
    "\n",
    "    return df.drop(columns=['campaign_code'])\n",
    "\n",
    "def add_product_category(df, product_structures):\n",
    "    \"\"\"Adiciona informações da estrutura do produto\"\"\"\n",
    "    sku_map = product_structures.set_index('sku')['structure_level_2'].to_dict()\n",
    "    return df.assign(structure_level_2=lambda x: x['sku'].map(sku_map))\n",
    "\n",
    "def add_competitor_prices(df, product_prices, other_competitors):\n",
    "    \"\"\"Adiciona preços dos concorrentes como features\"\"\"\n",
    "    for comp in other_competitors:\n",
    "        comp_prices = (\n",
    "            product_prices[product_prices['competitor'] == comp]\n",
    "            .rename(columns={'pvp_was': f'pvp_was_{comp}'})\n",
    "            [['time_key', 'sku', f'pvp_was_{comp}']]\n",
    "        )\n",
    "        df = df.merge(comp_prices, on=['time_key', 'sku'], how='left')\n",
    "\n",
    "    return df"
   ]
  },
  {
   "cell_type": "code",
   "execution_count": 5,
   "metadata": {
    "executionInfo": {
     "elapsed": 15976,
     "status": "ok",
     "timestamp": 1748509101310,
     "user": {
      "displayName": "Camila Dewes",
      "userId": "13076630737521809714"
     },
     "user_tz": -60
    },
    "id": "f44HoTf6_hqJ"
   },
   "outputs": [],
   "source": [
    "# Para o Competitor A\n",
    "df_competitorA = create_features(\n",
    "    competitor='competitorA',\n",
    "    product_prices=product_prices,\n",
    "    chain_campaigns=chain_campaigns,\n",
    "    product_structures=product_structures,\n",
    "    other_competitors=['competitorB', 'chain']\n",
    ")"
   ]
  },
  {
   "cell_type": "code",
   "execution_count": 6,
   "metadata": {
    "executionInfo": {
     "elapsed": 4771,
     "status": "ok",
     "timestamp": 1748509106083,
     "user": {
      "displayName": "Camila Dewes",
      "userId": "13076630737521809714"
     },
     "user_tz": -60
    },
    "id": "tr4mWN_Z_wmd"
   },
   "outputs": [],
   "source": [
    "# Para o Competitor B\n",
    "df_competitorB = create_features(\n",
    "    competitor='competitorB',\n",
    "    product_prices=product_prices,\n",
    "    chain_campaigns=chain_campaigns,\n",
    "    product_structures=product_structures,\n",
    "    other_competitors=['competitorA', 'chain']\n",
    ")"
   ]
  },
  {
   "cell_type": "code",
   "execution_count": 7,
   "metadata": {
    "executionInfo": {
     "elapsed": 30,
     "status": "ok",
     "timestamp": 1748509106112,
     "user": {
      "displayName": "Camila Dewes",
      "userId": "13076630737521809714"
     },
     "user_tz": -60
    },
    "id": "IWNvpO0pDFT5"
   },
   "outputs": [],
   "source": [
    "def additional_features(df, product_prices, current_competitor):\n",
    "    \"\"\"\n",
    "    Adiciona features avançadas de comparação de preços para qualquer competidor\n",
    "\n",
    "    Args:\n",
    "        df: DataFrame principal com dados do competidor atual\n",
    "        product_prices: DataFrame completo com preços de todos os concorrentes\n",
    "        current_competitor: Nome do competidor atual ('competitorA' ou 'competitorB')\n",
    "\n",
    "    Returns:\n",
    "        DataFrame com as novas features adicionadas\n",
    "    \"\"\"\n",
    "    # 1. Identifica os outros competidores automaticamente\n",
    "    all_competitors = product_prices['competitor'].unique()\n",
    "    other_competitors = [c for c in all_competitors if c != current_competitor and c in ['chain', 'competitorA', 'competitorB']]\n",
    "\n",
    "    # 2. Adiciona deltas para cada concorrente\n",
    "    for competitor in other_competitors:\n",
    "        col_name = f'pvp_was_{competitor}'\n",
    "        delta_col = f'delta_price_{competitor}'\n",
    "\n",
    "        # Ensure the competitor price column exists before calculating delta\n",
    "        if col_name in df.columns:\n",
    "            df[delta_col] = df['pvp_was'] - df[col_name]\n",
    "        else:\n",
    "            # Optionally, handle cases where competitor price column is missing\n",
    "            # print(f\"Warning: Column '{col_name}' not found in df. Skipping delta calculation for {competitor}.\")\n",
    "            pass # Or df[delta_col] = np.nan if you want the column\n",
    "\n",
    "    # 3. Lags de preço dos outros concorrentes\n",
    "    for competitor in other_competitors:\n",
    "        # Select data for the current competitor being processed\n",
    "        comp_data = product_prices[product_prices['competitor'] == competitor].copy()\n",
    "\n",
    "        # Ensure time_key is datetime and sort\n",
    "        comp_data['time_key'] = pd.to_datetime(comp_data['time_key'])\n",
    "        comp_data = comp_data.sort_values(['sku', 'time_key'])\n",
    "\n",
    "        # Calculate lags using transform\n",
    "        comp_data[f'lag1_price_{competitor}'] = comp_data.groupby('sku')['pvp_was'].transform(lambda x: x.shift(1))\n",
    "        comp_data[f'lag7_price_{competitor}'] = comp_data.groupby('sku')['pvp_was'].transform(lambda x: x.shift(7))\n",
    "\n",
    "        # Select only necessary columns for merging\n",
    "        lag_cols_to_merge = ['time_key', 'sku', f'lag1_price_{competitor}', f'lag7_price_{competitor}']\n",
    "\n",
    "        # Merge the calculated lags back to the main df\n",
    "        df = df.merge(comp_data[lag_cols_to_merge], on=['time_key', 'sku'], how='left')\n",
    "\n",
    "        # Calcula deltas temporais - ensure lag columns exist\n",
    "        if f'lag1_price_{competitor}' in df.columns:\n",
    "             df[f'delta_{competitor}_lag1'] = df['pvp_was'] - df[f'lag1_price_{competitor}']\n",
    "        else:\n",
    "             df[f'delta_{competitor}_lag1'] = np.nan # Or handle appropriately\n",
    "\n",
    "        if f'lag7_price_{competitor}' in df.columns:\n",
    "            df[f'delta_{competitor}_lag7'] = df['pvp_was'] - df[f'lag7_price_{competitor}']\n",
    "        else:\n",
    "            df[f'delta_{competitor}_lag7'] = np.nan # Or handle appropriately\n",
    "\n",
    "\n",
    "    # 4. Variáveis booleanas de posicionamento competitivo\n",
    "    comparison_cols = [f'pvp_was_{c}' for c in other_competitors if f'pvp_was_{c}' in df.columns]\n",
    "\n",
    "    if len(comparison_cols) > 0:\n",
    "        # Need to handle potential NaNs in comparison columns when calculating min/max\n",
    "        df['is_cheapest'] = (df['pvp_was'] < df[comparison_cols].min(axis=1)).astype(int)\n",
    "        df['is_most_expensive'] = (df['pvp_was'] > df[comparison_cols].max(axis=1)).astype(int)\n",
    "\n",
    "        for competitor in other_competitors:\n",
    "            col = f'pvp_was_{competitor}'\n",
    "            if col in df.columns:\n",
    "                # Need to handle potential NaNs in comparison column\n",
    "                df[f'is_cheaper_than_{competitor}'] = (df['pvp_was'] < df[col]).astype(int)\n",
    "\n",
    "    # 5. Calcula posição relativa (ranking)\n",
    "    if len(comparison_cols) > 0:\n",
    "        price_cols = ['pvp_was'] + comparison_cols\n",
    "         # Need to handle potential NaNs when ranking\n",
    "        df['price_rank'] = df[price_cols].rank(axis=1, method='min', na_option='bottom')['pvp_was'] # na_option handles NaNs\n",
    "\n",
    "    return df"
   ]
  },
  {
   "cell_type": "code",
   "execution_count": 8,
   "metadata": {
    "executionInfo": {
     "elapsed": 6756,
     "status": "ok",
     "timestamp": 1748509112916,
     "user": {
      "displayName": "Camila Dewes",
      "userId": "13076630737521809714"
     },
     "user_tz": -60
    },
    "id": "kGk0Gs9vE0j7"
   },
   "outputs": [],
   "source": [
    "# Para competitorA\n",
    "df_competitorA = additional_features(df_competitorA, product_prices, 'competitorA')"
   ]
  },
  {
   "cell_type": "code",
   "execution_count": 9,
   "metadata": {
    "executionInfo": {
     "elapsed": 5277,
     "status": "ok",
     "timestamp": 1748509118192,
     "user": {
      "displayName": "Camila Dewes",
      "userId": "13076630737521809714"
     },
     "user_tz": -60
    },
    "id": "WaPS3tAQE60i"
   },
   "outputs": [],
   "source": [
    "# Para competitorB\n",
    "df_competitorB = additional_features(df_competitorB, product_prices, 'competitorB')"
   ]
  },
  {
   "cell_type": "markdown",
   "metadata": {
    "id": "aQikayaPa5FB"
   },
   "source": [
    "## Dealing with NaN values"
   ]
  },
  {
   "cell_type": "code",
   "execution_count": 10,
   "metadata": {
    "colab": {
     "base_uri": "https://localhost:8080/"
    },
    "executionInfo": {
     "elapsed": 277,
     "status": "ok",
     "timestamp": 1748509118472,
     "user": {
      "displayName": "Camila Dewes",
      "userId": "13076630737521809714"
     },
     "user_tz": -60
    },
    "id": "BdBjJgbWdHZ-",
    "outputId": "99158007-7958-4c62-97cc-28c1e096a059"
   },
   "outputs": [
    {
     "name": "stdout",
     "output_type": "stream",
     "text": [
      "Competitor A: \n",
      "lag_7                        17551\n",
      "lag_14                       34399\n",
      "lag_30                       73763\n",
      "rolling_std_7                 2380\n",
      "rolling_std_14                2380\n",
      "rolling_std_30                2380\n",
      "pvp_was_competitorB        1011367\n",
      "delta_price_competitorB    1011367\n",
      "lag1_price_chain              1986\n",
      "lag7_price_chain             14291\n",
      "delta_chain_lag1              1986\n",
      "delta_chain_lag7             14291\n",
      "lag1_price_competitorB     1012018\n",
      "lag7_price_competitorB     1016330\n",
      "delta_competitorB_lag1     1012018\n",
      "delta_competitorB_lag7     1016330\n",
      "dtype: int64\n",
      "Competitor B: \n",
      "lag_7                       6952\n",
      "lag_14                     13236\n",
      "lag_30                     27465\n",
      "rolling_std_7                924\n",
      "rolling_std_14               924\n",
      "rolling_std_30               924\n",
      "pvp_was_competitorA        57532\n",
      "delta_price_competitorA    57532\n",
      "lag1_price_chain             554\n",
      "lag7_price_chain            3914\n",
      "delta_chain_lag1             554\n",
      "delta_chain_lag7            3914\n",
      "lag1_price_competitorA     57967\n",
      "lag7_price_competitorA     60812\n",
      "delta_competitorA_lag1     57967\n",
      "delta_competitorA_lag7     60812\n",
      "dtype: int64\n"
     ]
    }
   ],
   "source": [
    "def check_missing(df, name=\"\"):\n",
    "    missing = df.isnull().sum()\n",
    "    missing = missing[missing > 0]\n",
    "    if len(missing) == 0:\n",
    "        print(f\"{name}: Nenhum NaN encontrado!\")\n",
    "    else:\n",
    "        print(f\"{name}: \\n{missing}\")\n",
    "\n",
    "check_missing(df_competitorA, \"Competitor A\")\n",
    "check_missing(df_competitorB, \"Competitor B\")"
   ]
  },
  {
   "cell_type": "code",
   "execution_count": 11,
   "metadata": {
    "executionInfo": {
     "elapsed": 40,
     "status": "ok",
     "timestamp": 1748509118509,
     "user": {
      "displayName": "Camila Dewes",
      "userId": "13076630737521809714"
     },
     "user_tz": -60
    },
    "id": "8uzW5GigMM-T"
   },
   "outputs": [],
   "source": [
    "def handle_missing_values_ffill(df_competitorA, df_competitorB, product_prices):\n",
    "    \"\"\"\n",
    "    Preenche NaN nos preços de concorrentes com o último valor conhecido (forward fill)\n",
    "    e remove flags de imputação.\n",
    "    \"\"\"\n",
    "    # Dicionário para processamento em lote\n",
    "    dfs = {'competitorA': df_competitorA, 'competitorB': df_competitorB}\n",
    "\n",
    "    for name, df in dfs.items():\n",
    "        current_comp = name  # 'competitorA' ou 'competitorB'\n",
    "        other_comp = 'competitorB' if current_comp == 'competitorA' else 'competitorA'\n",
    "\n",
    "        # 1. Forward fill para preços de concorrentes (ordena por time_key primeiro)\n",
    "        df.sort_values(['sku', 'time_key'], inplace=True)\n",
    "\n",
    "        for competitor in ['chain', other_comp]:\n",
    "            col = f'pvp_was_{competitor}'\n",
    "            if col in df.columns:\n",
    "                # FFill por SKU (último valor conhecido do mesmo produto)\n",
    "                df[col] = df.groupby('sku')[col].ffill()\n",
    "\n",
    "                # Se ainda houver NaN (produtos sem histórico), preenche com a média global\n",
    "                global_avg = product_prices[product_prices['competitor'] == competitor]['pvp_was'].mean()\n",
    "                df[col] = df[col].fillna(global_avg)\n",
    "\n",
    "        # 2. Lags próprios (forward fill)\n",
    "        for lag in [7, 14, 30]:\n",
    "            df[f'lag_{lag}'] = df.groupby('sku')[f'lag_{lag}'].ffill()\n",
    "\n",
    "        # 3. Rolling statistics (preenche com a média móvel)\n",
    "        for window in [7, 14, 30]:\n",
    "            roll_col = f'rolling_std_{window}'\n",
    "            df[roll_col] = df.groupby('sku')[roll_col].transform(\n",
    "                lambda x: x.fillna(x.rolling(window, min_periods=1).std()))\n",
    "\n",
    "        # 4. Recalcula todos os deltas\n",
    "        delta_pairs = [\n",
    "            (f'delta_price_{other_comp}', f'pvp_was_{other_comp}'),\n",
    "            ('delta_price_chain', 'pvp_was_chain'),\n",
    "            (f'delta_{other_comp}_lag1', f'lag1_price_{other_comp}'),\n",
    "            (f'delta_{other_comp}_lag7', f'lag7_price_{other_comp}'),\n",
    "            ('delta_chain_lag1', 'lag1_price_chain'),\n",
    "            ('delta_chain_lag7', 'lag7_price_chain')\n",
    "        ]\n",
    "\n",
    "        for delta_col, price_col in delta_pairs:\n",
    "            if delta_col in df.columns and price_col in df.columns:\n",
    "                df[delta_col] = df['pvp_was'] - df[price_col]\n",
    "\n",
    "        # 5. Remove colunas de flag de imputação se existirem\n",
    "        imputed_cols = [col for col in df.columns if '_imputed' in col]\n",
    "        df.drop(columns=imputed_cols, errors='ignore', inplace=True)\n",
    "\n",
    "        # 6. Preenchimento final residual com 0 (apenas para features calculadas)\n",
    "        numeric_cols = df.select_dtypes(include=[np.number]).columns\n",
    "        df[numeric_cols] = df[numeric_cols].fillna(0)\n",
    "\n",
    "        # Atualiza o DataFrame\n",
    "        dfs[name] = df\n",
    "\n",
    "    return dfs['competitorA'], dfs['competitorB']"
   ]
  },
  {
   "cell_type": "code",
   "execution_count": 12,
   "metadata": {
    "executionInfo": {
     "elapsed": 8995,
     "status": "ok",
     "timestamp": 1748509127502,
     "user": {
      "displayName": "Camila Dewes",
      "userId": "13076630737521809714"
     },
     "user_tz": -60
    },
    "id": "ZFv9QA-deD-2"
   },
   "outputs": [],
   "source": [
    "df_competitorA_clean, df_competitorB_clean = handle_missing_values_ffill(df_competitorA, df_competitorB, product_prices)"
   ]
  },
  {
   "cell_type": "code",
   "execution_count": 15,
   "metadata": {
    "colab": {
     "base_uri": "https://localhost:8080/"
    },
    "executionInfo": {
     "elapsed": 433,
     "status": "ok",
     "timestamp": 1748455216164,
     "user": {
      "displayName": "Camila Dewes",
      "userId": "13076630737521809714"
     },
     "user_tz": -60
    },
    "id": "H1i9K02HeKW4",
    "outputId": "762413e6-3b97-4558-9e17-0eb87b28e79e"
   },
   "outputs": [
    {
     "name": "stdout",
     "output_type": "stream",
     "text": [
      "Competitor A: Nenhum NaN encontrado!\n",
      "Competitor B: Nenhum NaN encontrado!\n"
     ]
    }
   ],
   "source": [
    "def check_missing(df, name=\"\"):\n",
    "    missing = df.isnull().sum()\n",
    "    missing = missing[missing > 0]\n",
    "    if len(missing) == 0:\n",
    "        print(f\"{name}: Nenhum NaN encontrado!\")\n",
    "    else:\n",
    "        print(f\"{name}: \\n{missing}\")\n",
    "\n",
    "check_missing(df_competitorA_clean, \"Competitor A\")\n",
    "check_missing(df_competitorA_clean, \"Competitor B\")"
   ]
  },
  {
   "cell_type": "markdown",
   "metadata": {
    "id": "uqPqbSl6K-1x"
   },
   "source": [
    "# 🚀 Model testing"
   ]
  },
  {
   "cell_type": "code",
   "execution_count": 13,
   "metadata": {
    "executionInfo": {
     "elapsed": 216,
     "status": "ok",
     "timestamp": 1748509127723,
     "user": {
      "displayName": "Camila Dewes",
      "userId": "13076630737521809714"
     },
     "user_tz": -60
    },
    "id": "xKrfJPaDTW89"
   },
   "outputs": [],
   "source": [
    "df_competitorA_clean = df_competitorA_clean.drop(columns='competitor')\n",
    "df_competitorB_clean = df_competitorB_clean.drop(columns='competitor')"
   ]
  },
  {
   "cell_type": "code",
   "execution_count": 14,
   "metadata": {
    "executionInfo": {
     "elapsed": 1149,
     "status": "ok",
     "timestamp": 1748509128876,
     "user": {
      "displayName": "Camila Dewes",
      "userId": "13076630737521809714"
     },
     "user_tz": -60
    },
    "id": "aTDa16V3QqXN"
   },
   "outputs": [],
   "source": [
    "df_competitorA_clean = df_competitorA_clean.sort_values(['time_key', 'sku'])\n",
    "df_competitorB_clean = df_competitorB_clean.sort_values(['time_key', 'sku'])"
   ]
  },
  {
   "cell_type": "code",
   "execution_count": null,
   "metadata": {
    "executionInfo": {
     "elapsed": 917,
     "status": "ok",
     "timestamp": 1748509159638,
     "user": {
      "displayName": "Camila Dewes",
      "userId": "13076630737521809714"
     },
     "user_tz": -60
    },
    "id": "KafUfemJeF_p"
   },
   "outputs": [],
   "source": [
    "from sklearn.model_selection import train_test_split\n",
    "\n",
    "# For competitorA\n",
    "features_A = [col for col in df_competitorA_clean.columns\n",
    "            if col not in ['time_key', 'pvp_was', 'sku', \n",
    "                           # 'rolling_mean_1', 'rolling_mean_7', 'rolling_mean_14', 'rolling_mean_30',\n",
    "                           # lag_7', 'lag_14', 'lag_30'\n",
    "                            ]]\n",
    "X_A = df_competitorA_clean[features_A]\n",
    "y_A = df_competitorA_clean['pvp_was']\n",
    "\n",
    "X_train_A, X_valid_A, y_train_A, y_valid_A = train_test_split(\n",
    "    X_A, y_A, test_size=0.2, shuffle=False)\n",
    "\n",
    "\n",
    "# For competitorB\n",
    "features_B = [col for col in df_competitorB_clean.columns\n",
    "            if col not in ['time_key', 'pvp_was', 'sku', \n",
    "                           # 'rolling_mean_1', 'rolling_mean_7', 'rolling_mean_14', 'rolling_mean_30',\n",
    "                           # 'lag_7', 'lag_14', 'lag_30'\n",
    "                           ]]\n",
    "\n",
    "X_B = df_competitorB_clean[features_B]\n",
    "y_B = df_competitorB_clean['pvp_was']\n",
    "\n",
    "X_train_B, X_valid_B, y_train_B, y_valid_B = train_test_split(\n",
    "    X_B, y_B, test_size=0.2, shuffle=False)"
   ]
  },
  {
   "cell_type": "markdown",
   "metadata": {
    "id": "TL1pJOwlpkXw"
   },
   "source": [
    "### 💡 LightGBM"
   ]
  },
  {
   "cell_type": "code",
   "execution_count": 17,
   "metadata": {
    "colab": {
     "base_uri": "https://localhost:8080/"
    },
    "executionInfo": {
     "elapsed": 152360,
     "status": "ok",
     "timestamp": 1748509314688,
     "user": {
      "displayName": "Camila Dewes",
      "userId": "13076630737521809714"
     },
     "user_tz": -60
    },
    "id": "FUruw0DCMmRF",
    "outputId": "ace31589-399b-4cbc-d060-ffccdd6a1181"
   },
   "outputs": [
    {
     "name": "stdout",
     "output_type": "stream",
     "text": [
      "Training until validation scores don't improve for 50 rounds\n",
      "Did not meet early stopping. Best iteration is:\n",
      "[1000]\ttraining's l1: 0.108235\tvalid_1's l1: 0.321805\n",
      "[LightGBM A] MAE: 0.32 | MAPE: 0.42%\n"
     ]
    }
   ],
   "source": [
    "# For competitorA\n",
    "import lightgbm as lgb\n",
    "from sklearn.metrics import mean_absolute_error, mean_absolute_percentage_error\n",
    "import matplotlib.pyplot as plt\n",
    "\n",
    "# Dataset para LightGBM\n",
    "train_data = lgb.Dataset(X_train_A, label=y_train_A)\n",
    "valid_data = lgb.Dataset(X_valid_A, label=y_valid_A)\n",
    "\n",
    "# Parâmetros básicos\n",
    "params = {\n",
    "    'objective': 'regression',\n",
    "    'metric': 'mae',\n",
    "    'learning_rate': 0.05,\n",
    "    'num_leaves': 31,\n",
    "    'verbose': -1,\n",
    "    'random_state': 42\n",
    "}\n",
    "\n",
    "# Treinamento com early stopping\n",
    "# Use the new callbacks API for early stopping\n",
    "modelA = lgb.train(\n",
    "    params,\n",
    "    train_data,\n",
    "    valid_sets=[train_data, valid_data],\n",
    "    num_boost_round=1000,\n",
    "    callbacks=[lgb.early_stopping(stopping_rounds=50, verbose=True)], # Use the new callback\n",
    "    # verbose_eval=100 # Removed this argument\n",
    ")\n",
    "\n",
    "# Previsão e avaliação\n",
    "y_pred_lgb_A = modelA.predict(X_valid_A)\n",
    "mae = mean_absolute_error(y_valid_A, y_pred_lgb_A)\n",
    "mape = mean_absolute_percentage_error(y_valid_A, y_pred_lgb_A)\n",
    "\n",
    "print(f\"[LightGBM A] MAE: {mae:.2f} | MAPE: {mape:.2%}\")"
   ]
  },
  {
   "cell_type": "code",
   "execution_count": 18,
   "metadata": {
    "colab": {
     "base_uri": "https://localhost:8080/"
    },
    "executionInfo": {
     "elapsed": 41245,
     "status": "ok",
     "timestamp": 1748509355937,
     "user": {
      "displayName": "Camila Dewes",
      "userId": "13076630737521809714"
     },
     "user_tz": -60
    },
    "id": "UScOw2SrsIM9",
    "outputId": "0f87b776-1527-4618-e4e9-5ea42b8e58ce"
   },
   "outputs": [
    {
     "name": "stdout",
     "output_type": "stream",
     "text": [
      "Training until validation scores don't improve for 50 rounds\n",
      "Did not meet early stopping. Best iteration is:\n",
      "[1000]\ttraining's l1: 0.095008\tvalid_1's l1: 2.73842\n",
      "[LightGBM B] MAE: 2.74 | MAPE: 0.95%\n"
     ]
    }
   ],
   "source": [
    "# For competitorB\n",
    "\n",
    "# Dataset para LightGBM\n",
    "train_data = lgb.Dataset(X_train_B, label=y_train_B)\n",
    "valid_data = lgb.Dataset(X_valid_B, label=y_valid_B)\n",
    "\n",
    "# Parâmetros básicos\n",
    "params = {\n",
    "    'objective': 'regression',\n",
    "    'metric': 'mae',\n",
    "    'learning_rate': 0.05,\n",
    "    'num_leaves': 31,\n",
    "    'verbose': -1,\n",
    "    'random_state': 42\n",
    "}\n",
    "\n",
    "# Treinamento com early stopping\n",
    "# Use the new callbacks API for early stopping\n",
    "modelB = lgb.train(\n",
    "    params,\n",
    "    train_data,\n",
    "    valid_sets=[train_data, valid_data],\n",
    "    num_boost_round=1000,\n",
    "    callbacks=[lgb.early_stopping(stopping_rounds=50, verbose=True)], # Use the new callback\n",
    "    # verbose_eval=100 # Removed this argument\n",
    ")\n",
    "\n",
    "# Previsão e avaliação\n",
    "y_pred_lgb_B = modelB.predict(X_valid_B)\n",
    "mae = mean_absolute_error(y_valid_B, y_pred_lgb_B)\n",
    "mape = mean_absolute_percentage_error(y_valid_B, y_pred_lgb_B)\n",
    "\n",
    "print(f\"[LightGBM B] MAE: {mae:.2f} | MAPE: {mape:.2%}\")"
   ]
  },
  {
   "cell_type": "code",
   "execution_count": 19,
   "metadata": {
    "colab": {
     "base_uri": "https://localhost:8080/"
    },
    "executionInfo": {
     "elapsed": 10,
     "status": "ok",
     "timestamp": 1748509355951,
     "user": {
      "displayName": "Camila Dewes",
      "userId": "13076630737521809714"
     },
     "user_tz": -60
    },
    "id": "fsnDdJqzQggp",
    "outputId": "a2375734-b6f3-44c5-dbfe-84dae95d8ecb"
   },
   "outputs": [
    {
     "name": "stdout",
     "output_type": "stream",
     "text": [
      "Data types for Competitor A saved to: /content/Adtypes.pickle\n"
     ]
    }
   ],
   "source": [
    "import pickle\n",
    "import os\n",
    "# Get the current working directory\n",
    "current_dir = os.getcwd()\n",
    "\n",
    "# Define the full paths for saving the dtypes files\n",
    "A_path = os.path.join(current_dir, 'Adtypes.pickle')\n",
    "\n",
    "# Create dtypes.pickle for A\n",
    "dtypes_A = X_train_A.dtypes.to_dict()\n",
    "with open(A_path, 'wb') as f:\n",
    "    pickle.dump(dtypes_A, f)\n",
    "\n",
    "print(f\"Data types for Competitor A saved to: {A_path}\")"
   ]
  },
  {
   "cell_type": "code",
   "execution_count": null,
   "metadata": {},
   "outputs": [],
   "source": [
    "# Get the current working directory\n",
    "current_dir = os.getcwd()\n",
    "\n",
    "# Define the full paths for saving the dtypes files\n",
    "B_path = os.path.join(current_dir, 'Bdtypes.pickle')\n",
    "\n",
    "# Create dtypes.pickle for A\n",
    "dtypes_B = X_train_B.dtypes.to_dict()\n",
    "with open(B_path, 'wb') as f:\n",
    "    pickle.dump(dtypes_B, f)\n",
    "\n",
    "print(f\"Data types for Competitor B saved to: {B_path}\")"
   ]
  },
  {
   "cell_type": "code",
   "execution_count": null,
   "metadata": {
    "colab": {
     "base_uri": "https://localhost:8080/"
    },
    "executionInfo": {
     "elapsed": 25116,
     "status": "ok",
     "timestamp": 1748509710158,
     "user": {
      "displayName": "Camila Dewes",
      "userId": "13076630737521809714"
     },
     "user_tz": -60
    },
    "id": "3f0OTyb-SEz2",
    "outputId": "283ad7d3-a1e5-4d54-bac1-b1d530dfc206"
   },
   "outputs": [
    {
     "name": "stderr",
     "output_type": "stream",
     "text": [
      "<ipython-input-23-5717676d3adc>:99: DeprecationWarning: is_categorical_dtype is deprecated and will be removed in a future version. Use isinstance(dtype, pd.CategoricalDtype) instead\n",
      "  if pd.api.types.is_categorical_dtype(dtype):\n",
      "<ipython-input-23-5717676d3adc>:99: DeprecationWarning: is_categorical_dtype is deprecated and will be removed in a future version. Use isinstance(dtype, pd.CategoricalDtype) instead\n",
      "  if pd.api.types.is_categorical_dtype(dtype):\n"
     ]
    },
    {
     "name": "stdout",
     "output_type": "stream",
     "text": [
      "[2024-11-04] Preço previsto para SKU 4250: 4.87\n"
     ]
    },
    {
     "name": "stderr",
     "output_type": "stream",
     "text": [
      "<ipython-input-23-5717676d3adc>:99: DeprecationWarning: is_categorical_dtype is deprecated and will be removed in a future version. Use isinstance(dtype, pd.CategoricalDtype) instead\n",
      "  if pd.api.types.is_categorical_dtype(dtype):\n",
      "<ipython-input-23-5717676d3adc>:99: DeprecationWarning: is_categorical_dtype is deprecated and will be removed in a future version. Use isinstance(dtype, pd.CategoricalDtype) instead\n",
      "  if pd.api.types.is_categorical_dtype(dtype):\n"
     ]
    },
    {
     "name": "stdout",
     "output_type": "stream",
     "text": [
      "[2024-11-11] Preço previsto para SKU 4250: 4.87\n",
      "[2024-11-27] Preço previsto para SKU 4250: 4.87\n"
     ]
    },
    {
     "name": "stderr",
     "output_type": "stream",
     "text": [
      "<ipython-input-23-5717676d3adc>:99: DeprecationWarning: is_categorical_dtype is deprecated and will be removed in a future version. Use isinstance(dtype, pd.CategoricalDtype) instead\n",
      "  if pd.api.types.is_categorical_dtype(dtype):\n",
      "<ipython-input-23-5717676d3adc>:99: DeprecationWarning: is_categorical_dtype is deprecated and will be removed in a future version. Use isinstance(dtype, pd.CategoricalDtype) instead\n",
      "  if pd.api.types.is_categorical_dtype(dtype):\n"
     ]
    }
   ],
   "source": [
    "def generate_features_for_api(sku, target_date, product_prices, chain_campaigns, product_structures, competitor, original_dtypes):\n",
    "    \"\"\"\n",
    "    Gera features para predição com base em sku e data futura.\n",
    "    Usa como referência o histórico até a última data conhecida.\n",
    "    Inclui lógica para alinhar colunas e dtypes com os dados de treino.\n",
    "    \"\"\"\n",
    "    import pandas as pd\n",
    "    import holidays\n",
    "    import numpy as np # Import numpy for fillna\n",
    "\n",
    "    target_date = pd.to_datetime(target_date)\n",
    "    # Última data com dados disponíveis\n",
    "    last_obs_date = product_prices['time_key'].max()\n",
    "\n",
    "    # Filtrar histórico do SKU até a última data conhecida\n",
    "    history = product_prices[\n",
    "        (product_prices['sku'] == sku) &\n",
    "        (product_prices['time_key'] <= last_obs_date) &\n",
    "        (product_prices['competitor'] == competitor)\n",
    "    ].copy()\n",
    "\n",
    "    if history.empty:\n",
    "        # If no history, create a base row with essential info and NaNs for pvp_was\n",
    "        row = {\n",
    "            'sku': sku,\n",
    "            'time_key': target_date,\n",
    "            'competitor': competitor,\n",
    "            'leaflet': None,\n",
    "            'pvp_was': np.nan # Need pvp_was for time series features, will be NaN for future\n",
    "        }\n",
    "        df_target = pd.DataFrame([row])\n",
    "        # Concatenate an empty history with the target row to ensure functions work\n",
    "        df_all = pd.concat([history, df_target], ignore_index=True)\n",
    "    else:\n",
    "         history = history.sort_values('time_key')\n",
    "         # Linha fictícia para previsão futura\n",
    "         row = {\n",
    "             'sku': sku,\n",
    "             'time_key': target_date,\n",
    "             'competitor': competitor,\n",
    "             'leaflet': None, # Assuming leaflet info might not be available for future\n",
    "             'pvp_was': np.nan # Target value for the future is unknown\n",
    "         }\n",
    "         df_target = pd.DataFrame([row])\n",
    "         # Concatenate history with line for future date\n",
    "         df_all = pd.concat([history, df_target], ignore_index=True)\n",
    "\n",
    "\n",
    "    # Add temporary 'pvp_was' column if missing for feature engineering\n",
    "    if 'pvp_was' not in df_all.columns:\n",
    "         df_all['pvp_was'] = np.nan # Add as NaN, will be dropped later\n",
    "\n",
    "    # Apply feature engineering functions\n",
    "    # Ensure time_key is datetime\n",
    "    df_all['time_key'] = pd.to_datetime(df_all['time_key'])\n",
    "    df_all = df_all.sort_values(['sku', 'time_key']) # Re-sort after concat\n",
    "\n",
    "    # Call the feature engineering functions sequentially\n",
    "    df_all = add_temporal_features(df_all)\n",
    "    df_all = add_product_category(df_all, product_structures)\n",
    "    df_all = add_campaign_features(df_all, chain_campaigns, competitor)\n",
    "\n",
    "    # Handle potential NaNs in leaflet BEFORE encoding\n",
    "    # Fill with a placeholder that will be mapped to 0 or NaN\n",
    "    df_all['leaflet'] = df_all['leaflet'].fillna('unknown') # Use 'unknown' or similar\n",
    "\n",
    "    df_all = encode_leaflet(df_all)\n",
    "\n",
    "    df_all = add_time_series_features(df_all)\n",
    "    df_all = add_competitor_prices(df_all, product_prices, ['chain', 'competitorA', 'competitorB'])\n",
    "    df_all = additional_features(df_all, product_prices, current_competitor=competitor)\n",
    "\n",
    "    # Filter to get only the target date row\n",
    "    df_pred = df_all[df_all['time_key'] == target_date].copy()\n",
    "\n",
    "    # Apply missing value handling (simplified for a single row prediction)\n",
    "    # For a single future row, ffill doesn't make sense without preceding data.\n",
    "    # We should fill NaNs in the prediction row with a sensible value, e.g., 0 or mean from training data.\n",
    "    # Given your original ffill logic, filling remaining NaNs with 0 seems reasonable for new data points.\n",
    "    numeric_cols = df_pred.select_dtypes(include=[np.number]).columns\n",
    "    df_pred[numeric_cols] = df_pred[numeric_cols].fillna(0)\n",
    "\n",
    "\n",
    "    # Align columns and dtypes with the training data\n",
    "    # Drop columns not in original training data\n",
    "    cols_to_keep = original_dtypes.keys()\n",
    "    df_pred = df_pred[[col for col in df_pred.columns if col in cols_to_keep]]\n",
    "\n",
    "    # Reindex to match original training data columns order\n",
    "    df_pred = df_pred.reindex(columns=cols_to_keep)\n",
    "\n",
    "    # Convert dtypes to match original training data\n",
    "    for col, dtype in original_dtypes.items():\n",
    "        if col in df_pred.columns:\n",
    "             if pd.api.types.is_categorical_dtype(dtype):\n",
    "                 # Handle categorical data - need to ensure categories are the same\n",
    "                 # For prediction, we can use the categories from the training data\n",
    "                 # Assuming dtypes dictionary was created after OHE or cat conversion\n",
    "                 # If original_dtypes saves 'category', need the actual categories\n",
    "                 # A simpler approach is to rely on LightGBM's handling if the dtype is 'category'\n",
    "                 # Ensure the column is indeed 'category' dtype\n",
    "                 df_pred[col] = df_pred[col].astype(dtype) # This will raise error if new category is present\n",
    "             else:\n",
    "                 df_pred[col] = df_pred[col].astype(dtype)\n",
    "\n",
    "    # Drop target and identifier columns used during feature creation but not for prediction\n",
    "    final_drop_cols = ['pvp_was', 'time_key', 'sku', 'competitor']\n",
    "    df_pred = df_pred.drop(columns=[col for col in final_drop_cols if col in df_pred.columns], errors='ignore')\n",
    "\n",
    "\n",
    "    return df_pred\n",
    "\n",
    "# Load the dtypes for Competitor A's training data\n",
    "try:\n",
    "    # Get the current working directory to find the pickle file\n",
    "    current_dir = os.getcwd()\n",
    "    A_dtypes_path = os.path.join(current_dir, 'Adtypes.pickle')\n",
    "    with open(A_dtypes_path, 'rb') as f:\n",
    "        original_dtypes_A = pickle.load(f)\n",
    "except FileNotFoundError:\n",
    "    print(\"Error: 'Adtypes.pickle' not found. Please ensure it exists.\")\n",
    "    original_dtypes_A = None # Handle case where file is missing\n",
    "\n",
    "# Run the prediction loop using the modified function\n",
    "if original_dtypes_A is not None:\n",
    "    for date in future_dates:\n",
    "        X_input = generate_features_for_api(\n",
    "            sku=sku_sample,\n",
    "            target_date=date,\n",
    "            product_prices=product_prices,\n",
    "            chain_campaigns=chain_campaigns,\n",
    "            product_structures=product_structures,\n",
    "            competitor='competitorA',\n",
    "            original_dtypes=original_dtypes_A # Pass the original dtypes\n",
    "        )\n",
    "\n",
    "        if X_input is not None and not X_input.empty:\n",
    "            try:\n",
    "                y_pred = modelA.predict(X_input)[0]\n",
    "                print(f\"[{date.date()}] Preço previsto para SKU {sku_sample}: {y_pred:.2f}\")\n",
    "            except Exception as e:\n",
    "                print(f\"Error during prediction for date {date.date()}: {e}\")\n",
    "                print(\"X_input columns:\", X_input.columns.tolist())\n",
    "                print(\"X_input dtypes:\", X_input.dtypes.to_dict())\n",
    "                print(\"ModelA expected features:\", modelA.feature_name())\n",
    "                print(\"ModelA expected dtypes:\", modelA.feature_dtype())\n",
    "\n",
    "        else:\n",
    "            print(f\"[{date.date()}] Não foi possível gerar predição para SKU {sku_sample} ou input dataframe é vazio.\")"
   ]
  },
  {
   "cell_type": "code",
   "execution_count": 25,
   "metadata": {
    "executionInfo": {
     "elapsed": 3,
     "status": "ok",
     "timestamp": 1748510681332,
     "user": {
      "displayName": "Camila Dewes",
      "userId": "13076630737521809714"
     },
     "user_tz": -60
    },
    "id": "THr1Cr0OW1tX"
   },
   "outputs": [],
   "source": [
    "skus_para_testar = df_competitorA_clean['sku'].value_counts().head(5).index.tolist()"
   ]
  },
  {
   "cell_type": "code",
   "execution_count": null,
   "metadata": {
    "id": "pv_T_RtxXEDN"
   },
   "outputs": [],
   "source": [
    "df_preds = pd.DataFrame(results)"
   ]
  },
  {
   "cell_type": "markdown",
   "metadata": {
    "id": "JPYXwxtxnc9o"
   },
   "source": [
    "#### Trabalhando em price_predictions.csv"
   ]
  },
  {
   "cell_type": "code",
   "execution_count": 27,
   "metadata": {
    "colab": {
     "base_uri": "https://localhost:8080/",
     "height": 0
    },
    "collapsed": true,
    "executionInfo": {
     "elapsed": 284,
     "status": "ok",
     "timestamp": 1748515078035,
     "user": {
      "displayName": "Camila Dewes",
      "userId": "13076630737521809714"
     },
     "user_tz": -60
    },
    "id": "cDJTQQ9EncY7",
    "outputId": "27ae89f6-6aaf-440d-f384-5b2bdaf1f0fc"
   },
   "outputs": [
    {
     "data": {
      "application/vnd.google.colaboratory.intrinsic+json": {
       "summary": "{\n  \"name\": \"new_data\",\n  \"rows\": 1004,\n  \"fields\": [\n    {\n      \"column\": \"id\",\n      \"properties\": {\n        \"dtype\": \"number\",\n        \"std\": 289,\n        \"min\": 1,\n        \"max\": 1004,\n        \"num_unique_values\": 1004,\n        \"samples\": [\n          927,\n          631,\n          683\n        ],\n        \"semantic_type\": \"\",\n        \"description\": \"\"\n      }\n    },\n    {\n      \"column\": \"sku\",\n      \"properties\": {\n        \"dtype\": \"category\",\n        \"num_unique_values\": 313,\n        \"samples\": [\n          \"4530\",\n          \"2188\",\n          \"4312\"\n        ],\n        \"semantic_type\": \"\",\n        \"description\": \"\"\n      }\n    },\n    {\n      \"column\": \"time_key\",\n      \"properties\": {\n        \"dtype\": \"number\",\n        \"std\": 655,\n        \"min\": 20230501,\n        \"max\": 20250501,\n        \"num_unique_values\": 65,\n        \"samples\": [\n          20241224,\n          20241108,\n          20230501\n        ],\n        \"semantic_type\": \"\",\n        \"description\": \"\"\n      }\n    },\n    {\n      \"column\": \"pvp_is_competitorA\",\n      \"properties\": {\n        \"dtype\": \"number\",\n        \"std\": 28.75835146585106,\n        \"min\": 50.0,\n        \"max\": 149.0,\n        \"num_unique_values\": 100,\n        \"samples\": [\n          84.0,\n          50.0,\n          149.0\n        ],\n        \"semantic_type\": \"\",\n        \"description\": \"\"\n      }\n    },\n    {\n      \"column\": \"pvp_is_competitorB\",\n      \"properties\": {\n        \"dtype\": \"number\",\n        \"std\": 28.265143913599246,\n        \"min\": 60.0,\n        \"max\": 159.0,\n        \"num_unique_values\": 100,\n        \"samples\": [\n          116.0,\n          124.0,\n          91.0\n        ],\n        \"semantic_type\": \"\",\n        \"description\": \"\"\n      }\n    },\n    {\n      \"column\": \"pvp_is_competitorA_actual\",\n      \"properties\": {\n        \"dtype\": \"number\",\n        \"std\": 51.0434560183633,\n        \"min\": 4.34,\n        \"max\": 468.46,\n        \"num_unique_values\": 129,\n        \"samples\": [\n          60.58,\n          88.35,\n          25.17\n        ],\n        \"semantic_type\": \"\",\n        \"description\": \"\"\n      }\n    },\n    {\n      \"column\": \"pvp_is_competitorB_actual\",\n      \"properties\": {\n        \"dtype\": \"number\",\n        \"std\": 51.84499540738009,\n        \"min\": 4.17,\n        \"max\": 468.47,\n        \"num_unique_values\": 129,\n        \"samples\": [\n          15.27,\n          62.31,\n          25.17\n        ],\n        \"semantic_type\": \"\",\n        \"description\": \"\"\n      }\n    },\n    {\n      \"column\": \"created_at\",\n      \"properties\": {\n        \"dtype\": \"object\",\n        \"num_unique_values\": 1004,\n        \"samples\": [\n          \"2025-05-26 21:25:41.207976\",\n          \"2025-05-26 21:09:18.836476\",\n          \"2025-05-26 21:12:11.415672\"\n        ],\n        \"semantic_type\": \"\",\n        \"description\": \"\"\n      }\n    }\n  ]\n}",
       "type": "dataframe",
       "variable_name": "new_data"
      },
      "text/html": [
       "\n",
       "  <div id=\"df-141dac4f-0aeb-4418-b3c7-df1ac85a8059\" class=\"colab-df-container\">\n",
       "    <div>\n",
       "<style scoped>\n",
       "    .dataframe tbody tr th:only-of-type {\n",
       "        vertical-align: middle;\n",
       "    }\n",
       "\n",
       "    .dataframe tbody tr th {\n",
       "        vertical-align: top;\n",
       "    }\n",
       "\n",
       "    .dataframe thead th {\n",
       "        text-align: right;\n",
       "    }\n",
       "</style>\n",
       "<table border=\"1\" class=\"dataframe\">\n",
       "  <thead>\n",
       "    <tr style=\"text-align: right;\">\n",
       "      <th></th>\n",
       "      <th>id</th>\n",
       "      <th>sku</th>\n",
       "      <th>time_key</th>\n",
       "      <th>pvp_is_competitorA</th>\n",
       "      <th>pvp_is_competitorB</th>\n",
       "      <th>pvp_is_competitorA_actual</th>\n",
       "      <th>pvp_is_competitorB_actual</th>\n",
       "      <th>created_at</th>\n",
       "    </tr>\n",
       "  </thead>\n",
       "  <tbody>\n",
       "    <tr>\n",
       "      <th>0</th>\n",
       "      <td>1</td>\n",
       "      <td>1173</td>\n",
       "      <td>20230501</td>\n",
       "      <td>123.0</td>\n",
       "      <td>77.0</td>\n",
       "      <td>99.99</td>\n",
       "      <td>99.99</td>\n",
       "      <td>2025-05-26 17:34:10.781955</td>\n",
       "    </tr>\n",
       "    <tr>\n",
       "      <th>1</th>\n",
       "      <td>2</td>\n",
       "      <td>sku_errado</td>\n",
       "      <td>20230501</td>\n",
       "      <td>132.0</td>\n",
       "      <td>108.0</td>\n",
       "      <td>99.99</td>\n",
       "      <td>99.99</td>\n",
       "      <td>2025-05-26 17:35:37.572521</td>\n",
       "    </tr>\n",
       "    <tr>\n",
       "      <th>2</th>\n",
       "      <td>3</td>\n",
       "      <td>123</td>\n",
       "      <td>20230501</td>\n",
       "      <td>107.0</td>\n",
       "      <td>76.0</td>\n",
       "      <td>NaN</td>\n",
       "      <td>NaN</td>\n",
       "      <td>2025-05-26 17:53:42.726221</td>\n",
       "    </tr>\n",
       "    <tr>\n",
       "      <th>3</th>\n",
       "      <td>4</td>\n",
       "      <td>1175</td>\n",
       "      <td>20250501</td>\n",
       "      <td>146.0</td>\n",
       "      <td>153.0</td>\n",
       "      <td>NaN</td>\n",
       "      <td>NaN</td>\n",
       "      <td>2025-05-26 17:55:01.332724</td>\n",
       "    </tr>\n",
       "    <tr>\n",
       "      <th>4</th>\n",
       "      <td>6</td>\n",
       "      <td>2506</td>\n",
       "      <td>20241107</td>\n",
       "      <td>74.0</td>\n",
       "      <td>120.0</td>\n",
       "      <td>34.54</td>\n",
       "      <td>34.54</td>\n",
       "      <td>2025-05-26 20:00:12.085541</td>\n",
       "    </tr>\n",
       "    <tr>\n",
       "      <th>...</th>\n",
       "      <td>...</td>\n",
       "      <td>...</td>\n",
       "      <td>...</td>\n",
       "      <td>...</td>\n",
       "      <td>...</td>\n",
       "      <td>...</td>\n",
       "      <td>...</td>\n",
       "      <td>...</td>\n",
       "    </tr>\n",
       "    <tr>\n",
       "      <th>999</th>\n",
       "      <td>1000</td>\n",
       "      <td>4667</td>\n",
       "      <td>20241225</td>\n",
       "      <td>136.0</td>\n",
       "      <td>71.0</td>\n",
       "      <td>NaN</td>\n",
       "      <td>NaN</td>\n",
       "      <td>2025-05-26 21:29:43.605987</td>\n",
       "    </tr>\n",
       "    <tr>\n",
       "      <th>1000</th>\n",
       "      <td>1001</td>\n",
       "      <td>3553</td>\n",
       "      <td>20241204</td>\n",
       "      <td>66.0</td>\n",
       "      <td>68.0</td>\n",
       "      <td>NaN</td>\n",
       "      <td>NaN</td>\n",
       "      <td>2025-05-26 21:29:46.806407</td>\n",
       "    </tr>\n",
       "    <tr>\n",
       "      <th>1001</th>\n",
       "      <td>1002</td>\n",
       "      <td>3870</td>\n",
       "      <td>20241203</td>\n",
       "      <td>144.0</td>\n",
       "      <td>66.0</td>\n",
       "      <td>NaN</td>\n",
       "      <td>NaN</td>\n",
       "      <td>2025-05-26 21:29:50.264213</td>\n",
       "    </tr>\n",
       "    <tr>\n",
       "      <th>1002</th>\n",
       "      <td>1003</td>\n",
       "      <td>2239</td>\n",
       "      <td>20241219</td>\n",
       "      <td>127.0</td>\n",
       "      <td>113.0</td>\n",
       "      <td>NaN</td>\n",
       "      <td>NaN</td>\n",
       "      <td>2025-05-26 21:29:53.462784</td>\n",
       "    </tr>\n",
       "    <tr>\n",
       "      <th>1003</th>\n",
       "      <td>1004</td>\n",
       "      <td>4544</td>\n",
       "      <td>20241219</td>\n",
       "      <td>146.0</td>\n",
       "      <td>90.0</td>\n",
       "      <td>NaN</td>\n",
       "      <td>NaN</td>\n",
       "      <td>2025-05-26 21:29:56.862928</td>\n",
       "    </tr>\n",
       "  </tbody>\n",
       "</table>\n",
       "<p>1004 rows × 8 columns</p>\n",
       "</div>\n",
       "    <div class=\"colab-df-buttons\">\n",
       "\n",
       "  <div class=\"colab-df-container\">\n",
       "    <button class=\"colab-df-convert\" onclick=\"convertToInteractive('df-141dac4f-0aeb-4418-b3c7-df1ac85a8059')\"\n",
       "            title=\"Convert this dataframe to an interactive table.\"\n",
       "            style=\"display:none;\">\n",
       "\n",
       "  <svg xmlns=\"http://www.w3.org/2000/svg\" height=\"24px\" viewBox=\"0 -960 960 960\">\n",
       "    <path d=\"M120-120v-720h720v720H120Zm60-500h600v-160H180v160Zm220 220h160v-160H400v160Zm0 220h160v-160H400v160ZM180-400h160v-160H180v160Zm440 0h160v-160H620v160ZM180-180h160v-160H180v160Zm440 0h160v-160H620v160Z\"/>\n",
       "  </svg>\n",
       "    </button>\n",
       "\n",
       "  <style>\n",
       "    .colab-df-container {\n",
       "      display:flex;\n",
       "      gap: 12px;\n",
       "    }\n",
       "\n",
       "    .colab-df-convert {\n",
       "      background-color: #E8F0FE;\n",
       "      border: none;\n",
       "      border-radius: 50%;\n",
       "      cursor: pointer;\n",
       "      display: none;\n",
       "      fill: #1967D2;\n",
       "      height: 32px;\n",
       "      padding: 0 0 0 0;\n",
       "      width: 32px;\n",
       "    }\n",
       "\n",
       "    .colab-df-convert:hover {\n",
       "      background-color: #E2EBFA;\n",
       "      box-shadow: 0px 1px 2px rgba(60, 64, 67, 0.3), 0px 1px 3px 1px rgba(60, 64, 67, 0.15);\n",
       "      fill: #174EA6;\n",
       "    }\n",
       "\n",
       "    .colab-df-buttons div {\n",
       "      margin-bottom: 4px;\n",
       "    }\n",
       "\n",
       "    [theme=dark] .colab-df-convert {\n",
       "      background-color: #3B4455;\n",
       "      fill: #D2E3FC;\n",
       "    }\n",
       "\n",
       "    [theme=dark] .colab-df-convert:hover {\n",
       "      background-color: #434B5C;\n",
       "      box-shadow: 0px 1px 3px 1px rgba(0, 0, 0, 0.15);\n",
       "      filter: drop-shadow(0px 1px 2px rgba(0, 0, 0, 0.3));\n",
       "      fill: #FFFFFF;\n",
       "    }\n",
       "  </style>\n",
       "\n",
       "    <script>\n",
       "      const buttonEl =\n",
       "        document.querySelector('#df-141dac4f-0aeb-4418-b3c7-df1ac85a8059 button.colab-df-convert');\n",
       "      buttonEl.style.display =\n",
       "        google.colab.kernel.accessAllowed ? 'block' : 'none';\n",
       "\n",
       "      async function convertToInteractive(key) {\n",
       "        const element = document.querySelector('#df-141dac4f-0aeb-4418-b3c7-df1ac85a8059');\n",
       "        const dataTable =\n",
       "          await google.colab.kernel.invokeFunction('convertToInteractive',\n",
       "                                                    [key], {});\n",
       "        if (!dataTable) return;\n",
       "\n",
       "        const docLinkHtml = 'Like what you see? Visit the ' +\n",
       "          '<a target=\"_blank\" href=https://colab.research.google.com/notebooks/data_table.ipynb>data table notebook</a>'\n",
       "          + ' to learn more about interactive tables.';\n",
       "        element.innerHTML = '';\n",
       "        dataTable['output_type'] = 'display_data';\n",
       "        await google.colab.output.renderOutput(dataTable, element);\n",
       "        const docLink = document.createElement('div');\n",
       "        docLink.innerHTML = docLinkHtml;\n",
       "        element.appendChild(docLink);\n",
       "      }\n",
       "    </script>\n",
       "  </div>\n",
       "\n",
       "\n",
       "    <div id=\"df-e5139a0c-7e50-42da-809c-8a1358ead4d8\">\n",
       "      <button class=\"colab-df-quickchart\" onclick=\"quickchart('df-e5139a0c-7e50-42da-809c-8a1358ead4d8')\"\n",
       "                title=\"Suggest charts\"\n",
       "                style=\"display:none;\">\n",
       "\n",
       "<svg xmlns=\"http://www.w3.org/2000/svg\" height=\"24px\"viewBox=\"0 0 24 24\"\n",
       "     width=\"24px\">\n",
       "    <g>\n",
       "        <path d=\"M19 3H5c-1.1 0-2 .9-2 2v14c0 1.1.9 2 2 2h14c1.1 0 2-.9 2-2V5c0-1.1-.9-2-2-2zM9 17H7v-7h2v7zm4 0h-2V7h2v10zm4 0h-2v-4h2v4z\"/>\n",
       "    </g>\n",
       "</svg>\n",
       "      </button>\n",
       "\n",
       "<style>\n",
       "  .colab-df-quickchart {\n",
       "      --bg-color: #E8F0FE;\n",
       "      --fill-color: #1967D2;\n",
       "      --hover-bg-color: #E2EBFA;\n",
       "      --hover-fill-color: #174EA6;\n",
       "      --disabled-fill-color: #AAA;\n",
       "      --disabled-bg-color: #DDD;\n",
       "  }\n",
       "\n",
       "  [theme=dark] .colab-df-quickchart {\n",
       "      --bg-color: #3B4455;\n",
       "      --fill-color: #D2E3FC;\n",
       "      --hover-bg-color: #434B5C;\n",
       "      --hover-fill-color: #FFFFFF;\n",
       "      --disabled-bg-color: #3B4455;\n",
       "      --disabled-fill-color: #666;\n",
       "  }\n",
       "\n",
       "  .colab-df-quickchart {\n",
       "    background-color: var(--bg-color);\n",
       "    border: none;\n",
       "    border-radius: 50%;\n",
       "    cursor: pointer;\n",
       "    display: none;\n",
       "    fill: var(--fill-color);\n",
       "    height: 32px;\n",
       "    padding: 0;\n",
       "    width: 32px;\n",
       "  }\n",
       "\n",
       "  .colab-df-quickchart:hover {\n",
       "    background-color: var(--hover-bg-color);\n",
       "    box-shadow: 0 1px 2px rgba(60, 64, 67, 0.3), 0 1px 3px 1px rgba(60, 64, 67, 0.15);\n",
       "    fill: var(--button-hover-fill-color);\n",
       "  }\n",
       "\n",
       "  .colab-df-quickchart-complete:disabled,\n",
       "  .colab-df-quickchart-complete:disabled:hover {\n",
       "    background-color: var(--disabled-bg-color);\n",
       "    fill: var(--disabled-fill-color);\n",
       "    box-shadow: none;\n",
       "  }\n",
       "\n",
       "  .colab-df-spinner {\n",
       "    border: 2px solid var(--fill-color);\n",
       "    border-color: transparent;\n",
       "    border-bottom-color: var(--fill-color);\n",
       "    animation:\n",
       "      spin 1s steps(1) infinite;\n",
       "  }\n",
       "\n",
       "  @keyframes spin {\n",
       "    0% {\n",
       "      border-color: transparent;\n",
       "      border-bottom-color: var(--fill-color);\n",
       "      border-left-color: var(--fill-color);\n",
       "    }\n",
       "    20% {\n",
       "      border-color: transparent;\n",
       "      border-left-color: var(--fill-color);\n",
       "      border-top-color: var(--fill-color);\n",
       "    }\n",
       "    30% {\n",
       "      border-color: transparent;\n",
       "      border-left-color: var(--fill-color);\n",
       "      border-top-color: var(--fill-color);\n",
       "      border-right-color: var(--fill-color);\n",
       "    }\n",
       "    40% {\n",
       "      border-color: transparent;\n",
       "      border-right-color: var(--fill-color);\n",
       "      border-top-color: var(--fill-color);\n",
       "    }\n",
       "    60% {\n",
       "      border-color: transparent;\n",
       "      border-right-color: var(--fill-color);\n",
       "    }\n",
       "    80% {\n",
       "      border-color: transparent;\n",
       "      border-right-color: var(--fill-color);\n",
       "      border-bottom-color: var(--fill-color);\n",
       "    }\n",
       "    90% {\n",
       "      border-color: transparent;\n",
       "      border-bottom-color: var(--fill-color);\n",
       "    }\n",
       "  }\n",
       "</style>\n",
       "\n",
       "      <script>\n",
       "        async function quickchart(key) {\n",
       "          const quickchartButtonEl =\n",
       "            document.querySelector('#' + key + ' button');\n",
       "          quickchartButtonEl.disabled = true;  // To prevent multiple clicks.\n",
       "          quickchartButtonEl.classList.add('colab-df-spinner');\n",
       "          try {\n",
       "            const charts = await google.colab.kernel.invokeFunction(\n",
       "                'suggestCharts', [key], {});\n",
       "          } catch (error) {\n",
       "            console.error('Error during call to suggestCharts:', error);\n",
       "          }\n",
       "          quickchartButtonEl.classList.remove('colab-df-spinner');\n",
       "          quickchartButtonEl.classList.add('colab-df-quickchart-complete');\n",
       "        }\n",
       "        (() => {\n",
       "          let quickchartButtonEl =\n",
       "            document.querySelector('#df-e5139a0c-7e50-42da-809c-8a1358ead4d8 button');\n",
       "          quickchartButtonEl.style.display =\n",
       "            google.colab.kernel.accessAllowed ? 'block' : 'none';\n",
       "        })();\n",
       "      </script>\n",
       "    </div>\n",
       "\n",
       "  <div id=\"id_242fc2a6-92b5-484e-ba0c-4aca5ad40fcb\">\n",
       "    <style>\n",
       "      .colab-df-generate {\n",
       "        background-color: #E8F0FE;\n",
       "        border: none;\n",
       "        border-radius: 50%;\n",
       "        cursor: pointer;\n",
       "        display: none;\n",
       "        fill: #1967D2;\n",
       "        height: 32px;\n",
       "        padding: 0 0 0 0;\n",
       "        width: 32px;\n",
       "      }\n",
       "\n",
       "      .colab-df-generate:hover {\n",
       "        background-color: #E2EBFA;\n",
       "        box-shadow: 0px 1px 2px rgba(60, 64, 67, 0.3), 0px 1px 3px 1px rgba(60, 64, 67, 0.15);\n",
       "        fill: #174EA6;\n",
       "      }\n",
       "\n",
       "      [theme=dark] .colab-df-generate {\n",
       "        background-color: #3B4455;\n",
       "        fill: #D2E3FC;\n",
       "      }\n",
       "\n",
       "      [theme=dark] .colab-df-generate:hover {\n",
       "        background-color: #434B5C;\n",
       "        box-shadow: 0px 1px 3px 1px rgba(0, 0, 0, 0.15);\n",
       "        filter: drop-shadow(0px 1px 2px rgba(0, 0, 0, 0.3));\n",
       "        fill: #FFFFFF;\n",
       "      }\n",
       "    </style>\n",
       "    <button class=\"colab-df-generate\" onclick=\"generateWithVariable('new_data')\"\n",
       "            title=\"Generate code using this dataframe.\"\n",
       "            style=\"display:none;\">\n",
       "\n",
       "  <svg xmlns=\"http://www.w3.org/2000/svg\" height=\"24px\"viewBox=\"0 0 24 24\"\n",
       "       width=\"24px\">\n",
       "    <path d=\"M7,19H8.4L18.45,9,17,7.55,7,17.6ZM5,21V16.75L18.45,3.32a2,2,0,0,1,2.83,0l1.4,1.43a1.91,1.91,0,0,1,.58,1.4,1.91,1.91,0,0,1-.58,1.4L9.25,21ZM18.45,9,17,7.55Zm-12,3A5.31,5.31,0,0,0,4.9,8.1,5.31,5.31,0,0,0,1,6.5,5.31,5.31,0,0,0,4.9,4.9,5.31,5.31,0,0,0,6.5,1,5.31,5.31,0,0,0,8.1,4.9,5.31,5.31,0,0,0,12,6.5,5.46,5.46,0,0,0,6.5,12Z\"/>\n",
       "  </svg>\n",
       "    </button>\n",
       "    <script>\n",
       "      (() => {\n",
       "      const buttonEl =\n",
       "        document.querySelector('#id_242fc2a6-92b5-484e-ba0c-4aca5ad40fcb button.colab-df-generate');\n",
       "      buttonEl.style.display =\n",
       "        google.colab.kernel.accessAllowed ? 'block' : 'none';\n",
       "\n",
       "      buttonEl.onclick = () => {\n",
       "        google.colab.notebook.generateWithVariable('new_data');\n",
       "      }\n",
       "      })();\n",
       "    </script>\n",
       "  </div>\n",
       "\n",
       "    </div>\n",
       "  </div>\n"
      ],
      "text/plain": [
       "        id         sku  time_key  pvp_is_competitorA  pvp_is_competitorB  \\\n",
       "0        1        1173  20230501               123.0                77.0   \n",
       "1        2  sku_errado  20230501               132.0               108.0   \n",
       "2        3         123  20230501               107.0                76.0   \n",
       "3        4        1175  20250501               146.0               153.0   \n",
       "4        6        2506  20241107                74.0               120.0   \n",
       "...    ...         ...       ...                 ...                 ...   \n",
       "999   1000        4667  20241225               136.0                71.0   \n",
       "1000  1001        3553  20241204                66.0                68.0   \n",
       "1001  1002        3870  20241203               144.0                66.0   \n",
       "1002  1003        2239  20241219               127.0               113.0   \n",
       "1003  1004        4544  20241219               146.0                90.0   \n",
       "\n",
       "      pvp_is_competitorA_actual  pvp_is_competitorB_actual  \\\n",
       "0                         99.99                      99.99   \n",
       "1                         99.99                      99.99   \n",
       "2                           NaN                        NaN   \n",
       "3                           NaN                        NaN   \n",
       "4                         34.54                      34.54   \n",
       "...                         ...                        ...   \n",
       "999                         NaN                        NaN   \n",
       "1000                        NaN                        NaN   \n",
       "1001                        NaN                        NaN   \n",
       "1002                        NaN                        NaN   \n",
       "1003                        NaN                        NaN   \n",
       "\n",
       "                      created_at  \n",
       "0     2025-05-26 17:34:10.781955  \n",
       "1     2025-05-26 17:35:37.572521  \n",
       "2     2025-05-26 17:53:42.726221  \n",
       "3     2025-05-26 17:55:01.332724  \n",
       "4     2025-05-26 20:00:12.085541  \n",
       "...                          ...  \n",
       "999   2025-05-26 21:29:43.605987  \n",
       "1000  2025-05-26 21:29:46.806407  \n",
       "1001  2025-05-26 21:29:50.264213  \n",
       "1002  2025-05-26 21:29:53.462784  \n",
       "1003  2025-05-26 21:29:56.862928  \n",
       "\n",
       "[1004 rows x 8 columns]"
      ]
     },
     "execution_count": 27,
     "metadata": {},
     "output_type": "execute_result"
    }
   ],
   "source": [
    "new_data = pd.read_csv('price_predictions.csv')\n",
    "new_data"
   ]
  },
  {
   "cell_type": "code",
   "execution_count": 29,
   "metadata": {
    "colab": {
     "base_uri": "https://localhost:8080/",
     "height": 0
    },
    "collapsed": true,
    "executionInfo": {
     "elapsed": 144,
     "status": "ok",
     "timestamp": 1748515423400,
     "user": {
      "displayName": "Camila Dewes",
      "userId": "13076630737521809714"
     },
     "user_tz": -60
    },
    "id": "cVaK5rmOoLil",
    "outputId": "83f91d57-eb4e-4011-84bd-c753683fb032"
   },
   "outputs": [
    {
     "data": {
      "application/vnd.google.colaboratory.intrinsic+json": {
       "summary": "{\n  \"name\": \"new_data\",\n  \"rows\": 1004,\n  \"fields\": [\n    {\n      \"column\": \"id\",\n      \"properties\": {\n        \"dtype\": \"number\",\n        \"std\": 289,\n        \"min\": 1,\n        \"max\": 1004,\n        \"num_unique_values\": 1004,\n        \"samples\": [\n          927,\n          631,\n          683\n        ],\n        \"semantic_type\": \"\",\n        \"description\": \"\"\n      }\n    },\n    {\n      \"column\": \"sku\",\n      \"properties\": {\n        \"dtype\": \"category\",\n        \"num_unique_values\": 313,\n        \"samples\": [\n          \"1807\",\n          \"4733\",\n          \"3797\"\n        ],\n        \"semantic_type\": \"\",\n        \"description\": \"\"\n      }\n    },\n    {\n      \"column\": \"time_key\",\n      \"properties\": {\n        \"dtype\": \"number\",\n        \"std\": 655,\n        \"min\": 20230501,\n        \"max\": 20250501,\n        \"num_unique_values\": 65,\n        \"samples\": [\n          20241103,\n          20241125,\n          20230501\n        ],\n        \"semantic_type\": \"\",\n        \"description\": \"\"\n      }\n    },\n    {\n      \"column\": \"pvp_is_competitorA\",\n      \"properties\": {\n        \"dtype\": \"number\",\n        \"std\": 28.758351465851057,\n        \"min\": 50.0,\n        \"max\": 149.0,\n        \"num_unique_values\": 100,\n        \"samples\": [\n          117.0,\n          119.0,\n          70.0\n        ],\n        \"semantic_type\": \"\",\n        \"description\": \"\"\n      }\n    },\n    {\n      \"column\": \"pvp_is_competitorB\",\n      \"properties\": {\n        \"dtype\": \"number\",\n        \"std\": 28.26514391359925,\n        \"min\": 60.0,\n        \"max\": 159.0,\n        \"num_unique_values\": 100,\n        \"samples\": [\n          158.0,\n          122.0,\n          94.0\n        ],\n        \"semantic_type\": \"\",\n        \"description\": \"\"\n      }\n    },\n    {\n      \"column\": \"pvp_is_competitorA_actual\",\n      \"properties\": {\n        \"dtype\": \"number\",\n        \"std\": 51.043456018363344,\n        \"min\": 4.34,\n        \"max\": 468.46,\n        \"num_unique_values\": 129,\n        \"samples\": [\n          11.46,\n          23.43,\n          60.75\n        ],\n        \"semantic_type\": \"\",\n        \"description\": \"\"\n      }\n    },\n    {\n      \"column\": \"pvp_is_competitorB_actual\",\n      \"properties\": {\n        \"dtype\": \"number\",\n        \"std\": 51.84499540738009,\n        \"min\": 4.17,\n        \"max\": 468.47,\n        \"num_unique_values\": 129,\n        \"samples\": [\n          16.84,\n          17.18,\n          10.93\n        ],\n        \"semantic_type\": \"\",\n        \"description\": \"\"\n      }\n    },\n    {\n      \"column\": \"created_at\",\n      \"properties\": {\n        \"dtype\": \"object\",\n        \"num_unique_values\": 1004,\n        \"samples\": [\n          \"2025-05-26 21:25:41.207976\",\n          \"2025-05-26 21:09:18.836476\",\n          \"2025-05-26 21:12:11.415672\"\n        ],\n        \"semantic_type\": \"\",\n        \"description\": \"\"\n      }\n    }\n  ]\n}",
       "type": "dataframe",
       "variable_name": "new_data"
      },
      "text/html": [
       "\n",
       "  <div id=\"df-7e9c82fc-f902-4ad8-a8ca-aacbcf92622d\" class=\"colab-df-container\">\n",
       "    <div>\n",
       "<style scoped>\n",
       "    .dataframe tbody tr th:only-of-type {\n",
       "        vertical-align: middle;\n",
       "    }\n",
       "\n",
       "    .dataframe tbody tr th {\n",
       "        vertical-align: top;\n",
       "    }\n",
       "\n",
       "    .dataframe thead th {\n",
       "        text-align: right;\n",
       "    }\n",
       "</style>\n",
       "<table border=\"1\" class=\"dataframe\">\n",
       "  <thead>\n",
       "    <tr style=\"text-align: right;\">\n",
       "      <th></th>\n",
       "      <th>id</th>\n",
       "      <th>sku</th>\n",
       "      <th>time_key</th>\n",
       "      <th>pvp_is_competitorA</th>\n",
       "      <th>pvp_is_competitorB</th>\n",
       "      <th>pvp_is_competitorA_actual</th>\n",
       "      <th>pvp_is_competitorB_actual</th>\n",
       "      <th>created_at</th>\n",
       "    </tr>\n",
       "  </thead>\n",
       "  <tbody>\n",
       "    <tr>\n",
       "      <th>0</th>\n",
       "      <td>1</td>\n",
       "      <td>1173</td>\n",
       "      <td>20230501</td>\n",
       "      <td>123.0</td>\n",
       "      <td>77.0</td>\n",
       "      <td>99.99</td>\n",
       "      <td>99.99</td>\n",
       "      <td>2025-05-26 17:34:10.781955</td>\n",
       "    </tr>\n",
       "    <tr>\n",
       "      <th>1</th>\n",
       "      <td>2</td>\n",
       "      <td>sku_errado</td>\n",
       "      <td>20230501</td>\n",
       "      <td>132.0</td>\n",
       "      <td>108.0</td>\n",
       "      <td>99.99</td>\n",
       "      <td>99.99</td>\n",
       "      <td>2025-05-26 17:35:37.572521</td>\n",
       "    </tr>\n",
       "    <tr>\n",
       "      <th>2</th>\n",
       "      <td>3</td>\n",
       "      <td>123</td>\n",
       "      <td>20230501</td>\n",
       "      <td>107.0</td>\n",
       "      <td>76.0</td>\n",
       "      <td>NaN</td>\n",
       "      <td>NaN</td>\n",
       "      <td>2025-05-26 17:53:42.726221</td>\n",
       "    </tr>\n",
       "    <tr>\n",
       "      <th>3</th>\n",
       "      <td>4</td>\n",
       "      <td>1175</td>\n",
       "      <td>20250501</td>\n",
       "      <td>146.0</td>\n",
       "      <td>153.0</td>\n",
       "      <td>NaN</td>\n",
       "      <td>NaN</td>\n",
       "      <td>2025-05-26 17:55:01.332724</td>\n",
       "    </tr>\n",
       "    <tr>\n",
       "      <th>361</th>\n",
       "      <td>5</td>\n",
       "      <td>4555</td>\n",
       "      <td>20241107</td>\n",
       "      <td>81.0</td>\n",
       "      <td>137.0</td>\n",
       "      <td>34.54</td>\n",
       "      <td>34.54</td>\n",
       "      <td>2025-05-26 20:00:10.560478</td>\n",
       "    </tr>\n",
       "    <tr>\n",
       "      <th>...</th>\n",
       "      <td>...</td>\n",
       "      <td>...</td>\n",
       "      <td>...</td>\n",
       "      <td>...</td>\n",
       "      <td>...</td>\n",
       "      <td>...</td>\n",
       "      <td>...</td>\n",
       "      <td>...</td>\n",
       "    </tr>\n",
       "    <tr>\n",
       "      <th>999</th>\n",
       "      <td>1000</td>\n",
       "      <td>4667</td>\n",
       "      <td>20241225</td>\n",
       "      <td>136.0</td>\n",
       "      <td>71.0</td>\n",
       "      <td>NaN</td>\n",
       "      <td>NaN</td>\n",
       "      <td>2025-05-26 21:29:43.605987</td>\n",
       "    </tr>\n",
       "    <tr>\n",
       "      <th>1000</th>\n",
       "      <td>1001</td>\n",
       "      <td>3553</td>\n",
       "      <td>20241204</td>\n",
       "      <td>66.0</td>\n",
       "      <td>68.0</td>\n",
       "      <td>NaN</td>\n",
       "      <td>NaN</td>\n",
       "      <td>2025-05-26 21:29:46.806407</td>\n",
       "    </tr>\n",
       "    <tr>\n",
       "      <th>1001</th>\n",
       "      <td>1002</td>\n",
       "      <td>3870</td>\n",
       "      <td>20241203</td>\n",
       "      <td>144.0</td>\n",
       "      <td>66.0</td>\n",
       "      <td>NaN</td>\n",
       "      <td>NaN</td>\n",
       "      <td>2025-05-26 21:29:50.264213</td>\n",
       "    </tr>\n",
       "    <tr>\n",
       "      <th>1002</th>\n",
       "      <td>1003</td>\n",
       "      <td>2239</td>\n",
       "      <td>20241219</td>\n",
       "      <td>127.0</td>\n",
       "      <td>113.0</td>\n",
       "      <td>NaN</td>\n",
       "      <td>NaN</td>\n",
       "      <td>2025-05-26 21:29:53.462784</td>\n",
       "    </tr>\n",
       "    <tr>\n",
       "      <th>1003</th>\n",
       "      <td>1004</td>\n",
       "      <td>4544</td>\n",
       "      <td>20241219</td>\n",
       "      <td>146.0</td>\n",
       "      <td>90.0</td>\n",
       "      <td>NaN</td>\n",
       "      <td>NaN</td>\n",
       "      <td>2025-05-26 21:29:56.862928</td>\n",
       "    </tr>\n",
       "  </tbody>\n",
       "</table>\n",
       "<p>1004 rows × 8 columns</p>\n",
       "</div>\n",
       "    <div class=\"colab-df-buttons\">\n",
       "\n",
       "  <div class=\"colab-df-container\">\n",
       "    <button class=\"colab-df-convert\" onclick=\"convertToInteractive('df-7e9c82fc-f902-4ad8-a8ca-aacbcf92622d')\"\n",
       "            title=\"Convert this dataframe to an interactive table.\"\n",
       "            style=\"display:none;\">\n",
       "\n",
       "  <svg xmlns=\"http://www.w3.org/2000/svg\" height=\"24px\" viewBox=\"0 -960 960 960\">\n",
       "    <path d=\"M120-120v-720h720v720H120Zm60-500h600v-160H180v160Zm220 220h160v-160H400v160Zm0 220h160v-160H400v160ZM180-400h160v-160H180v160Zm440 0h160v-160H620v160ZM180-180h160v-160H180v160Zm440 0h160v-160H620v160Z\"/>\n",
       "  </svg>\n",
       "    </button>\n",
       "\n",
       "  <style>\n",
       "    .colab-df-container {\n",
       "      display:flex;\n",
       "      gap: 12px;\n",
       "    }\n",
       "\n",
       "    .colab-df-convert {\n",
       "      background-color: #E8F0FE;\n",
       "      border: none;\n",
       "      border-radius: 50%;\n",
       "      cursor: pointer;\n",
       "      display: none;\n",
       "      fill: #1967D2;\n",
       "      height: 32px;\n",
       "      padding: 0 0 0 0;\n",
       "      width: 32px;\n",
       "    }\n",
       "\n",
       "    .colab-df-convert:hover {\n",
       "      background-color: #E2EBFA;\n",
       "      box-shadow: 0px 1px 2px rgba(60, 64, 67, 0.3), 0px 1px 3px 1px rgba(60, 64, 67, 0.15);\n",
       "      fill: #174EA6;\n",
       "    }\n",
       "\n",
       "    .colab-df-buttons div {\n",
       "      margin-bottom: 4px;\n",
       "    }\n",
       "\n",
       "    [theme=dark] .colab-df-convert {\n",
       "      background-color: #3B4455;\n",
       "      fill: #D2E3FC;\n",
       "    }\n",
       "\n",
       "    [theme=dark] .colab-df-convert:hover {\n",
       "      background-color: #434B5C;\n",
       "      box-shadow: 0px 1px 3px 1px rgba(0, 0, 0, 0.15);\n",
       "      filter: drop-shadow(0px 1px 2px rgba(0, 0, 0, 0.3));\n",
       "      fill: #FFFFFF;\n",
       "    }\n",
       "  </style>\n",
       "\n",
       "    <script>\n",
       "      const buttonEl =\n",
       "        document.querySelector('#df-7e9c82fc-f902-4ad8-a8ca-aacbcf92622d button.colab-df-convert');\n",
       "      buttonEl.style.display =\n",
       "        google.colab.kernel.accessAllowed ? 'block' : 'none';\n",
       "\n",
       "      async function convertToInteractive(key) {\n",
       "        const element = document.querySelector('#df-7e9c82fc-f902-4ad8-a8ca-aacbcf92622d');\n",
       "        const dataTable =\n",
       "          await google.colab.kernel.invokeFunction('convertToInteractive',\n",
       "                                                    [key], {});\n",
       "        if (!dataTable) return;\n",
       "\n",
       "        const docLinkHtml = 'Like what you see? Visit the ' +\n",
       "          '<a target=\"_blank\" href=https://colab.research.google.com/notebooks/data_table.ipynb>data table notebook</a>'\n",
       "          + ' to learn more about interactive tables.';\n",
       "        element.innerHTML = '';\n",
       "        dataTable['output_type'] = 'display_data';\n",
       "        await google.colab.output.renderOutput(dataTable, element);\n",
       "        const docLink = document.createElement('div');\n",
       "        docLink.innerHTML = docLinkHtml;\n",
       "        element.appendChild(docLink);\n",
       "      }\n",
       "    </script>\n",
       "  </div>\n",
       "\n",
       "\n",
       "    <div id=\"df-b62d7eb2-c8ec-422a-9222-202ed334dddf\">\n",
       "      <button class=\"colab-df-quickchart\" onclick=\"quickchart('df-b62d7eb2-c8ec-422a-9222-202ed334dddf')\"\n",
       "                title=\"Suggest charts\"\n",
       "                style=\"display:none;\">\n",
       "\n",
       "<svg xmlns=\"http://www.w3.org/2000/svg\" height=\"24px\"viewBox=\"0 0 24 24\"\n",
       "     width=\"24px\">\n",
       "    <g>\n",
       "        <path d=\"M19 3H5c-1.1 0-2 .9-2 2v14c0 1.1.9 2 2 2h14c1.1 0 2-.9 2-2V5c0-1.1-.9-2-2-2zM9 17H7v-7h2v7zm4 0h-2V7h2v10zm4 0h-2v-4h2v4z\"/>\n",
       "    </g>\n",
       "</svg>\n",
       "      </button>\n",
       "\n",
       "<style>\n",
       "  .colab-df-quickchart {\n",
       "      --bg-color: #E8F0FE;\n",
       "      --fill-color: #1967D2;\n",
       "      --hover-bg-color: #E2EBFA;\n",
       "      --hover-fill-color: #174EA6;\n",
       "      --disabled-fill-color: #AAA;\n",
       "      --disabled-bg-color: #DDD;\n",
       "  }\n",
       "\n",
       "  [theme=dark] .colab-df-quickchart {\n",
       "      --bg-color: #3B4455;\n",
       "      --fill-color: #D2E3FC;\n",
       "      --hover-bg-color: #434B5C;\n",
       "      --hover-fill-color: #FFFFFF;\n",
       "      --disabled-bg-color: #3B4455;\n",
       "      --disabled-fill-color: #666;\n",
       "  }\n",
       "\n",
       "  .colab-df-quickchart {\n",
       "    background-color: var(--bg-color);\n",
       "    border: none;\n",
       "    border-radius: 50%;\n",
       "    cursor: pointer;\n",
       "    display: none;\n",
       "    fill: var(--fill-color);\n",
       "    height: 32px;\n",
       "    padding: 0;\n",
       "    width: 32px;\n",
       "  }\n",
       "\n",
       "  .colab-df-quickchart:hover {\n",
       "    background-color: var(--hover-bg-color);\n",
       "    box-shadow: 0 1px 2px rgba(60, 64, 67, 0.3), 0 1px 3px 1px rgba(60, 64, 67, 0.15);\n",
       "    fill: var(--button-hover-fill-color);\n",
       "  }\n",
       "\n",
       "  .colab-df-quickchart-complete:disabled,\n",
       "  .colab-df-quickchart-complete:disabled:hover {\n",
       "    background-color: var(--disabled-bg-color);\n",
       "    fill: var(--disabled-fill-color);\n",
       "    box-shadow: none;\n",
       "  }\n",
       "\n",
       "  .colab-df-spinner {\n",
       "    border: 2px solid var(--fill-color);\n",
       "    border-color: transparent;\n",
       "    border-bottom-color: var(--fill-color);\n",
       "    animation:\n",
       "      spin 1s steps(1) infinite;\n",
       "  }\n",
       "\n",
       "  @keyframes spin {\n",
       "    0% {\n",
       "      border-color: transparent;\n",
       "      border-bottom-color: var(--fill-color);\n",
       "      border-left-color: var(--fill-color);\n",
       "    }\n",
       "    20% {\n",
       "      border-color: transparent;\n",
       "      border-left-color: var(--fill-color);\n",
       "      border-top-color: var(--fill-color);\n",
       "    }\n",
       "    30% {\n",
       "      border-color: transparent;\n",
       "      border-left-color: var(--fill-color);\n",
       "      border-top-color: var(--fill-color);\n",
       "      border-right-color: var(--fill-color);\n",
       "    }\n",
       "    40% {\n",
       "      border-color: transparent;\n",
       "      border-right-color: var(--fill-color);\n",
       "      border-top-color: var(--fill-color);\n",
       "    }\n",
       "    60% {\n",
       "      border-color: transparent;\n",
       "      border-right-color: var(--fill-color);\n",
       "    }\n",
       "    80% {\n",
       "      border-color: transparent;\n",
       "      border-right-color: var(--fill-color);\n",
       "      border-bottom-color: var(--fill-color);\n",
       "    }\n",
       "    90% {\n",
       "      border-color: transparent;\n",
       "      border-bottom-color: var(--fill-color);\n",
       "    }\n",
       "  }\n",
       "</style>\n",
       "\n",
       "      <script>\n",
       "        async function quickchart(key) {\n",
       "          const quickchartButtonEl =\n",
       "            document.querySelector('#' + key + ' button');\n",
       "          quickchartButtonEl.disabled = true;  // To prevent multiple clicks.\n",
       "          quickchartButtonEl.classList.add('colab-df-spinner');\n",
       "          try {\n",
       "            const charts = await google.colab.kernel.invokeFunction(\n",
       "                'suggestCharts', [key], {});\n",
       "          } catch (error) {\n",
       "            console.error('Error during call to suggestCharts:', error);\n",
       "          }\n",
       "          quickchartButtonEl.classList.remove('colab-df-spinner');\n",
       "          quickchartButtonEl.classList.add('colab-df-quickchart-complete');\n",
       "        }\n",
       "        (() => {\n",
       "          let quickchartButtonEl =\n",
       "            document.querySelector('#df-b62d7eb2-c8ec-422a-9222-202ed334dddf button');\n",
       "          quickchartButtonEl.style.display =\n",
       "            google.colab.kernel.accessAllowed ? 'block' : 'none';\n",
       "        })();\n",
       "      </script>\n",
       "    </div>\n",
       "\n",
       "  <div id=\"id_381e862d-99dc-4f14-9dcf-856b1f8afac6\">\n",
       "    <style>\n",
       "      .colab-df-generate {\n",
       "        background-color: #E8F0FE;\n",
       "        border: none;\n",
       "        border-radius: 50%;\n",
       "        cursor: pointer;\n",
       "        display: none;\n",
       "        fill: #1967D2;\n",
       "        height: 32px;\n",
       "        padding: 0 0 0 0;\n",
       "        width: 32px;\n",
       "      }\n",
       "\n",
       "      .colab-df-generate:hover {\n",
       "        background-color: #E2EBFA;\n",
       "        box-shadow: 0px 1px 2px rgba(60, 64, 67, 0.3), 0px 1px 3px 1px rgba(60, 64, 67, 0.15);\n",
       "        fill: #174EA6;\n",
       "      }\n",
       "\n",
       "      [theme=dark] .colab-df-generate {\n",
       "        background-color: #3B4455;\n",
       "        fill: #D2E3FC;\n",
       "      }\n",
       "\n",
       "      [theme=dark] .colab-df-generate:hover {\n",
       "        background-color: #434B5C;\n",
       "        box-shadow: 0px 1px 3px 1px rgba(0, 0, 0, 0.15);\n",
       "        filter: drop-shadow(0px 1px 2px rgba(0, 0, 0, 0.3));\n",
       "        fill: #FFFFFF;\n",
       "      }\n",
       "    </style>\n",
       "    <button class=\"colab-df-generate\" onclick=\"generateWithVariable('new_data')\"\n",
       "            title=\"Generate code using this dataframe.\"\n",
       "            style=\"display:none;\">\n",
       "\n",
       "  <svg xmlns=\"http://www.w3.org/2000/svg\" height=\"24px\"viewBox=\"0 0 24 24\"\n",
       "       width=\"24px\">\n",
       "    <path d=\"M7,19H8.4L18.45,9,17,7.55,7,17.6ZM5,21V16.75L18.45,3.32a2,2,0,0,1,2.83,0l1.4,1.43a1.91,1.91,0,0,1,.58,1.4,1.91,1.91,0,0,1-.58,1.4L9.25,21ZM18.45,9,17,7.55Zm-12,3A5.31,5.31,0,0,0,4.9,8.1,5.31,5.31,0,0,0,1,6.5,5.31,5.31,0,0,0,4.9,4.9,5.31,5.31,0,0,0,6.5,1,5.31,5.31,0,0,0,8.1,4.9,5.31,5.31,0,0,0,12,6.5,5.46,5.46,0,0,0,6.5,12Z\"/>\n",
       "  </svg>\n",
       "    </button>\n",
       "    <script>\n",
       "      (() => {\n",
       "      const buttonEl =\n",
       "        document.querySelector('#id_381e862d-99dc-4f14-9dcf-856b1f8afac6 button.colab-df-generate');\n",
       "      buttonEl.style.display =\n",
       "        google.colab.kernel.accessAllowed ? 'block' : 'none';\n",
       "\n",
       "      buttonEl.onclick = () => {\n",
       "        google.colab.notebook.generateWithVariable('new_data');\n",
       "      }\n",
       "      })();\n",
       "    </script>\n",
       "  </div>\n",
       "\n",
       "    </div>\n",
       "  </div>\n"
      ],
      "text/plain": [
       "        id         sku  time_key  pvp_is_competitorA  pvp_is_competitorB  \\\n",
       "0        1        1173  20230501               123.0                77.0   \n",
       "1        2  sku_errado  20230501               132.0               108.0   \n",
       "2        3         123  20230501               107.0                76.0   \n",
       "3        4        1175  20250501               146.0               153.0   \n",
       "361      5        4555  20241107                81.0               137.0   \n",
       "...    ...         ...       ...                 ...                 ...   \n",
       "999   1000        4667  20241225               136.0                71.0   \n",
       "1000  1001        3553  20241204                66.0                68.0   \n",
       "1001  1002        3870  20241203               144.0                66.0   \n",
       "1002  1003        2239  20241219               127.0               113.0   \n",
       "1003  1004        4544  20241219               146.0                90.0   \n",
       "\n",
       "      pvp_is_competitorA_actual  pvp_is_competitorB_actual  \\\n",
       "0                         99.99                      99.99   \n",
       "1                         99.99                      99.99   \n",
       "2                           NaN                        NaN   \n",
       "3                           NaN                        NaN   \n",
       "361                       34.54                      34.54   \n",
       "...                         ...                        ...   \n",
       "999                         NaN                        NaN   \n",
       "1000                        NaN                        NaN   \n",
       "1001                        NaN                        NaN   \n",
       "1002                        NaN                        NaN   \n",
       "1003                        NaN                        NaN   \n",
       "\n",
       "                      created_at  \n",
       "0     2025-05-26 17:34:10.781955  \n",
       "1     2025-05-26 17:35:37.572521  \n",
       "2     2025-05-26 17:53:42.726221  \n",
       "3     2025-05-26 17:55:01.332724  \n",
       "361   2025-05-26 20:00:10.560478  \n",
       "...                          ...  \n",
       "999   2025-05-26 21:29:43.605987  \n",
       "1000  2025-05-26 21:29:46.806407  \n",
       "1001  2025-05-26 21:29:50.264213  \n",
       "1002  2025-05-26 21:29:53.462784  \n",
       "1003  2025-05-26 21:29:56.862928  \n",
       "\n",
       "[1004 rows x 8 columns]"
      ]
     },
     "execution_count": 29,
     "metadata": {},
     "output_type": "execute_result"
    }
   ],
   "source": [
    "new_data.sort_values(['created_at'], inplace=True)\n",
    "new_data"
   ]
  },
  {
   "cell_type": "code",
   "execution_count": 31,
   "metadata": {
    "colab": {
     "base_uri": "https://localhost:8080/"
    },
    "executionInfo": {
     "elapsed": 58,
     "status": "ok",
     "timestamp": 1748515607133,
     "user": {
      "displayName": "Camila Dewes",
      "userId": "13076630737521809714"
     },
     "user_tz": -60
    },
    "id": "b3V17pTmpInv",
    "outputId": "c9d2ccaf-584d-4e98-9aaf-7657f73fb8f1"
   },
   "outputs": [
    {
     "data": {
      "text/plain": [
       "500"
      ]
     },
     "execution_count": 31,
     "metadata": {},
     "output_type": "execute_result"
    }
   ],
   "source": [
    "# prompt: Using dataframe new_data: cria uma nova tabela somente com created_at > \t2025-05-26 20:29:56.532894\n",
    "\n",
    "# Ensure the 'created_at' column is in datetime format\n",
    "new_data['created_at'] = pd.to_datetime(new_data['created_at'])\n",
    "\n",
    "# Create a new dataframe containing only rows where 'created_at' is greater than the specified datetime\n",
    "new_data_without_dummies = new_data[new_data['created_at'] > '2025-05-26 20:30:00']\n",
    "len(new_data_without_dummies)"
   ]
  },
  {
   "cell_type": "code",
   "execution_count": null,
   "metadata": {},
   "outputs": [],
   "source": [
    "new_data_without_dummies.sort_values(['created_at'], inplace=True)\n",
    "\n",
    "# Retira dados com NaN\n",
    "new_data_without_dummies_and_nans = new_data_without_dummies.dropna()\n",
    "\n",
    "#Retira a coluna created_at e id\n",
    "new_data_without_dummies_and_nans = new_data_without_dummies_and_nans.drop(columns=['created_at', 'id'])\n"
   ]
  },
  {
   "cell_type": "code",
   "execution_count": null,
   "metadata": {
    "executionInfo": {
     "elapsed": 639,
     "status": "ok",
     "timestamp": 1748518391685,
     "user": {
      "displayName": "Camila Dewes",
      "userId": "13076630737521809714"
     },
     "user_tz": -60
    },
    "id": "g36PBF2k0UJh"
   },
   "outputs": [],
   "source": [
    "def ensure_sku_is_str(*dfs):\n",
    "    for df in dfs:\n",
    "        if 'sku' in df.columns:\n",
    "            df['sku'] = df['sku'].astype(str)\n",
    "            \n",
    "# Duplicar df para evitar sobrescrita e garantir independência\n",
    "df_eval = new_data_without_dummies.copy()\n",
    "ensure_sku_is_str(product_prices, product_structures, df_eval)"
   ]
  },
  {
   "cell_type": "code",
   "execution_count": null,
   "metadata": {
    "colab": {
     "base_uri": "https://localhost:8080/"
    },
    "id": "XBKVKYJ6p85J",
    "outputId": "a5196b21-9a08-4b26-c85a-b2ff62404439"
   },
   "outputs": [
    {
     "name": "stderr",
     "output_type": "stream",
     "text": [
      "<ipython-input-23-5717676d3adc>:99: DeprecationWarning: is_categorical_dtype is deprecated and will be removed in a future version. Use isinstance(dtype, pd.CategoricalDtype) instead\n",
      "  if pd.api.types.is_categorical_dtype(dtype):\n",
      "<ipython-input-23-5717676d3adc>:99: DeprecationWarning: is_categorical_dtype is deprecated and will be removed in a future version. Use isinstance(dtype, pd.CategoricalDtype) instead\n",
      "  if pd.api.types.is_categorical_dtype(dtype):\n",
      "<ipython-input-23-5717676d3adc>:99: DeprecationWarning: is_categorical_dtype is deprecated and will be removed in a future version. Use isinstance(dtype, pd.CategoricalDtype) instead\n",
      "  if pd.api.types.is_categorical_dtype(dtype):\n",
      "<ipython-input-23-5717676d3adc>:99: DeprecationWarning: is_categorical_dtype is deprecated and will be removed in a future version. Use isinstance(dtype, pd.CategoricalDtype) instead\n",
      "  if pd.api.types.is_categorical_dtype(dtype):\n"
     ]
    },
    {
     "name": "stdout",
     "output_type": "stream",
     "text": [
      "Erro em SKU 3306, data 20241204: Cannot convert non-finite values (NA or inf) to integer\n"
     ]
    },
    {
     "name": "stderr",
     "output_type": "stream",
     "text": [
      "<ipython-input-23-5717676d3adc>:99: DeprecationWarning: is_categorical_dtype is deprecated and will be removed in a future version. Use isinstance(dtype, pd.CategoricalDtype) instead\n",
      "  if pd.api.types.is_categorical_dtype(dtype):\n",
      "<ipython-input-23-5717676d3adc>:99: DeprecationWarning: is_categorical_dtype is deprecated and will be removed in a future version. Use isinstance(dtype, pd.CategoricalDtype) instead\n",
      "  if pd.api.types.is_categorical_dtype(dtype):\n",
      "<ipython-input-23-5717676d3adc>:99: DeprecationWarning: is_categorical_dtype is deprecated and will be removed in a future version. Use isinstance(dtype, pd.CategoricalDtype) instead\n",
      "  if pd.api.types.is_categorical_dtype(dtype):\n",
      "<ipython-input-23-5717676d3adc>:99: DeprecationWarning: is_categorical_dtype is deprecated and will be removed in a future version. Use isinstance(dtype, pd.CategoricalDtype) instead\n",
      "  if pd.api.types.is_categorical_dtype(dtype):\n"
     ]
    },
    {
     "name": "stdout",
     "output_type": "stream",
     "text": [
      "Erro em SKU 4466, data 20241118: Cannot convert non-finite values (NA or inf) to integer\n"
     ]
    },
    {
     "name": "stderr",
     "output_type": "stream",
     "text": [
      "<ipython-input-23-5717676d3adc>:99: DeprecationWarning: is_categorical_dtype is deprecated and will be removed in a future version. Use isinstance(dtype, pd.CategoricalDtype) instead\n",
      "  if pd.api.types.is_categorical_dtype(dtype):\n",
      "<ipython-input-23-5717676d3adc>:99: DeprecationWarning: is_categorical_dtype is deprecated and will be removed in a future version. Use isinstance(dtype, pd.CategoricalDtype) instead\n",
      "  if pd.api.types.is_categorical_dtype(dtype):\n",
      "<ipython-input-23-5717676d3adc>:99: DeprecationWarning: is_categorical_dtype is deprecated and will be removed in a future version. Use isinstance(dtype, pd.CategoricalDtype) instead\n",
      "  if pd.api.types.is_categorical_dtype(dtype):\n",
      "<ipython-input-23-5717676d3adc>:99: DeprecationWarning: is_categorical_dtype is deprecated and will be removed in a future version. Use isinstance(dtype, pd.CategoricalDtype) instead\n",
      "  if pd.api.types.is_categorical_dtype(dtype):\n"
     ]
    },
    {
     "name": "stdout",
     "output_type": "stream",
     "text": [
      "Erro em SKU 1554, data 20241121: Cannot convert non-finite values (NA or inf) to integer\n"
     ]
    },
    {
     "name": "stderr",
     "output_type": "stream",
     "text": [
      "<ipython-input-23-5717676d3adc>:99: DeprecationWarning: is_categorical_dtype is deprecated and will be removed in a future version. Use isinstance(dtype, pd.CategoricalDtype) instead\n",
      "  if pd.api.types.is_categorical_dtype(dtype):\n",
      "<ipython-input-23-5717676d3adc>:99: DeprecationWarning: is_categorical_dtype is deprecated and will be removed in a future version. Use isinstance(dtype, pd.CategoricalDtype) instead\n",
      "  if pd.api.types.is_categorical_dtype(dtype):\n",
      "<ipython-input-23-5717676d3adc>:99: DeprecationWarning: is_categorical_dtype is deprecated and will be removed in a future version. Use isinstance(dtype, pd.CategoricalDtype) instead\n",
      "  if pd.api.types.is_categorical_dtype(dtype):\n",
      "<ipython-input-23-5717676d3adc>:99: DeprecationWarning: is_categorical_dtype is deprecated and will be removed in a future version. Use isinstance(dtype, pd.CategoricalDtype) instead\n",
      "  if pd.api.types.is_categorical_dtype(dtype):\n"
     ]
    },
    {
     "name": "stdout",
     "output_type": "stream",
     "text": [
      "Erro em SKU 1937, data 20241227: Cannot convert non-finite values (NA or inf) to integer\n"
     ]
    },
    {
     "name": "stderr",
     "output_type": "stream",
     "text": [
      "<ipython-input-23-5717676d3adc>:99: DeprecationWarning: is_categorical_dtype is deprecated and will be removed in a future version. Use isinstance(dtype, pd.CategoricalDtype) instead\n",
      "  if pd.api.types.is_categorical_dtype(dtype):\n",
      "<ipython-input-23-5717676d3adc>:99: DeprecationWarning: is_categorical_dtype is deprecated and will be removed in a future version. Use isinstance(dtype, pd.CategoricalDtype) instead\n",
      "  if pd.api.types.is_categorical_dtype(dtype):\n",
      "<ipython-input-23-5717676d3adc>:99: DeprecationWarning: is_categorical_dtype is deprecated and will be removed in a future version. Use isinstance(dtype, pd.CategoricalDtype) instead\n",
      "  if pd.api.types.is_categorical_dtype(dtype):\n",
      "<ipython-input-23-5717676d3adc>:99: DeprecationWarning: is_categorical_dtype is deprecated and will be removed in a future version. Use isinstance(dtype, pd.CategoricalDtype) instead\n",
      "  if pd.api.types.is_categorical_dtype(dtype):\n"
     ]
    },
    {
     "name": "stdout",
     "output_type": "stream",
     "text": [
      "Erro em SKU 2262, data 20241217: Cannot convert non-finite values (NA or inf) to integer\n"
     ]
    },
    {
     "name": "stderr",
     "output_type": "stream",
     "text": [
      "<ipython-input-23-5717676d3adc>:99: DeprecationWarning: is_categorical_dtype is deprecated and will be removed in a future version. Use isinstance(dtype, pd.CategoricalDtype) instead\n",
      "  if pd.api.types.is_categorical_dtype(dtype):\n",
      "<ipython-input-23-5717676d3adc>:99: DeprecationWarning: is_categorical_dtype is deprecated and will be removed in a future version. Use isinstance(dtype, pd.CategoricalDtype) instead\n",
      "  if pd.api.types.is_categorical_dtype(dtype):\n",
      "<ipython-input-23-5717676d3adc>:99: DeprecationWarning: is_categorical_dtype is deprecated and will be removed in a future version. Use isinstance(dtype, pd.CategoricalDtype) instead\n",
      "  if pd.api.types.is_categorical_dtype(dtype):\n",
      "<ipython-input-23-5717676d3adc>:99: DeprecationWarning: is_categorical_dtype is deprecated and will be removed in a future version. Use isinstance(dtype, pd.CategoricalDtype) instead\n",
      "  if pd.api.types.is_categorical_dtype(dtype):\n"
     ]
    },
    {
     "name": "stdout",
     "output_type": "stream",
     "text": [
      "Erro em SKU 4555, data 20241129: Cannot convert non-finite values (NA or inf) to integer\n"
     ]
    },
    {
     "name": "stderr",
     "output_type": "stream",
     "text": [
      "<ipython-input-23-5717676d3adc>:99: DeprecationWarning: is_categorical_dtype is deprecated and will be removed in a future version. Use isinstance(dtype, pd.CategoricalDtype) instead\n",
      "  if pd.api.types.is_categorical_dtype(dtype):\n",
      "<ipython-input-23-5717676d3adc>:99: DeprecationWarning: is_categorical_dtype is deprecated and will be removed in a future version. Use isinstance(dtype, pd.CategoricalDtype) instead\n",
      "  if pd.api.types.is_categorical_dtype(dtype):\n",
      "<ipython-input-23-5717676d3adc>:99: DeprecationWarning: is_categorical_dtype is deprecated and will be removed in a future version. Use isinstance(dtype, pd.CategoricalDtype) instead\n",
      "  if pd.api.types.is_categorical_dtype(dtype):\n",
      "<ipython-input-23-5717676d3adc>:99: DeprecationWarning: is_categorical_dtype is deprecated and will be removed in a future version. Use isinstance(dtype, pd.CategoricalDtype) instead\n",
      "  if pd.api.types.is_categorical_dtype(dtype):\n"
     ]
    },
    {
     "name": "stdout",
     "output_type": "stream",
     "text": [
      "Erro em SKU 3417, data 20241105: Cannot convert non-finite values (NA or inf) to integer\n"
     ]
    },
    {
     "name": "stderr",
     "output_type": "stream",
     "text": [
      "<ipython-input-23-5717676d3adc>:99: DeprecationWarning: is_categorical_dtype is deprecated and will be removed in a future version. Use isinstance(dtype, pd.CategoricalDtype) instead\n",
      "  if pd.api.types.is_categorical_dtype(dtype):\n",
      "<ipython-input-23-5717676d3adc>:99: DeprecationWarning: is_categorical_dtype is deprecated and will be removed in a future version. Use isinstance(dtype, pd.CategoricalDtype) instead\n",
      "  if pd.api.types.is_categorical_dtype(dtype):\n",
      "<ipython-input-23-5717676d3adc>:99: DeprecationWarning: is_categorical_dtype is deprecated and will be removed in a future version. Use isinstance(dtype, pd.CategoricalDtype) instead\n",
      "  if pd.api.types.is_categorical_dtype(dtype):\n",
      "<ipython-input-23-5717676d3adc>:99: DeprecationWarning: is_categorical_dtype is deprecated and will be removed in a future version. Use isinstance(dtype, pd.CategoricalDtype) instead\n",
      "  if pd.api.types.is_categorical_dtype(dtype):\n"
     ]
    },
    {
     "name": "stdout",
     "output_type": "stream",
     "text": [
      "Erro em SKU 2971, data 20241102: Cannot convert non-finite values (NA or inf) to integer\n"
     ]
    },
    {
     "name": "stderr",
     "output_type": "stream",
     "text": [
      "<ipython-input-23-5717676d3adc>:99: DeprecationWarning: is_categorical_dtype is deprecated and will be removed in a future version. Use isinstance(dtype, pd.CategoricalDtype) instead\n",
      "  if pd.api.types.is_categorical_dtype(dtype):\n",
      "<ipython-input-23-5717676d3adc>:99: DeprecationWarning: is_categorical_dtype is deprecated and will be removed in a future version. Use isinstance(dtype, pd.CategoricalDtype) instead\n",
      "  if pd.api.types.is_categorical_dtype(dtype):\n",
      "<ipython-input-23-5717676d3adc>:99: DeprecationWarning: is_categorical_dtype is deprecated and will be removed in a future version. Use isinstance(dtype, pd.CategoricalDtype) instead\n",
      "  if pd.api.types.is_categorical_dtype(dtype):\n",
      "<ipython-input-23-5717676d3adc>:99: DeprecationWarning: is_categorical_dtype is deprecated and will be removed in a future version. Use isinstance(dtype, pd.CategoricalDtype) instead\n",
      "  if pd.api.types.is_categorical_dtype(dtype):\n"
     ]
    },
    {
     "name": "stdout",
     "output_type": "stream",
     "text": [
      "Erro em SKU 3505, data 20241112: Cannot convert non-finite values (NA or inf) to integer\n"
     ]
    },
    {
     "name": "stderr",
     "output_type": "stream",
     "text": [
      "<ipython-input-23-5717676d3adc>:99: DeprecationWarning: is_categorical_dtype is deprecated and will be removed in a future version. Use isinstance(dtype, pd.CategoricalDtype) instead\n",
      "  if pd.api.types.is_categorical_dtype(dtype):\n",
      "<ipython-input-23-5717676d3adc>:99: DeprecationWarning: is_categorical_dtype is deprecated and will be removed in a future version. Use isinstance(dtype, pd.CategoricalDtype) instead\n",
      "  if pd.api.types.is_categorical_dtype(dtype):\n",
      "<ipython-input-23-5717676d3adc>:99: DeprecationWarning: is_categorical_dtype is deprecated and will be removed in a future version. Use isinstance(dtype, pd.CategoricalDtype) instead\n",
      "  if pd.api.types.is_categorical_dtype(dtype):\n",
      "<ipython-input-23-5717676d3adc>:99: DeprecationWarning: is_categorical_dtype is deprecated and will be removed in a future version. Use isinstance(dtype, pd.CategoricalDtype) instead\n",
      "  if pd.api.types.is_categorical_dtype(dtype):\n"
     ]
    },
    {
     "name": "stdout",
     "output_type": "stream",
     "text": [
      "Erro em SKU 3550, data 20241218: Cannot convert non-finite values (NA or inf) to integer\n"
     ]
    },
    {
     "name": "stderr",
     "output_type": "stream",
     "text": [
      "<ipython-input-23-5717676d3adc>:99: DeprecationWarning: is_categorical_dtype is deprecated and will be removed in a future version. Use isinstance(dtype, pd.CategoricalDtype) instead\n",
      "  if pd.api.types.is_categorical_dtype(dtype):\n",
      "<ipython-input-23-5717676d3adc>:99: DeprecationWarning: is_categorical_dtype is deprecated and will be removed in a future version. Use isinstance(dtype, pd.CategoricalDtype) instead\n",
      "  if pd.api.types.is_categorical_dtype(dtype):\n",
      "<ipython-input-23-5717676d3adc>:99: DeprecationWarning: is_categorical_dtype is deprecated and will be removed in a future version. Use isinstance(dtype, pd.CategoricalDtype) instead\n",
      "  if pd.api.types.is_categorical_dtype(dtype):\n",
      "<ipython-input-23-5717676d3adc>:99: DeprecationWarning: is_categorical_dtype is deprecated and will be removed in a future version. Use isinstance(dtype, pd.CategoricalDtype) instead\n",
      "  if pd.api.types.is_categorical_dtype(dtype):\n"
     ]
    },
    {
     "name": "stdout",
     "output_type": "stream",
     "text": [
      "Erro em SKU 3516, data 20241127: Cannot convert non-finite values (NA or inf) to integer\n"
     ]
    },
    {
     "name": "stderr",
     "output_type": "stream",
     "text": [
      "<ipython-input-23-5717676d3adc>:99: DeprecationWarning: is_categorical_dtype is deprecated and will be removed in a future version. Use isinstance(dtype, pd.CategoricalDtype) instead\n",
      "  if pd.api.types.is_categorical_dtype(dtype):\n",
      "<ipython-input-23-5717676d3adc>:99: DeprecationWarning: is_categorical_dtype is deprecated and will be removed in a future version. Use isinstance(dtype, pd.CategoricalDtype) instead\n",
      "  if pd.api.types.is_categorical_dtype(dtype):\n",
      "<ipython-input-23-5717676d3adc>:99: DeprecationWarning: is_categorical_dtype is deprecated and will be removed in a future version. Use isinstance(dtype, pd.CategoricalDtype) instead\n",
      "  if pd.api.types.is_categorical_dtype(dtype):\n",
      "<ipython-input-23-5717676d3adc>:99: DeprecationWarning: is_categorical_dtype is deprecated and will be removed in a future version. Use isinstance(dtype, pd.CategoricalDtype) instead\n",
      "  if pd.api.types.is_categorical_dtype(dtype):\n"
     ]
    },
    {
     "name": "stdout",
     "output_type": "stream",
     "text": [
      "Erro em SKU 2266, data 20241205: Cannot convert non-finite values (NA or inf) to integer\n"
     ]
    },
    {
     "name": "stderr",
     "output_type": "stream",
     "text": [
      "<ipython-input-23-5717676d3adc>:99: DeprecationWarning: is_categorical_dtype is deprecated and will be removed in a future version. Use isinstance(dtype, pd.CategoricalDtype) instead\n",
      "  if pd.api.types.is_categorical_dtype(dtype):\n",
      "<ipython-input-23-5717676d3adc>:99: DeprecationWarning: is_categorical_dtype is deprecated and will be removed in a future version. Use isinstance(dtype, pd.CategoricalDtype) instead\n",
      "  if pd.api.types.is_categorical_dtype(dtype):\n",
      "<ipython-input-23-5717676d3adc>:99: DeprecationWarning: is_categorical_dtype is deprecated and will be removed in a future version. Use isinstance(dtype, pd.CategoricalDtype) instead\n",
      "  if pd.api.types.is_categorical_dtype(dtype):\n",
      "<ipython-input-23-5717676d3adc>:99: DeprecationWarning: is_categorical_dtype is deprecated and will be removed in a future version. Use isinstance(dtype, pd.CategoricalDtype) instead\n",
      "  if pd.api.types.is_categorical_dtype(dtype):\n"
     ]
    },
    {
     "name": "stdout",
     "output_type": "stream",
     "text": [
      "Erro em SKU 4492, data 20241125: Cannot convert non-finite values (NA or inf) to integer\n"
     ]
    },
    {
     "name": "stderr",
     "output_type": "stream",
     "text": [
      "<ipython-input-23-5717676d3adc>:99: DeprecationWarning: is_categorical_dtype is deprecated and will be removed in a future version. Use isinstance(dtype, pd.CategoricalDtype) instead\n",
      "  if pd.api.types.is_categorical_dtype(dtype):\n",
      "<ipython-input-23-5717676d3adc>:99: DeprecationWarning: is_categorical_dtype is deprecated and will be removed in a future version. Use isinstance(dtype, pd.CategoricalDtype) instead\n",
      "  if pd.api.types.is_categorical_dtype(dtype):\n",
      "<ipython-input-23-5717676d3adc>:99: DeprecationWarning: is_categorical_dtype is deprecated and will be removed in a future version. Use isinstance(dtype, pd.CategoricalDtype) instead\n",
      "  if pd.api.types.is_categorical_dtype(dtype):\n",
      "<ipython-input-23-5717676d3adc>:99: DeprecationWarning: is_categorical_dtype is deprecated and will be removed in a future version. Use isinstance(dtype, pd.CategoricalDtype) instead\n",
      "  if pd.api.types.is_categorical_dtype(dtype):\n"
     ]
    },
    {
     "name": "stdout",
     "output_type": "stream",
     "text": [
      "Erro em SKU 3310, data 20241208: Cannot convert non-finite values (NA or inf) to integer\n"
     ]
    },
    {
     "name": "stderr",
     "output_type": "stream",
     "text": [
      "<ipython-input-23-5717676d3adc>:99: DeprecationWarning: is_categorical_dtype is deprecated and will be removed in a future version. Use isinstance(dtype, pd.CategoricalDtype) instead\n",
      "  if pd.api.types.is_categorical_dtype(dtype):\n",
      "<ipython-input-23-5717676d3adc>:99: DeprecationWarning: is_categorical_dtype is deprecated and will be removed in a future version. Use isinstance(dtype, pd.CategoricalDtype) instead\n",
      "  if pd.api.types.is_categorical_dtype(dtype):\n",
      "<ipython-input-23-5717676d3adc>:99: DeprecationWarning: is_categorical_dtype is deprecated and will be removed in a future version. Use isinstance(dtype, pd.CategoricalDtype) instead\n",
      "  if pd.api.types.is_categorical_dtype(dtype):\n",
      "<ipython-input-23-5717676d3adc>:99: DeprecationWarning: is_categorical_dtype is deprecated and will be removed in a future version. Use isinstance(dtype, pd.CategoricalDtype) instead\n",
      "  if pd.api.types.is_categorical_dtype(dtype):\n"
     ]
    },
    {
     "name": "stdout",
     "output_type": "stream",
     "text": [
      "Erro em SKU 3514, data 20241113: Cannot convert non-finite values (NA or inf) to integer\n"
     ]
    },
    {
     "name": "stderr",
     "output_type": "stream",
     "text": [
      "<ipython-input-23-5717676d3adc>:99: DeprecationWarning: is_categorical_dtype is deprecated and will be removed in a future version. Use isinstance(dtype, pd.CategoricalDtype) instead\n",
      "  if pd.api.types.is_categorical_dtype(dtype):\n",
      "<ipython-input-23-5717676d3adc>:99: DeprecationWarning: is_categorical_dtype is deprecated and will be removed in a future version. Use isinstance(dtype, pd.CategoricalDtype) instead\n",
      "  if pd.api.types.is_categorical_dtype(dtype):\n",
      "<ipython-input-23-5717676d3adc>:99: DeprecationWarning: is_categorical_dtype is deprecated and will be removed in a future version. Use isinstance(dtype, pd.CategoricalDtype) instead\n",
      "  if pd.api.types.is_categorical_dtype(dtype):\n",
      "<ipython-input-23-5717676d3adc>:99: DeprecationWarning: is_categorical_dtype is deprecated and will be removed in a future version. Use isinstance(dtype, pd.CategoricalDtype) instead\n",
      "  if pd.api.types.is_categorical_dtype(dtype):\n"
     ]
    },
    {
     "name": "stdout",
     "output_type": "stream",
     "text": [
      "Erro em SKU 3277, data 20241117: Cannot convert non-finite values (NA or inf) to integer\n"
     ]
    },
    {
     "name": "stderr",
     "output_type": "stream",
     "text": [
      "<ipython-input-23-5717676d3adc>:99: DeprecationWarning: is_categorical_dtype is deprecated and will be removed in a future version. Use isinstance(dtype, pd.CategoricalDtype) instead\n",
      "  if pd.api.types.is_categorical_dtype(dtype):\n",
      "<ipython-input-23-5717676d3adc>:99: DeprecationWarning: is_categorical_dtype is deprecated and will be removed in a future version. Use isinstance(dtype, pd.CategoricalDtype) instead\n",
      "  if pd.api.types.is_categorical_dtype(dtype):\n",
      "<ipython-input-23-5717676d3adc>:99: DeprecationWarning: is_categorical_dtype is deprecated and will be removed in a future version. Use isinstance(dtype, pd.CategoricalDtype) instead\n",
      "  if pd.api.types.is_categorical_dtype(dtype):\n",
      "<ipython-input-23-5717676d3adc>:99: DeprecationWarning: is_categorical_dtype is deprecated and will be removed in a future version. Use isinstance(dtype, pd.CategoricalDtype) instead\n",
      "  if pd.api.types.is_categorical_dtype(dtype):\n"
     ]
    },
    {
     "name": "stdout",
     "output_type": "stream",
     "text": [
      "Erro em SKU 4154, data 20241216: Cannot convert non-finite values (NA or inf) to integer\n"
     ]
    },
    {
     "name": "stderr",
     "output_type": "stream",
     "text": [
      "<ipython-input-23-5717676d3adc>:99: DeprecationWarning: is_categorical_dtype is deprecated and will be removed in a future version. Use isinstance(dtype, pd.CategoricalDtype) instead\n",
      "  if pd.api.types.is_categorical_dtype(dtype):\n",
      "<ipython-input-23-5717676d3adc>:99: DeprecationWarning: is_categorical_dtype is deprecated and will be removed in a future version. Use isinstance(dtype, pd.CategoricalDtype) instead\n",
      "  if pd.api.types.is_categorical_dtype(dtype):\n",
      "<ipython-input-23-5717676d3adc>:99: DeprecationWarning: is_categorical_dtype is deprecated and will be removed in a future version. Use isinstance(dtype, pd.CategoricalDtype) instead\n",
      "  if pd.api.types.is_categorical_dtype(dtype):\n",
      "<ipython-input-23-5717676d3adc>:99: DeprecationWarning: is_categorical_dtype is deprecated and will be removed in a future version. Use isinstance(dtype, pd.CategoricalDtype) instead\n",
      "  if pd.api.types.is_categorical_dtype(dtype):\n"
     ]
    },
    {
     "name": "stdout",
     "output_type": "stream",
     "text": [
      "Erro em SKU 1218, data 20241216: Cannot convert non-finite values (NA or inf) to integer\n"
     ]
    },
    {
     "name": "stderr",
     "output_type": "stream",
     "text": [
      "<ipython-input-23-5717676d3adc>:99: DeprecationWarning: is_categorical_dtype is deprecated and will be removed in a future version. Use isinstance(dtype, pd.CategoricalDtype) instead\n",
      "  if pd.api.types.is_categorical_dtype(dtype):\n",
      "<ipython-input-23-5717676d3adc>:99: DeprecationWarning: is_categorical_dtype is deprecated and will be removed in a future version. Use isinstance(dtype, pd.CategoricalDtype) instead\n",
      "  if pd.api.types.is_categorical_dtype(dtype):\n",
      "<ipython-input-23-5717676d3adc>:99: DeprecationWarning: is_categorical_dtype is deprecated and will be removed in a future version. Use isinstance(dtype, pd.CategoricalDtype) instead\n",
      "  if pd.api.types.is_categorical_dtype(dtype):\n",
      "<ipython-input-23-5717676d3adc>:99: DeprecationWarning: is_categorical_dtype is deprecated and will be removed in a future version. Use isinstance(dtype, pd.CategoricalDtype) instead\n",
      "  if pd.api.types.is_categorical_dtype(dtype):\n"
     ]
    },
    {
     "name": "stdout",
     "output_type": "stream",
     "text": [
      "Erro em SKU 2538, data 20241029: Cannot convert non-finite values (NA or inf) to integer\n"
     ]
    },
    {
     "name": "stderr",
     "output_type": "stream",
     "text": [
      "<ipython-input-23-5717676d3adc>:99: DeprecationWarning: is_categorical_dtype is deprecated and will be removed in a future version. Use isinstance(dtype, pd.CategoricalDtype) instead\n",
      "  if pd.api.types.is_categorical_dtype(dtype):\n",
      "<ipython-input-23-5717676d3adc>:99: DeprecationWarning: is_categorical_dtype is deprecated and will be removed in a future version. Use isinstance(dtype, pd.CategoricalDtype) instead\n",
      "  if pd.api.types.is_categorical_dtype(dtype):\n",
      "<ipython-input-23-5717676d3adc>:99: DeprecationWarning: is_categorical_dtype is deprecated and will be removed in a future version. Use isinstance(dtype, pd.CategoricalDtype) instead\n",
      "  if pd.api.types.is_categorical_dtype(dtype):\n",
      "<ipython-input-23-5717676d3adc>:99: DeprecationWarning: is_categorical_dtype is deprecated and will be removed in a future version. Use isinstance(dtype, pd.CategoricalDtype) instead\n",
      "  if pd.api.types.is_categorical_dtype(dtype):\n"
     ]
    },
    {
     "name": "stdout",
     "output_type": "stream",
     "text": [
      "Erro em SKU 1612, data 20241107: Cannot convert non-finite values (NA or inf) to integer\n"
     ]
    },
    {
     "name": "stderr",
     "output_type": "stream",
     "text": [
      "<ipython-input-23-5717676d3adc>:99: DeprecationWarning: is_categorical_dtype is deprecated and will be removed in a future version. Use isinstance(dtype, pd.CategoricalDtype) instead\n",
      "  if pd.api.types.is_categorical_dtype(dtype):\n",
      "<ipython-input-23-5717676d3adc>:99: DeprecationWarning: is_categorical_dtype is deprecated and will be removed in a future version. Use isinstance(dtype, pd.CategoricalDtype) instead\n",
      "  if pd.api.types.is_categorical_dtype(dtype):\n",
      "<ipython-input-23-5717676d3adc>:99: DeprecationWarning: is_categorical_dtype is deprecated and will be removed in a future version. Use isinstance(dtype, pd.CategoricalDtype) instead\n",
      "  if pd.api.types.is_categorical_dtype(dtype):\n",
      "<ipython-input-23-5717676d3adc>:99: DeprecationWarning: is_categorical_dtype is deprecated and will be removed in a future version. Use isinstance(dtype, pd.CategoricalDtype) instead\n",
      "  if pd.api.types.is_categorical_dtype(dtype):\n"
     ]
    },
    {
     "name": "stdout",
     "output_type": "stream",
     "text": [
      "Erro em SKU 2727, data 20241215: Cannot convert non-finite values (NA or inf) to integer\n"
     ]
    },
    {
     "name": "stderr",
     "output_type": "stream",
     "text": [
      "<ipython-input-23-5717676d3adc>:99: DeprecationWarning: is_categorical_dtype is deprecated and will be removed in a future version. Use isinstance(dtype, pd.CategoricalDtype) instead\n",
      "  if pd.api.types.is_categorical_dtype(dtype):\n",
      "<ipython-input-23-5717676d3adc>:99: DeprecationWarning: is_categorical_dtype is deprecated and will be removed in a future version. Use isinstance(dtype, pd.CategoricalDtype) instead\n",
      "  if pd.api.types.is_categorical_dtype(dtype):\n",
      "<ipython-input-23-5717676d3adc>:99: DeprecationWarning: is_categorical_dtype is deprecated and will be removed in a future version. Use isinstance(dtype, pd.CategoricalDtype) instead\n",
      "  if pd.api.types.is_categorical_dtype(dtype):\n",
      "<ipython-input-23-5717676d3adc>:99: DeprecationWarning: is_categorical_dtype is deprecated and will be removed in a future version. Use isinstance(dtype, pd.CategoricalDtype) instead\n",
      "  if pd.api.types.is_categorical_dtype(dtype):\n"
     ]
    },
    {
     "name": "stdout",
     "output_type": "stream",
     "text": [
      "Erro em SKU 4003, data 20241205: Cannot convert non-finite values (NA or inf) to integer\n"
     ]
    },
    {
     "name": "stderr",
     "output_type": "stream",
     "text": [
      "<ipython-input-23-5717676d3adc>:99: DeprecationWarning: is_categorical_dtype is deprecated and will be removed in a future version. Use isinstance(dtype, pd.CategoricalDtype) instead\n",
      "  if pd.api.types.is_categorical_dtype(dtype):\n",
      "<ipython-input-23-5717676d3adc>:99: DeprecationWarning: is_categorical_dtype is deprecated and will be removed in a future version. Use isinstance(dtype, pd.CategoricalDtype) instead\n",
      "  if pd.api.types.is_categorical_dtype(dtype):\n",
      "<ipython-input-23-5717676d3adc>:99: DeprecationWarning: is_categorical_dtype is deprecated and will be removed in a future version. Use isinstance(dtype, pd.CategoricalDtype) instead\n",
      "  if pd.api.types.is_categorical_dtype(dtype):\n",
      "<ipython-input-23-5717676d3adc>:99: DeprecationWarning: is_categorical_dtype is deprecated and will be removed in a future version. Use isinstance(dtype, pd.CategoricalDtype) instead\n",
      "  if pd.api.types.is_categorical_dtype(dtype):\n"
     ]
    },
    {
     "name": "stdout",
     "output_type": "stream",
     "text": [
      "Erro em SKU 4579, data 20241217: Cannot convert non-finite values (NA or inf) to integer\n"
     ]
    },
    {
     "name": "stderr",
     "output_type": "stream",
     "text": [
      "<ipython-input-23-5717676d3adc>:99: DeprecationWarning: is_categorical_dtype is deprecated and will be removed in a future version. Use isinstance(dtype, pd.CategoricalDtype) instead\n",
      "  if pd.api.types.is_categorical_dtype(dtype):\n",
      "<ipython-input-23-5717676d3adc>:99: DeprecationWarning: is_categorical_dtype is deprecated and will be removed in a future version. Use isinstance(dtype, pd.CategoricalDtype) instead\n",
      "  if pd.api.types.is_categorical_dtype(dtype):\n",
      "<ipython-input-23-5717676d3adc>:99: DeprecationWarning: is_categorical_dtype is deprecated and will be removed in a future version. Use isinstance(dtype, pd.CategoricalDtype) instead\n",
      "  if pd.api.types.is_categorical_dtype(dtype):\n",
      "<ipython-input-23-5717676d3adc>:99: DeprecationWarning: is_categorical_dtype is deprecated and will be removed in a future version. Use isinstance(dtype, pd.CategoricalDtype) instead\n",
      "  if pd.api.types.is_categorical_dtype(dtype):\n"
     ]
    },
    {
     "name": "stdout",
     "output_type": "stream",
     "text": [
      "Erro em SKU 3453, data 20241208: Cannot convert non-finite values (NA or inf) to integer\n"
     ]
    },
    {
     "name": "stderr",
     "output_type": "stream",
     "text": [
      "<ipython-input-23-5717676d3adc>:99: DeprecationWarning: is_categorical_dtype is deprecated and will be removed in a future version. Use isinstance(dtype, pd.CategoricalDtype) instead\n",
      "  if pd.api.types.is_categorical_dtype(dtype):\n",
      "<ipython-input-23-5717676d3adc>:99: DeprecationWarning: is_categorical_dtype is deprecated and will be removed in a future version. Use isinstance(dtype, pd.CategoricalDtype) instead\n",
      "  if pd.api.types.is_categorical_dtype(dtype):\n",
      "<ipython-input-23-5717676d3adc>:99: DeprecationWarning: is_categorical_dtype is deprecated and will be removed in a future version. Use isinstance(dtype, pd.CategoricalDtype) instead\n",
      "  if pd.api.types.is_categorical_dtype(dtype):\n",
      "<ipython-input-23-5717676d3adc>:99: DeprecationWarning: is_categorical_dtype is deprecated and will be removed in a future version. Use isinstance(dtype, pd.CategoricalDtype) instead\n",
      "  if pd.api.types.is_categorical_dtype(dtype):\n"
     ]
    },
    {
     "name": "stdout",
     "output_type": "stream",
     "text": [
      "Erro em SKU 2971, data 20241121: Cannot convert non-finite values (NA or inf) to integer\n"
     ]
    },
    {
     "name": "stderr",
     "output_type": "stream",
     "text": [
      "<ipython-input-23-5717676d3adc>:99: DeprecationWarning: is_categorical_dtype is deprecated and will be removed in a future version. Use isinstance(dtype, pd.CategoricalDtype) instead\n",
      "  if pd.api.types.is_categorical_dtype(dtype):\n",
      "<ipython-input-23-5717676d3adc>:99: DeprecationWarning: is_categorical_dtype is deprecated and will be removed in a future version. Use isinstance(dtype, pd.CategoricalDtype) instead\n",
      "  if pd.api.types.is_categorical_dtype(dtype):\n",
      "<ipython-input-23-5717676d3adc>:99: DeprecationWarning: is_categorical_dtype is deprecated and will be removed in a future version. Use isinstance(dtype, pd.CategoricalDtype) instead\n",
      "  if pd.api.types.is_categorical_dtype(dtype):\n",
      "<ipython-input-23-5717676d3adc>:99: DeprecationWarning: is_categorical_dtype is deprecated and will be removed in a future version. Use isinstance(dtype, pd.CategoricalDtype) instead\n",
      "  if pd.api.types.is_categorical_dtype(dtype):\n"
     ]
    },
    {
     "name": "stdout",
     "output_type": "stream",
     "text": [
      "Erro em SKU 1809, data 20241029: Cannot convert non-finite values (NA or inf) to integer\n"
     ]
    },
    {
     "name": "stderr",
     "output_type": "stream",
     "text": [
      "<ipython-input-23-5717676d3adc>:99: DeprecationWarning: is_categorical_dtype is deprecated and will be removed in a future version. Use isinstance(dtype, pd.CategoricalDtype) instead\n",
      "  if pd.api.types.is_categorical_dtype(dtype):\n",
      "<ipython-input-23-5717676d3adc>:99: DeprecationWarning: is_categorical_dtype is deprecated and will be removed in a future version. Use isinstance(dtype, pd.CategoricalDtype) instead\n",
      "  if pd.api.types.is_categorical_dtype(dtype):\n",
      "<ipython-input-23-5717676d3adc>:99: DeprecationWarning: is_categorical_dtype is deprecated and will be removed in a future version. Use isinstance(dtype, pd.CategoricalDtype) instead\n",
      "  if pd.api.types.is_categorical_dtype(dtype):\n",
      "<ipython-input-23-5717676d3adc>:99: DeprecationWarning: is_categorical_dtype is deprecated and will be removed in a future version. Use isinstance(dtype, pd.CategoricalDtype) instead\n",
      "  if pd.api.types.is_categorical_dtype(dtype):\n"
     ]
    },
    {
     "name": "stdout",
     "output_type": "stream",
     "text": [
      "Erro em SKU 4492, data 20241122: Cannot convert non-finite values (NA or inf) to integer\n"
     ]
    },
    {
     "name": "stderr",
     "output_type": "stream",
     "text": [
      "<ipython-input-23-5717676d3adc>:99: DeprecationWarning: is_categorical_dtype is deprecated and will be removed in a future version. Use isinstance(dtype, pd.CategoricalDtype) instead\n",
      "  if pd.api.types.is_categorical_dtype(dtype):\n",
      "<ipython-input-23-5717676d3adc>:99: DeprecationWarning: is_categorical_dtype is deprecated and will be removed in a future version. Use isinstance(dtype, pd.CategoricalDtype) instead\n",
      "  if pd.api.types.is_categorical_dtype(dtype):\n",
      "<ipython-input-23-5717676d3adc>:99: DeprecationWarning: is_categorical_dtype is deprecated and will be removed in a future version. Use isinstance(dtype, pd.CategoricalDtype) instead\n",
      "  if pd.api.types.is_categorical_dtype(dtype):\n",
      "<ipython-input-23-5717676d3adc>:99: DeprecationWarning: is_categorical_dtype is deprecated and will be removed in a future version. Use isinstance(dtype, pd.CategoricalDtype) instead\n",
      "  if pd.api.types.is_categorical_dtype(dtype):\n"
     ]
    },
    {
     "name": "stdout",
     "output_type": "stream",
     "text": [
      "Erro em SKU 1369, data 20241208: Cannot convert non-finite values (NA or inf) to integer\n"
     ]
    },
    {
     "name": "stderr",
     "output_type": "stream",
     "text": [
      "<ipython-input-23-5717676d3adc>:99: DeprecationWarning: is_categorical_dtype is deprecated and will be removed in a future version. Use isinstance(dtype, pd.CategoricalDtype) instead\n",
      "  if pd.api.types.is_categorical_dtype(dtype):\n",
      "<ipython-input-23-5717676d3adc>:99: DeprecationWarning: is_categorical_dtype is deprecated and will be removed in a future version. Use isinstance(dtype, pd.CategoricalDtype) instead\n",
      "  if pd.api.types.is_categorical_dtype(dtype):\n",
      "<ipython-input-23-5717676d3adc>:99: DeprecationWarning: is_categorical_dtype is deprecated and will be removed in a future version. Use isinstance(dtype, pd.CategoricalDtype) instead\n",
      "  if pd.api.types.is_categorical_dtype(dtype):\n",
      "<ipython-input-23-5717676d3adc>:99: DeprecationWarning: is_categorical_dtype is deprecated and will be removed in a future version. Use isinstance(dtype, pd.CategoricalDtype) instead\n",
      "  if pd.api.types.is_categorical_dtype(dtype):\n"
     ]
    },
    {
     "name": "stdout",
     "output_type": "stream",
     "text": [
      "Erro em SKU 3361, data 20241029: Cannot convert non-finite values (NA or inf) to integer\n"
     ]
    },
    {
     "name": "stderr",
     "output_type": "stream",
     "text": [
      "<ipython-input-23-5717676d3adc>:99: DeprecationWarning: is_categorical_dtype is deprecated and will be removed in a future version. Use isinstance(dtype, pd.CategoricalDtype) instead\n",
      "  if pd.api.types.is_categorical_dtype(dtype):\n",
      "<ipython-input-23-5717676d3adc>:99: DeprecationWarning: is_categorical_dtype is deprecated and will be removed in a future version. Use isinstance(dtype, pd.CategoricalDtype) instead\n",
      "  if pd.api.types.is_categorical_dtype(dtype):\n",
      "<ipython-input-23-5717676d3adc>:99: DeprecationWarning: is_categorical_dtype is deprecated and will be removed in a future version. Use isinstance(dtype, pd.CategoricalDtype) instead\n",
      "  if pd.api.types.is_categorical_dtype(dtype):\n",
      "<ipython-input-23-5717676d3adc>:99: DeprecationWarning: is_categorical_dtype is deprecated and will be removed in a future version. Use isinstance(dtype, pd.CategoricalDtype) instead\n",
      "  if pd.api.types.is_categorical_dtype(dtype):\n"
     ]
    },
    {
     "name": "stdout",
     "output_type": "stream",
     "text": [
      "Erro em SKU 2913, data 20241029: Cannot convert non-finite values (NA or inf) to integer\n"
     ]
    },
    {
     "name": "stderr",
     "output_type": "stream",
     "text": [
      "<ipython-input-23-5717676d3adc>:99: DeprecationWarning: is_categorical_dtype is deprecated and will be removed in a future version. Use isinstance(dtype, pd.CategoricalDtype) instead\n",
      "  if pd.api.types.is_categorical_dtype(dtype):\n",
      "<ipython-input-23-5717676d3adc>:99: DeprecationWarning: is_categorical_dtype is deprecated and will be removed in a future version. Use isinstance(dtype, pd.CategoricalDtype) instead\n",
      "  if pd.api.types.is_categorical_dtype(dtype):\n",
      "<ipython-input-23-5717676d3adc>:99: DeprecationWarning: is_categorical_dtype is deprecated and will be removed in a future version. Use isinstance(dtype, pd.CategoricalDtype) instead\n",
      "  if pd.api.types.is_categorical_dtype(dtype):\n",
      "<ipython-input-23-5717676d3adc>:99: DeprecationWarning: is_categorical_dtype is deprecated and will be removed in a future version. Use isinstance(dtype, pd.CategoricalDtype) instead\n",
      "  if pd.api.types.is_categorical_dtype(dtype):\n"
     ]
    },
    {
     "name": "stdout",
     "output_type": "stream",
     "text": [
      "Erro em SKU 4539, data 20241203: Cannot convert non-finite values (NA or inf) to integer\n"
     ]
    },
    {
     "name": "stderr",
     "output_type": "stream",
     "text": [
      "<ipython-input-23-5717676d3adc>:99: DeprecationWarning: is_categorical_dtype is deprecated and will be removed in a future version. Use isinstance(dtype, pd.CategoricalDtype) instead\n",
      "  if pd.api.types.is_categorical_dtype(dtype):\n",
      "<ipython-input-23-5717676d3adc>:99: DeprecationWarning: is_categorical_dtype is deprecated and will be removed in a future version. Use isinstance(dtype, pd.CategoricalDtype) instead\n",
      "  if pd.api.types.is_categorical_dtype(dtype):\n",
      "<ipython-input-23-5717676d3adc>:99: DeprecationWarning: is_categorical_dtype is deprecated and will be removed in a future version. Use isinstance(dtype, pd.CategoricalDtype) instead\n",
      "  if pd.api.types.is_categorical_dtype(dtype):\n",
      "<ipython-input-23-5717676d3adc>:99: DeprecationWarning: is_categorical_dtype is deprecated and will be removed in a future version. Use isinstance(dtype, pd.CategoricalDtype) instead\n",
      "  if pd.api.types.is_categorical_dtype(dtype):\n"
     ]
    },
    {
     "name": "stdout",
     "output_type": "stream",
     "text": [
      "Erro em SKU 2428, data 20241209: Cannot convert non-finite values (NA or inf) to integer\n"
     ]
    },
    {
     "name": "stderr",
     "output_type": "stream",
     "text": [
      "<ipython-input-23-5717676d3adc>:99: DeprecationWarning: is_categorical_dtype is deprecated and will be removed in a future version. Use isinstance(dtype, pd.CategoricalDtype) instead\n",
      "  if pd.api.types.is_categorical_dtype(dtype):\n",
      "<ipython-input-23-5717676d3adc>:99: DeprecationWarning: is_categorical_dtype is deprecated and will be removed in a future version. Use isinstance(dtype, pd.CategoricalDtype) instead\n",
      "  if pd.api.types.is_categorical_dtype(dtype):\n",
      "<ipython-input-23-5717676d3adc>:99: DeprecationWarning: is_categorical_dtype is deprecated and will be removed in a future version. Use isinstance(dtype, pd.CategoricalDtype) instead\n",
      "  if pd.api.types.is_categorical_dtype(dtype):\n",
      "<ipython-input-23-5717676d3adc>:99: DeprecationWarning: is_categorical_dtype is deprecated and will be removed in a future version. Use isinstance(dtype, pd.CategoricalDtype) instead\n",
      "  if pd.api.types.is_categorical_dtype(dtype):\n"
     ]
    },
    {
     "name": "stdout",
     "output_type": "stream",
     "text": [
      "Erro em SKU 4314, data 20241229: Cannot convert non-finite values (NA or inf) to integer\n"
     ]
    },
    {
     "name": "stderr",
     "output_type": "stream",
     "text": [
      "<ipython-input-23-5717676d3adc>:99: DeprecationWarning: is_categorical_dtype is deprecated and will be removed in a future version. Use isinstance(dtype, pd.CategoricalDtype) instead\n",
      "  if pd.api.types.is_categorical_dtype(dtype):\n",
      "<ipython-input-23-5717676d3adc>:99: DeprecationWarning: is_categorical_dtype is deprecated and will be removed in a future version. Use isinstance(dtype, pd.CategoricalDtype) instead\n",
      "  if pd.api.types.is_categorical_dtype(dtype):\n",
      "<ipython-input-23-5717676d3adc>:99: DeprecationWarning: is_categorical_dtype is deprecated and will be removed in a future version. Use isinstance(dtype, pd.CategoricalDtype) instead\n",
      "  if pd.api.types.is_categorical_dtype(dtype):\n",
      "<ipython-input-23-5717676d3adc>:99: DeprecationWarning: is_categorical_dtype is deprecated and will be removed in a future version. Use isinstance(dtype, pd.CategoricalDtype) instead\n",
      "  if pd.api.types.is_categorical_dtype(dtype):\n"
     ]
    },
    {
     "name": "stdout",
     "output_type": "stream",
     "text": [
      "Erro em SKU 1661, data 20241201: Cannot convert non-finite values (NA or inf) to integer\n"
     ]
    },
    {
     "name": "stderr",
     "output_type": "stream",
     "text": [
      "<ipython-input-23-5717676d3adc>:99: DeprecationWarning: is_categorical_dtype is deprecated and will be removed in a future version. Use isinstance(dtype, pd.CategoricalDtype) instead\n",
      "  if pd.api.types.is_categorical_dtype(dtype):\n",
      "<ipython-input-23-5717676d3adc>:99: DeprecationWarning: is_categorical_dtype is deprecated and will be removed in a future version. Use isinstance(dtype, pd.CategoricalDtype) instead\n",
      "  if pd.api.types.is_categorical_dtype(dtype):\n",
      "<ipython-input-23-5717676d3adc>:99: DeprecationWarning: is_categorical_dtype is deprecated and will be removed in a future version. Use isinstance(dtype, pd.CategoricalDtype) instead\n",
      "  if pd.api.types.is_categorical_dtype(dtype):\n",
      "<ipython-input-23-5717676d3adc>:99: DeprecationWarning: is_categorical_dtype is deprecated and will be removed in a future version. Use isinstance(dtype, pd.CategoricalDtype) instead\n",
      "  if pd.api.types.is_categorical_dtype(dtype):\n"
     ]
    },
    {
     "name": "stdout",
     "output_type": "stream",
     "text": [
      "Erro em SKU 4047, data 20241210: Cannot convert non-finite values (NA or inf) to integer\n"
     ]
    },
    {
     "name": "stderr",
     "output_type": "stream",
     "text": [
      "<ipython-input-23-5717676d3adc>:99: DeprecationWarning: is_categorical_dtype is deprecated and will be removed in a future version. Use isinstance(dtype, pd.CategoricalDtype) instead\n",
      "  if pd.api.types.is_categorical_dtype(dtype):\n",
      "<ipython-input-23-5717676d3adc>:99: DeprecationWarning: is_categorical_dtype is deprecated and will be removed in a future version. Use isinstance(dtype, pd.CategoricalDtype) instead\n",
      "  if pd.api.types.is_categorical_dtype(dtype):\n",
      "<ipython-input-23-5717676d3adc>:99: DeprecationWarning: is_categorical_dtype is deprecated and will be removed in a future version. Use isinstance(dtype, pd.CategoricalDtype) instead\n",
      "  if pd.api.types.is_categorical_dtype(dtype):\n",
      "<ipython-input-23-5717676d3adc>:99: DeprecationWarning: is_categorical_dtype is deprecated and will be removed in a future version. Use isinstance(dtype, pd.CategoricalDtype) instead\n",
      "  if pd.api.types.is_categorical_dtype(dtype):\n"
     ]
    },
    {
     "name": "stdout",
     "output_type": "stream",
     "text": [
      "Erro em SKU 1393, data 20241213: Cannot convert non-finite values (NA or inf) to integer\n"
     ]
    },
    {
     "name": "stderr",
     "output_type": "stream",
     "text": [
      "<ipython-input-23-5717676d3adc>:99: DeprecationWarning: is_categorical_dtype is deprecated and will be removed in a future version. Use isinstance(dtype, pd.CategoricalDtype) instead\n",
      "  if pd.api.types.is_categorical_dtype(dtype):\n",
      "<ipython-input-23-5717676d3adc>:99: DeprecationWarning: is_categorical_dtype is deprecated and will be removed in a future version. Use isinstance(dtype, pd.CategoricalDtype) instead\n",
      "  if pd.api.types.is_categorical_dtype(dtype):\n",
      "<ipython-input-23-5717676d3adc>:99: DeprecationWarning: is_categorical_dtype is deprecated and will be removed in a future version. Use isinstance(dtype, pd.CategoricalDtype) instead\n",
      "  if pd.api.types.is_categorical_dtype(dtype):\n",
      "<ipython-input-23-5717676d3adc>:99: DeprecationWarning: is_categorical_dtype is deprecated and will be removed in a future version. Use isinstance(dtype, pd.CategoricalDtype) instead\n",
      "  if pd.api.types.is_categorical_dtype(dtype):\n"
     ]
    },
    {
     "name": "stdout",
     "output_type": "stream",
     "text": [
      "Erro em SKU 3579, data 20241215: Cannot convert non-finite values (NA or inf) to integer\n"
     ]
    },
    {
     "name": "stderr",
     "output_type": "stream",
     "text": [
      "<ipython-input-23-5717676d3adc>:99: DeprecationWarning: is_categorical_dtype is deprecated and will be removed in a future version. Use isinstance(dtype, pd.CategoricalDtype) instead\n",
      "  if pd.api.types.is_categorical_dtype(dtype):\n",
      "<ipython-input-23-5717676d3adc>:99: DeprecationWarning: is_categorical_dtype is deprecated and will be removed in a future version. Use isinstance(dtype, pd.CategoricalDtype) instead\n",
      "  if pd.api.types.is_categorical_dtype(dtype):\n",
      "<ipython-input-23-5717676d3adc>:99: DeprecationWarning: is_categorical_dtype is deprecated and will be removed in a future version. Use isinstance(dtype, pd.CategoricalDtype) instead\n",
      "  if pd.api.types.is_categorical_dtype(dtype):\n",
      "<ipython-input-23-5717676d3adc>:99: DeprecationWarning: is_categorical_dtype is deprecated and will be removed in a future version. Use isinstance(dtype, pd.CategoricalDtype) instead\n",
      "  if pd.api.types.is_categorical_dtype(dtype):\n"
     ]
    },
    {
     "name": "stdout",
     "output_type": "stream",
     "text": [
      "Erro em SKU 3711, data 20241220: Cannot convert non-finite values (NA or inf) to integer\n"
     ]
    },
    {
     "name": "stderr",
     "output_type": "stream",
     "text": [
      "<ipython-input-23-5717676d3adc>:99: DeprecationWarning: is_categorical_dtype is deprecated and will be removed in a future version. Use isinstance(dtype, pd.CategoricalDtype) instead\n",
      "  if pd.api.types.is_categorical_dtype(dtype):\n",
      "<ipython-input-23-5717676d3adc>:99: DeprecationWarning: is_categorical_dtype is deprecated and will be removed in a future version. Use isinstance(dtype, pd.CategoricalDtype) instead\n",
      "  if pd.api.types.is_categorical_dtype(dtype):\n",
      "<ipython-input-23-5717676d3adc>:99: DeprecationWarning: is_categorical_dtype is deprecated and will be removed in a future version. Use isinstance(dtype, pd.CategoricalDtype) instead\n",
      "  if pd.api.types.is_categorical_dtype(dtype):\n",
      "<ipython-input-23-5717676d3adc>:99: DeprecationWarning: is_categorical_dtype is deprecated and will be removed in a future version. Use isinstance(dtype, pd.CategoricalDtype) instead\n",
      "  if pd.api.types.is_categorical_dtype(dtype):\n"
     ]
    },
    {
     "name": "stdout",
     "output_type": "stream",
     "text": [
      "Erro em SKU 4312, data 20241202: Cannot convert non-finite values (NA or inf) to integer\n"
     ]
    },
    {
     "name": "stderr",
     "output_type": "stream",
     "text": [
      "<ipython-input-23-5717676d3adc>:99: DeprecationWarning: is_categorical_dtype is deprecated and will be removed in a future version. Use isinstance(dtype, pd.CategoricalDtype) instead\n",
      "  if pd.api.types.is_categorical_dtype(dtype):\n",
      "<ipython-input-23-5717676d3adc>:99: DeprecationWarning: is_categorical_dtype is deprecated and will be removed in a future version. Use isinstance(dtype, pd.CategoricalDtype) instead\n",
      "  if pd.api.types.is_categorical_dtype(dtype):\n",
      "<ipython-input-23-5717676d3adc>:99: DeprecationWarning: is_categorical_dtype is deprecated and will be removed in a future version. Use isinstance(dtype, pd.CategoricalDtype) instead\n",
      "  if pd.api.types.is_categorical_dtype(dtype):\n",
      "<ipython-input-23-5717676d3adc>:99: DeprecationWarning: is_categorical_dtype is deprecated and will be removed in a future version. Use isinstance(dtype, pd.CategoricalDtype) instead\n",
      "  if pd.api.types.is_categorical_dtype(dtype):\n"
     ]
    },
    {
     "name": "stdout",
     "output_type": "stream",
     "text": [
      "Erro em SKU 2310, data 20241213: Cannot convert non-finite values (NA or inf) to integer\n"
     ]
    },
    {
     "name": "stderr",
     "output_type": "stream",
     "text": [
      "<ipython-input-23-5717676d3adc>:99: DeprecationWarning: is_categorical_dtype is deprecated and will be removed in a future version. Use isinstance(dtype, pd.CategoricalDtype) instead\n",
      "  if pd.api.types.is_categorical_dtype(dtype):\n",
      "<ipython-input-23-5717676d3adc>:99: DeprecationWarning: is_categorical_dtype is deprecated and will be removed in a future version. Use isinstance(dtype, pd.CategoricalDtype) instead\n",
      "  if pd.api.types.is_categorical_dtype(dtype):\n",
      "<ipython-input-23-5717676d3adc>:99: DeprecationWarning: is_categorical_dtype is deprecated and will be removed in a future version. Use isinstance(dtype, pd.CategoricalDtype) instead\n",
      "  if pd.api.types.is_categorical_dtype(dtype):\n",
      "<ipython-input-23-5717676d3adc>:99: DeprecationWarning: is_categorical_dtype is deprecated and will be removed in a future version. Use isinstance(dtype, pd.CategoricalDtype) instead\n",
      "  if pd.api.types.is_categorical_dtype(dtype):\n"
     ]
    },
    {
     "name": "stdout",
     "output_type": "stream",
     "text": [
      "Erro em SKU 1661, data 20241106: Cannot convert non-finite values (NA or inf) to integer\n"
     ]
    },
    {
     "name": "stderr",
     "output_type": "stream",
     "text": [
      "<ipython-input-23-5717676d3adc>:99: DeprecationWarning: is_categorical_dtype is deprecated and will be removed in a future version. Use isinstance(dtype, pd.CategoricalDtype) instead\n",
      "  if pd.api.types.is_categorical_dtype(dtype):\n",
      "<ipython-input-23-5717676d3adc>:99: DeprecationWarning: is_categorical_dtype is deprecated and will be removed in a future version. Use isinstance(dtype, pd.CategoricalDtype) instead\n",
      "  if pd.api.types.is_categorical_dtype(dtype):\n",
      "<ipython-input-23-5717676d3adc>:99: DeprecationWarning: is_categorical_dtype is deprecated and will be removed in a future version. Use isinstance(dtype, pd.CategoricalDtype) instead\n",
      "  if pd.api.types.is_categorical_dtype(dtype):\n",
      "<ipython-input-23-5717676d3adc>:99: DeprecationWarning: is_categorical_dtype is deprecated and will be removed in a future version. Use isinstance(dtype, pd.CategoricalDtype) instead\n",
      "  if pd.api.types.is_categorical_dtype(dtype):\n"
     ]
    },
    {
     "name": "stdout",
     "output_type": "stream",
     "text": [
      "Erro em SKU 1529, data 20241125: Cannot convert non-finite values (NA or inf) to integer\n"
     ]
    },
    {
     "name": "stderr",
     "output_type": "stream",
     "text": [
      "<ipython-input-23-5717676d3adc>:99: DeprecationWarning: is_categorical_dtype is deprecated and will be removed in a future version. Use isinstance(dtype, pd.CategoricalDtype) instead\n",
      "  if pd.api.types.is_categorical_dtype(dtype):\n",
      "<ipython-input-23-5717676d3adc>:99: DeprecationWarning: is_categorical_dtype is deprecated and will be removed in a future version. Use isinstance(dtype, pd.CategoricalDtype) instead\n",
      "  if pd.api.types.is_categorical_dtype(dtype):\n",
      "<ipython-input-23-5717676d3adc>:99: DeprecationWarning: is_categorical_dtype is deprecated and will be removed in a future version. Use isinstance(dtype, pd.CategoricalDtype) instead\n",
      "  if pd.api.types.is_categorical_dtype(dtype):\n",
      "<ipython-input-23-5717676d3adc>:99: DeprecationWarning: is_categorical_dtype is deprecated and will be removed in a future version. Use isinstance(dtype, pd.CategoricalDtype) instead\n",
      "  if pd.api.types.is_categorical_dtype(dtype):\n"
     ]
    },
    {
     "name": "stdout",
     "output_type": "stream",
     "text": [
      "Erro em SKU 4177, data 20241127: Cannot convert non-finite values (NA or inf) to integer\n"
     ]
    },
    {
     "name": "stderr",
     "output_type": "stream",
     "text": [
      "<ipython-input-23-5717676d3adc>:99: DeprecationWarning: is_categorical_dtype is deprecated and will be removed in a future version. Use isinstance(dtype, pd.CategoricalDtype) instead\n",
      "  if pd.api.types.is_categorical_dtype(dtype):\n",
      "<ipython-input-23-5717676d3adc>:99: DeprecationWarning: is_categorical_dtype is deprecated and will be removed in a future version. Use isinstance(dtype, pd.CategoricalDtype) instead\n",
      "  if pd.api.types.is_categorical_dtype(dtype):\n",
      "<ipython-input-23-5717676d3adc>:99: DeprecationWarning: is_categorical_dtype is deprecated and will be removed in a future version. Use isinstance(dtype, pd.CategoricalDtype) instead\n",
      "  if pd.api.types.is_categorical_dtype(dtype):\n",
      "<ipython-input-23-5717676d3adc>:99: DeprecationWarning: is_categorical_dtype is deprecated and will be removed in a future version. Use isinstance(dtype, pd.CategoricalDtype) instead\n",
      "  if pd.api.types.is_categorical_dtype(dtype):\n"
     ]
    },
    {
     "name": "stdout",
     "output_type": "stream",
     "text": [
      "Erro em SKU 3994, data 20241229: Cannot convert non-finite values (NA or inf) to integer\n"
     ]
    },
    {
     "name": "stderr",
     "output_type": "stream",
     "text": [
      "<ipython-input-23-5717676d3adc>:99: DeprecationWarning: is_categorical_dtype is deprecated and will be removed in a future version. Use isinstance(dtype, pd.CategoricalDtype) instead\n",
      "  if pd.api.types.is_categorical_dtype(dtype):\n",
      "<ipython-input-23-5717676d3adc>:99: DeprecationWarning: is_categorical_dtype is deprecated and will be removed in a future version. Use isinstance(dtype, pd.CategoricalDtype) instead\n",
      "  if pd.api.types.is_categorical_dtype(dtype):\n",
      "<ipython-input-23-5717676d3adc>:99: DeprecationWarning: is_categorical_dtype is deprecated and will be removed in a future version. Use isinstance(dtype, pd.CategoricalDtype) instead\n",
      "  if pd.api.types.is_categorical_dtype(dtype):\n",
      "<ipython-input-23-5717676d3adc>:99: DeprecationWarning: is_categorical_dtype is deprecated and will be removed in a future version. Use isinstance(dtype, pd.CategoricalDtype) instead\n",
      "  if pd.api.types.is_categorical_dtype(dtype):\n"
     ]
    },
    {
     "name": "stdout",
     "output_type": "stream",
     "text": [
      "Erro em SKU 1888, data 20241119: Cannot convert non-finite values (NA or inf) to integer\n"
     ]
    },
    {
     "name": "stderr",
     "output_type": "stream",
     "text": [
      "<ipython-input-23-5717676d3adc>:99: DeprecationWarning: is_categorical_dtype is deprecated and will be removed in a future version. Use isinstance(dtype, pd.CategoricalDtype) instead\n",
      "  if pd.api.types.is_categorical_dtype(dtype):\n",
      "<ipython-input-23-5717676d3adc>:99: DeprecationWarning: is_categorical_dtype is deprecated and will be removed in a future version. Use isinstance(dtype, pd.CategoricalDtype) instead\n",
      "  if pd.api.types.is_categorical_dtype(dtype):\n",
      "<ipython-input-23-5717676d3adc>:99: DeprecationWarning: is_categorical_dtype is deprecated and will be removed in a future version. Use isinstance(dtype, pd.CategoricalDtype) instead\n",
      "  if pd.api.types.is_categorical_dtype(dtype):\n",
      "<ipython-input-23-5717676d3adc>:99: DeprecationWarning: is_categorical_dtype is deprecated and will be removed in a future version. Use isinstance(dtype, pd.CategoricalDtype) instead\n",
      "  if pd.api.types.is_categorical_dtype(dtype):\n"
     ]
    },
    {
     "name": "stdout",
     "output_type": "stream",
     "text": [
      "Erro em SKU 2094, data 20241030: Cannot convert non-finite values (NA or inf) to integer\n"
     ]
    },
    {
     "name": "stderr",
     "output_type": "stream",
     "text": [
      "<ipython-input-23-5717676d3adc>:99: DeprecationWarning: is_categorical_dtype is deprecated and will be removed in a future version. Use isinstance(dtype, pd.CategoricalDtype) instead\n",
      "  if pd.api.types.is_categorical_dtype(dtype):\n",
      "<ipython-input-23-5717676d3adc>:99: DeprecationWarning: is_categorical_dtype is deprecated and will be removed in a future version. Use isinstance(dtype, pd.CategoricalDtype) instead\n",
      "  if pd.api.types.is_categorical_dtype(dtype):\n",
      "<ipython-input-23-5717676d3adc>:99: DeprecationWarning: is_categorical_dtype is deprecated and will be removed in a future version. Use isinstance(dtype, pd.CategoricalDtype) instead\n",
      "  if pd.api.types.is_categorical_dtype(dtype):\n",
      "<ipython-input-23-5717676d3adc>:99: DeprecationWarning: is_categorical_dtype is deprecated and will be removed in a future version. Use isinstance(dtype, pd.CategoricalDtype) instead\n",
      "  if pd.api.types.is_categorical_dtype(dtype):\n"
     ]
    },
    {
     "name": "stdout",
     "output_type": "stream",
     "text": [
      "Erro em SKU 3754, data 20241217: Cannot convert non-finite values (NA or inf) to integer\n"
     ]
    },
    {
     "name": "stderr",
     "output_type": "stream",
     "text": [
      "<ipython-input-23-5717676d3adc>:99: DeprecationWarning: is_categorical_dtype is deprecated and will be removed in a future version. Use isinstance(dtype, pd.CategoricalDtype) instead\n",
      "  if pd.api.types.is_categorical_dtype(dtype):\n",
      "<ipython-input-23-5717676d3adc>:99: DeprecationWarning: is_categorical_dtype is deprecated and will be removed in a future version. Use isinstance(dtype, pd.CategoricalDtype) instead\n",
      "  if pd.api.types.is_categorical_dtype(dtype):\n",
      "<ipython-input-23-5717676d3adc>:99: DeprecationWarning: is_categorical_dtype is deprecated and will be removed in a future version. Use isinstance(dtype, pd.CategoricalDtype) instead\n",
      "  if pd.api.types.is_categorical_dtype(dtype):\n",
      "<ipython-input-23-5717676d3adc>:99: DeprecationWarning: is_categorical_dtype is deprecated and will be removed in a future version. Use isinstance(dtype, pd.CategoricalDtype) instead\n",
      "  if pd.api.types.is_categorical_dtype(dtype):\n"
     ]
    },
    {
     "name": "stdout",
     "output_type": "stream",
     "text": [
      "Erro em SKU 2553, data 20241112: Cannot convert non-finite values (NA or inf) to integer\n"
     ]
    },
    {
     "name": "stderr",
     "output_type": "stream",
     "text": [
      "<ipython-input-23-5717676d3adc>:99: DeprecationWarning: is_categorical_dtype is deprecated and will be removed in a future version. Use isinstance(dtype, pd.CategoricalDtype) instead\n",
      "  if pd.api.types.is_categorical_dtype(dtype):\n",
      "<ipython-input-23-5717676d3adc>:99: DeprecationWarning: is_categorical_dtype is deprecated and will be removed in a future version. Use isinstance(dtype, pd.CategoricalDtype) instead\n",
      "  if pd.api.types.is_categorical_dtype(dtype):\n",
      "<ipython-input-23-5717676d3adc>:99: DeprecationWarning: is_categorical_dtype is deprecated and will be removed in a future version. Use isinstance(dtype, pd.CategoricalDtype) instead\n",
      "  if pd.api.types.is_categorical_dtype(dtype):\n",
      "<ipython-input-23-5717676d3adc>:99: DeprecationWarning: is_categorical_dtype is deprecated and will be removed in a future version. Use isinstance(dtype, pd.CategoricalDtype) instead\n",
      "  if pd.api.types.is_categorical_dtype(dtype):\n"
     ]
    },
    {
     "name": "stdout",
     "output_type": "stream",
     "text": [
      "Erro em SKU 3310, data 20241127: Cannot convert non-finite values (NA or inf) to integer\n"
     ]
    },
    {
     "name": "stderr",
     "output_type": "stream",
     "text": [
      "<ipython-input-23-5717676d3adc>:99: DeprecationWarning: is_categorical_dtype is deprecated and will be removed in a future version. Use isinstance(dtype, pd.CategoricalDtype) instead\n",
      "  if pd.api.types.is_categorical_dtype(dtype):\n",
      "<ipython-input-23-5717676d3adc>:99: DeprecationWarning: is_categorical_dtype is deprecated and will be removed in a future version. Use isinstance(dtype, pd.CategoricalDtype) instead\n",
      "  if pd.api.types.is_categorical_dtype(dtype):\n",
      "<ipython-input-23-5717676d3adc>:99: DeprecationWarning: is_categorical_dtype is deprecated and will be removed in a future version. Use isinstance(dtype, pd.CategoricalDtype) instead\n",
      "  if pd.api.types.is_categorical_dtype(dtype):\n",
      "<ipython-input-23-5717676d3adc>:99: DeprecationWarning: is_categorical_dtype is deprecated and will be removed in a future version. Use isinstance(dtype, pd.CategoricalDtype) instead\n",
      "  if pd.api.types.is_categorical_dtype(dtype):\n"
     ]
    },
    {
     "name": "stdout",
     "output_type": "stream",
     "text": [
      "Erro em SKU 4255, data 20241216: Cannot convert non-finite values (NA or inf) to integer\n"
     ]
    },
    {
     "name": "stderr",
     "output_type": "stream",
     "text": [
      "<ipython-input-23-5717676d3adc>:99: DeprecationWarning: is_categorical_dtype is deprecated and will be removed in a future version. Use isinstance(dtype, pd.CategoricalDtype) instead\n",
      "  if pd.api.types.is_categorical_dtype(dtype):\n",
      "<ipython-input-23-5717676d3adc>:99: DeprecationWarning: is_categorical_dtype is deprecated and will be removed in a future version. Use isinstance(dtype, pd.CategoricalDtype) instead\n",
      "  if pd.api.types.is_categorical_dtype(dtype):\n",
      "<ipython-input-23-5717676d3adc>:99: DeprecationWarning: is_categorical_dtype is deprecated and will be removed in a future version. Use isinstance(dtype, pd.CategoricalDtype) instead\n",
      "  if pd.api.types.is_categorical_dtype(dtype):\n",
      "<ipython-input-23-5717676d3adc>:99: DeprecationWarning: is_categorical_dtype is deprecated and will be removed in a future version. Use isinstance(dtype, pd.CategoricalDtype) instead\n",
      "  if pd.api.types.is_categorical_dtype(dtype):\n"
     ]
    },
    {
     "name": "stdout",
     "output_type": "stream",
     "text": [
      "Erro em SKU 2227, data 20241130: Cannot convert non-finite values (NA or inf) to integer\n"
     ]
    },
    {
     "name": "stderr",
     "output_type": "stream",
     "text": [
      "<ipython-input-23-5717676d3adc>:99: DeprecationWarning: is_categorical_dtype is deprecated and will be removed in a future version. Use isinstance(dtype, pd.CategoricalDtype) instead\n",
      "  if pd.api.types.is_categorical_dtype(dtype):\n",
      "<ipython-input-23-5717676d3adc>:99: DeprecationWarning: is_categorical_dtype is deprecated and will be removed in a future version. Use isinstance(dtype, pd.CategoricalDtype) instead\n",
      "  if pd.api.types.is_categorical_dtype(dtype):\n",
      "<ipython-input-23-5717676d3adc>:99: DeprecationWarning: is_categorical_dtype is deprecated and will be removed in a future version. Use isinstance(dtype, pd.CategoricalDtype) instead\n",
      "  if pd.api.types.is_categorical_dtype(dtype):\n",
      "<ipython-input-23-5717676d3adc>:99: DeprecationWarning: is_categorical_dtype is deprecated and will be removed in a future version. Use isinstance(dtype, pd.CategoricalDtype) instead\n",
      "  if pd.api.types.is_categorical_dtype(dtype):\n"
     ]
    },
    {
     "name": "stdout",
     "output_type": "stream",
     "text": [
      "Erro em SKU 2107, data 20241124: Cannot convert non-finite values (NA or inf) to integer\n"
     ]
    },
    {
     "name": "stderr",
     "output_type": "stream",
     "text": [
      "<ipython-input-23-5717676d3adc>:99: DeprecationWarning: is_categorical_dtype is deprecated and will be removed in a future version. Use isinstance(dtype, pd.CategoricalDtype) instead\n",
      "  if pd.api.types.is_categorical_dtype(dtype):\n",
      "<ipython-input-23-5717676d3adc>:99: DeprecationWarning: is_categorical_dtype is deprecated and will be removed in a future version. Use isinstance(dtype, pd.CategoricalDtype) instead\n",
      "  if pd.api.types.is_categorical_dtype(dtype):\n",
      "<ipython-input-23-5717676d3adc>:99: DeprecationWarning: is_categorical_dtype is deprecated and will be removed in a future version. Use isinstance(dtype, pd.CategoricalDtype) instead\n",
      "  if pd.api.types.is_categorical_dtype(dtype):\n",
      "<ipython-input-23-5717676d3adc>:99: DeprecationWarning: is_categorical_dtype is deprecated and will be removed in a future version. Use isinstance(dtype, pd.CategoricalDtype) instead\n",
      "  if pd.api.types.is_categorical_dtype(dtype):\n"
     ]
    },
    {
     "name": "stdout",
     "output_type": "stream",
     "text": [
      "Erro em SKU 3800, data 20241125: Cannot convert non-finite values (NA or inf) to integer\n"
     ]
    },
    {
     "name": "stderr",
     "output_type": "stream",
     "text": [
      "<ipython-input-23-5717676d3adc>:99: DeprecationWarning: is_categorical_dtype is deprecated and will be removed in a future version. Use isinstance(dtype, pd.CategoricalDtype) instead\n",
      "  if pd.api.types.is_categorical_dtype(dtype):\n",
      "<ipython-input-23-5717676d3adc>:99: DeprecationWarning: is_categorical_dtype is deprecated and will be removed in a future version. Use isinstance(dtype, pd.CategoricalDtype) instead\n",
      "  if pd.api.types.is_categorical_dtype(dtype):\n",
      "<ipython-input-23-5717676d3adc>:99: DeprecationWarning: is_categorical_dtype is deprecated and will be removed in a future version. Use isinstance(dtype, pd.CategoricalDtype) instead\n",
      "  if pd.api.types.is_categorical_dtype(dtype):\n",
      "<ipython-input-23-5717676d3adc>:99: DeprecationWarning: is_categorical_dtype is deprecated and will be removed in a future version. Use isinstance(dtype, pd.CategoricalDtype) instead\n",
      "  if pd.api.types.is_categorical_dtype(dtype):\n"
     ]
    },
    {
     "name": "stdout",
     "output_type": "stream",
     "text": [
      "Erro em SKU 1810, data 20241124: Cannot convert non-finite values (NA or inf) to integer\n"
     ]
    },
    {
     "name": "stderr",
     "output_type": "stream",
     "text": [
      "<ipython-input-23-5717676d3adc>:99: DeprecationWarning: is_categorical_dtype is deprecated and will be removed in a future version. Use isinstance(dtype, pd.CategoricalDtype) instead\n",
      "  if pd.api.types.is_categorical_dtype(dtype):\n",
      "<ipython-input-23-5717676d3adc>:99: DeprecationWarning: is_categorical_dtype is deprecated and will be removed in a future version. Use isinstance(dtype, pd.CategoricalDtype) instead\n",
      "  if pd.api.types.is_categorical_dtype(dtype):\n",
      "<ipython-input-23-5717676d3adc>:99: DeprecationWarning: is_categorical_dtype is deprecated and will be removed in a future version. Use isinstance(dtype, pd.CategoricalDtype) instead\n",
      "  if pd.api.types.is_categorical_dtype(dtype):\n",
      "<ipython-input-23-5717676d3adc>:99: DeprecationWarning: is_categorical_dtype is deprecated and will be removed in a future version. Use isinstance(dtype, pd.CategoricalDtype) instead\n",
      "  if pd.api.types.is_categorical_dtype(dtype):\n"
     ]
    },
    {
     "name": "stdout",
     "output_type": "stream",
     "text": [
      "Erro em SKU 4401, data 20241115: Cannot convert non-finite values (NA or inf) to integer\n"
     ]
    },
    {
     "name": "stderr",
     "output_type": "stream",
     "text": [
      "<ipython-input-23-5717676d3adc>:99: DeprecationWarning: is_categorical_dtype is deprecated and will be removed in a future version. Use isinstance(dtype, pd.CategoricalDtype) instead\n",
      "  if pd.api.types.is_categorical_dtype(dtype):\n",
      "<ipython-input-23-5717676d3adc>:99: DeprecationWarning: is_categorical_dtype is deprecated and will be removed in a future version. Use isinstance(dtype, pd.CategoricalDtype) instead\n",
      "  if pd.api.types.is_categorical_dtype(dtype):\n",
      "<ipython-input-23-5717676d3adc>:99: DeprecationWarning: is_categorical_dtype is deprecated and will be removed in a future version. Use isinstance(dtype, pd.CategoricalDtype) instead\n",
      "  if pd.api.types.is_categorical_dtype(dtype):\n",
      "<ipython-input-23-5717676d3adc>:99: DeprecationWarning: is_categorical_dtype is deprecated and will be removed in a future version. Use isinstance(dtype, pd.CategoricalDtype) instead\n",
      "  if pd.api.types.is_categorical_dtype(dtype):\n"
     ]
    },
    {
     "name": "stdout",
     "output_type": "stream",
     "text": [
      "Erro em SKU 1393, data 20241206: Cannot convert non-finite values (NA or inf) to integer\n"
     ]
    },
    {
     "name": "stderr",
     "output_type": "stream",
     "text": [
      "<ipython-input-23-5717676d3adc>:99: DeprecationWarning: is_categorical_dtype is deprecated and will be removed in a future version. Use isinstance(dtype, pd.CategoricalDtype) instead\n",
      "  if pd.api.types.is_categorical_dtype(dtype):\n",
      "<ipython-input-23-5717676d3adc>:99: DeprecationWarning: is_categorical_dtype is deprecated and will be removed in a future version. Use isinstance(dtype, pd.CategoricalDtype) instead\n",
      "  if pd.api.types.is_categorical_dtype(dtype):\n",
      "<ipython-input-23-5717676d3adc>:99: DeprecationWarning: is_categorical_dtype is deprecated and will be removed in a future version. Use isinstance(dtype, pd.CategoricalDtype) instead\n",
      "  if pd.api.types.is_categorical_dtype(dtype):\n",
      "<ipython-input-23-5717676d3adc>:99: DeprecationWarning: is_categorical_dtype is deprecated and will be removed in a future version. Use isinstance(dtype, pd.CategoricalDtype) instead\n",
      "  if pd.api.types.is_categorical_dtype(dtype):\n"
     ]
    },
    {
     "name": "stdout",
     "output_type": "stream",
     "text": [
      "Erro em SKU 3588, data 20241126: Cannot convert non-finite values (NA or inf) to integer\n"
     ]
    },
    {
     "name": "stderr",
     "output_type": "stream",
     "text": [
      "<ipython-input-23-5717676d3adc>:99: DeprecationWarning: is_categorical_dtype is deprecated and will be removed in a future version. Use isinstance(dtype, pd.CategoricalDtype) instead\n",
      "  if pd.api.types.is_categorical_dtype(dtype):\n",
      "<ipython-input-23-5717676d3adc>:99: DeprecationWarning: is_categorical_dtype is deprecated and will be removed in a future version. Use isinstance(dtype, pd.CategoricalDtype) instead\n",
      "  if pd.api.types.is_categorical_dtype(dtype):\n",
      "<ipython-input-23-5717676d3adc>:99: DeprecationWarning: is_categorical_dtype is deprecated and will be removed in a future version. Use isinstance(dtype, pd.CategoricalDtype) instead\n",
      "  if pd.api.types.is_categorical_dtype(dtype):\n",
      "<ipython-input-23-5717676d3adc>:99: DeprecationWarning: is_categorical_dtype is deprecated and will be removed in a future version. Use isinstance(dtype, pd.CategoricalDtype) instead\n",
      "  if pd.api.types.is_categorical_dtype(dtype):\n"
     ]
    },
    {
     "name": "stdout",
     "output_type": "stream",
     "text": [
      "Erro em SKU 3283, data 20241130: Cannot convert non-finite values (NA or inf) to integer\n"
     ]
    },
    {
     "name": "stderr",
     "output_type": "stream",
     "text": [
      "<ipython-input-23-5717676d3adc>:99: DeprecationWarning: is_categorical_dtype is deprecated and will be removed in a future version. Use isinstance(dtype, pd.CategoricalDtype) instead\n",
      "  if pd.api.types.is_categorical_dtype(dtype):\n",
      "<ipython-input-23-5717676d3adc>:99: DeprecationWarning: is_categorical_dtype is deprecated and will be removed in a future version. Use isinstance(dtype, pd.CategoricalDtype) instead\n",
      "  if pd.api.types.is_categorical_dtype(dtype):\n",
      "<ipython-input-23-5717676d3adc>:99: DeprecationWarning: is_categorical_dtype is deprecated and will be removed in a future version. Use isinstance(dtype, pd.CategoricalDtype) instead\n",
      "  if pd.api.types.is_categorical_dtype(dtype):\n",
      "<ipython-input-23-5717676d3adc>:99: DeprecationWarning: is_categorical_dtype is deprecated and will be removed in a future version. Use isinstance(dtype, pd.CategoricalDtype) instead\n",
      "  if pd.api.types.is_categorical_dtype(dtype):\n"
     ]
    },
    {
     "name": "stdout",
     "output_type": "stream",
     "text": [
      "Erro em SKU 3972, data 20241212: Cannot convert non-finite values (NA or inf) to integer\n"
     ]
    },
    {
     "name": "stderr",
     "output_type": "stream",
     "text": [
      "<ipython-input-23-5717676d3adc>:99: DeprecationWarning: is_categorical_dtype is deprecated and will be removed in a future version. Use isinstance(dtype, pd.CategoricalDtype) instead\n",
      "  if pd.api.types.is_categorical_dtype(dtype):\n",
      "<ipython-input-23-5717676d3adc>:99: DeprecationWarning: is_categorical_dtype is deprecated and will be removed in a future version. Use isinstance(dtype, pd.CategoricalDtype) instead\n",
      "  if pd.api.types.is_categorical_dtype(dtype):\n",
      "<ipython-input-23-5717676d3adc>:99: DeprecationWarning: is_categorical_dtype is deprecated and will be removed in a future version. Use isinstance(dtype, pd.CategoricalDtype) instead\n",
      "  if pd.api.types.is_categorical_dtype(dtype):\n",
      "<ipython-input-23-5717676d3adc>:99: DeprecationWarning: is_categorical_dtype is deprecated and will be removed in a future version. Use isinstance(dtype, pd.CategoricalDtype) instead\n",
      "  if pd.api.types.is_categorical_dtype(dtype):\n"
     ]
    },
    {
     "name": "stdout",
     "output_type": "stream",
     "text": [
      "Erro em SKU 1937, data 20241125: Cannot convert non-finite values (NA or inf) to integer\n"
     ]
    },
    {
     "name": "stderr",
     "output_type": "stream",
     "text": [
      "<ipython-input-23-5717676d3adc>:99: DeprecationWarning: is_categorical_dtype is deprecated and will be removed in a future version. Use isinstance(dtype, pd.CategoricalDtype) instead\n",
      "  if pd.api.types.is_categorical_dtype(dtype):\n",
      "<ipython-input-23-5717676d3adc>:99: DeprecationWarning: is_categorical_dtype is deprecated and will be removed in a future version. Use isinstance(dtype, pd.CategoricalDtype) instead\n",
      "  if pd.api.types.is_categorical_dtype(dtype):\n",
      "<ipython-input-23-5717676d3adc>:99: DeprecationWarning: is_categorical_dtype is deprecated and will be removed in a future version. Use isinstance(dtype, pd.CategoricalDtype) instead\n",
      "  if pd.api.types.is_categorical_dtype(dtype):\n",
      "<ipython-input-23-5717676d3adc>:99: DeprecationWarning: is_categorical_dtype is deprecated and will be removed in a future version. Use isinstance(dtype, pd.CategoricalDtype) instead\n",
      "  if pd.api.types.is_categorical_dtype(dtype):\n"
     ]
    },
    {
     "name": "stdout",
     "output_type": "stream",
     "text": [
      "Erro em SKU 4319, data 20241226: Cannot convert non-finite values (NA or inf) to integer\n"
     ]
    },
    {
     "name": "stderr",
     "output_type": "stream",
     "text": [
      "<ipython-input-23-5717676d3adc>:99: DeprecationWarning: is_categorical_dtype is deprecated and will be removed in a future version. Use isinstance(dtype, pd.CategoricalDtype) instead\n",
      "  if pd.api.types.is_categorical_dtype(dtype):\n",
      "<ipython-input-23-5717676d3adc>:99: DeprecationWarning: is_categorical_dtype is deprecated and will be removed in a future version. Use isinstance(dtype, pd.CategoricalDtype) instead\n",
      "  if pd.api.types.is_categorical_dtype(dtype):\n",
      "<ipython-input-23-5717676d3adc>:99: DeprecationWarning: is_categorical_dtype is deprecated and will be removed in a future version. Use isinstance(dtype, pd.CategoricalDtype) instead\n",
      "  if pd.api.types.is_categorical_dtype(dtype):\n",
      "<ipython-input-23-5717676d3adc>:99: DeprecationWarning: is_categorical_dtype is deprecated and will be removed in a future version. Use isinstance(dtype, pd.CategoricalDtype) instead\n",
      "  if pd.api.types.is_categorical_dtype(dtype):\n"
     ]
    },
    {
     "name": "stdout",
     "output_type": "stream",
     "text": [
      "Erro em SKU 4733, data 20241120: Cannot convert non-finite values (NA or inf) to integer\n"
     ]
    },
    {
     "name": "stderr",
     "output_type": "stream",
     "text": [
      "<ipython-input-23-5717676d3adc>:99: DeprecationWarning: is_categorical_dtype is deprecated and will be removed in a future version. Use isinstance(dtype, pd.CategoricalDtype) instead\n",
      "  if pd.api.types.is_categorical_dtype(dtype):\n",
      "<ipython-input-23-5717676d3adc>:99: DeprecationWarning: is_categorical_dtype is deprecated and will be removed in a future version. Use isinstance(dtype, pd.CategoricalDtype) instead\n",
      "  if pd.api.types.is_categorical_dtype(dtype):\n",
      "<ipython-input-23-5717676d3adc>:99: DeprecationWarning: is_categorical_dtype is deprecated and will be removed in a future version. Use isinstance(dtype, pd.CategoricalDtype) instead\n",
      "  if pd.api.types.is_categorical_dtype(dtype):\n",
      "<ipython-input-23-5717676d3adc>:99: DeprecationWarning: is_categorical_dtype is deprecated and will be removed in a future version. Use isinstance(dtype, pd.CategoricalDtype) instead\n",
      "  if pd.api.types.is_categorical_dtype(dtype):\n"
     ]
    },
    {
     "name": "stdout",
     "output_type": "stream",
     "text": [
      "Erro em SKU 1175, data 20241115: Cannot convert non-finite values (NA or inf) to integer\n"
     ]
    },
    {
     "name": "stderr",
     "output_type": "stream",
     "text": [
      "<ipython-input-23-5717676d3adc>:99: DeprecationWarning: is_categorical_dtype is deprecated and will be removed in a future version. Use isinstance(dtype, pd.CategoricalDtype) instead\n",
      "  if pd.api.types.is_categorical_dtype(dtype):\n",
      "<ipython-input-23-5717676d3adc>:99: DeprecationWarning: is_categorical_dtype is deprecated and will be removed in a future version. Use isinstance(dtype, pd.CategoricalDtype) instead\n",
      "  if pd.api.types.is_categorical_dtype(dtype):\n",
      "<ipython-input-23-5717676d3adc>:99: DeprecationWarning: is_categorical_dtype is deprecated and will be removed in a future version. Use isinstance(dtype, pd.CategoricalDtype) instead\n",
      "  if pd.api.types.is_categorical_dtype(dtype):\n",
      "<ipython-input-23-5717676d3adc>:99: DeprecationWarning: is_categorical_dtype is deprecated and will be removed in a future version. Use isinstance(dtype, pd.CategoricalDtype) instead\n",
      "  if pd.api.types.is_categorical_dtype(dtype):\n"
     ]
    },
    {
     "name": "stdout",
     "output_type": "stream",
     "text": [
      "Erro em SKU 2894, data 20241123: Cannot convert non-finite values (NA or inf) to integer\n"
     ]
    },
    {
     "name": "stderr",
     "output_type": "stream",
     "text": [
      "<ipython-input-23-5717676d3adc>:99: DeprecationWarning: is_categorical_dtype is deprecated and will be removed in a future version. Use isinstance(dtype, pd.CategoricalDtype) instead\n",
      "  if pd.api.types.is_categorical_dtype(dtype):\n",
      "<ipython-input-23-5717676d3adc>:99: DeprecationWarning: is_categorical_dtype is deprecated and will be removed in a future version. Use isinstance(dtype, pd.CategoricalDtype) instead\n",
      "  if pd.api.types.is_categorical_dtype(dtype):\n",
      "<ipython-input-23-5717676d3adc>:99: DeprecationWarning: is_categorical_dtype is deprecated and will be removed in a future version. Use isinstance(dtype, pd.CategoricalDtype) instead\n",
      "  if pd.api.types.is_categorical_dtype(dtype):\n",
      "<ipython-input-23-5717676d3adc>:99: DeprecationWarning: is_categorical_dtype is deprecated and will be removed in a future version. Use isinstance(dtype, pd.CategoricalDtype) instead\n",
      "  if pd.api.types.is_categorical_dtype(dtype):\n"
     ]
    },
    {
     "name": "stdout",
     "output_type": "stream",
     "text": [
      "Erro em SKU 2913, data 20241115: Cannot convert non-finite values (NA or inf) to integer\n"
     ]
    },
    {
     "name": "stderr",
     "output_type": "stream",
     "text": [
      "<ipython-input-23-5717676d3adc>:99: DeprecationWarning: is_categorical_dtype is deprecated and will be removed in a future version. Use isinstance(dtype, pd.CategoricalDtype) instead\n",
      "  if pd.api.types.is_categorical_dtype(dtype):\n",
      "<ipython-input-23-5717676d3adc>:99: DeprecationWarning: is_categorical_dtype is deprecated and will be removed in a future version. Use isinstance(dtype, pd.CategoricalDtype) instead\n",
      "  if pd.api.types.is_categorical_dtype(dtype):\n",
      "<ipython-input-23-5717676d3adc>:99: DeprecationWarning: is_categorical_dtype is deprecated and will be removed in a future version. Use isinstance(dtype, pd.CategoricalDtype) instead\n",
      "  if pd.api.types.is_categorical_dtype(dtype):\n",
      "<ipython-input-23-5717676d3adc>:99: DeprecationWarning: is_categorical_dtype is deprecated and will be removed in a future version. Use isinstance(dtype, pd.CategoricalDtype) instead\n",
      "  if pd.api.types.is_categorical_dtype(dtype):\n"
     ]
    },
    {
     "name": "stdout",
     "output_type": "stream",
     "text": [
      "Erro em SKU 4319, data 20241221: Cannot convert non-finite values (NA or inf) to integer\n"
     ]
    },
    {
     "name": "stderr",
     "output_type": "stream",
     "text": [
      "<ipython-input-23-5717676d3adc>:99: DeprecationWarning: is_categorical_dtype is deprecated and will be removed in a future version. Use isinstance(dtype, pd.CategoricalDtype) instead\n",
      "  if pd.api.types.is_categorical_dtype(dtype):\n",
      "<ipython-input-23-5717676d3adc>:99: DeprecationWarning: is_categorical_dtype is deprecated and will be removed in a future version. Use isinstance(dtype, pd.CategoricalDtype) instead\n",
      "  if pd.api.types.is_categorical_dtype(dtype):\n",
      "<ipython-input-23-5717676d3adc>:99: DeprecationWarning: is_categorical_dtype is deprecated and will be removed in a future version. Use isinstance(dtype, pd.CategoricalDtype) instead\n",
      "  if pd.api.types.is_categorical_dtype(dtype):\n",
      "<ipython-input-23-5717676d3adc>:99: DeprecationWarning: is_categorical_dtype is deprecated and will be removed in a future version. Use isinstance(dtype, pd.CategoricalDtype) instead\n",
      "  if pd.api.types.is_categorical_dtype(dtype):\n"
     ]
    },
    {
     "name": "stdout",
     "output_type": "stream",
     "text": [
      "Erro em SKU 3723, data 20241119: Cannot convert non-finite values (NA or inf) to integer\n"
     ]
    },
    {
     "name": "stderr",
     "output_type": "stream",
     "text": [
      "<ipython-input-23-5717676d3adc>:99: DeprecationWarning: is_categorical_dtype is deprecated and will be removed in a future version. Use isinstance(dtype, pd.CategoricalDtype) instead\n",
      "  if pd.api.types.is_categorical_dtype(dtype):\n",
      "<ipython-input-23-5717676d3adc>:99: DeprecationWarning: is_categorical_dtype is deprecated and will be removed in a future version. Use isinstance(dtype, pd.CategoricalDtype) instead\n",
      "  if pd.api.types.is_categorical_dtype(dtype):\n",
      "<ipython-input-23-5717676d3adc>:99: DeprecationWarning: is_categorical_dtype is deprecated and will be removed in a future version. Use isinstance(dtype, pd.CategoricalDtype) instead\n",
      "  if pd.api.types.is_categorical_dtype(dtype):\n",
      "<ipython-input-23-5717676d3adc>:99: DeprecationWarning: is_categorical_dtype is deprecated and will be removed in a future version. Use isinstance(dtype, pd.CategoricalDtype) instead\n",
      "  if pd.api.types.is_categorical_dtype(dtype):\n"
     ]
    },
    {
     "name": "stdout",
     "output_type": "stream",
     "text": [
      "Erro em SKU 1970, data 20241107: Cannot convert non-finite values (NA or inf) to integer\n"
     ]
    },
    {
     "name": "stderr",
     "output_type": "stream",
     "text": [
      "<ipython-input-23-5717676d3adc>:99: DeprecationWarning: is_categorical_dtype is deprecated and will be removed in a future version. Use isinstance(dtype, pd.CategoricalDtype) instead\n",
      "  if pd.api.types.is_categorical_dtype(dtype):\n",
      "<ipython-input-23-5717676d3adc>:99: DeprecationWarning: is_categorical_dtype is deprecated and will be removed in a future version. Use isinstance(dtype, pd.CategoricalDtype) instead\n",
      "  if pd.api.types.is_categorical_dtype(dtype):\n",
      "<ipython-input-23-5717676d3adc>:99: DeprecationWarning: is_categorical_dtype is deprecated and will be removed in a future version. Use isinstance(dtype, pd.CategoricalDtype) instead\n",
      "  if pd.api.types.is_categorical_dtype(dtype):\n",
      "<ipython-input-23-5717676d3adc>:99: DeprecationWarning: is_categorical_dtype is deprecated and will be removed in a future version. Use isinstance(dtype, pd.CategoricalDtype) instead\n",
      "  if pd.api.types.is_categorical_dtype(dtype):\n"
     ]
    },
    {
     "name": "stdout",
     "output_type": "stream",
     "text": [
      "Erro em SKU 1658, data 20241102: Cannot convert non-finite values (NA or inf) to integer\n"
     ]
    },
    {
     "name": "stderr",
     "output_type": "stream",
     "text": [
      "<ipython-input-23-5717676d3adc>:99: DeprecationWarning: is_categorical_dtype is deprecated and will be removed in a future version. Use isinstance(dtype, pd.CategoricalDtype) instead\n",
      "  if pd.api.types.is_categorical_dtype(dtype):\n",
      "<ipython-input-23-5717676d3adc>:99: DeprecationWarning: is_categorical_dtype is deprecated and will be removed in a future version. Use isinstance(dtype, pd.CategoricalDtype) instead\n",
      "  if pd.api.types.is_categorical_dtype(dtype):\n",
      "<ipython-input-23-5717676d3adc>:99: DeprecationWarning: is_categorical_dtype is deprecated and will be removed in a future version. Use isinstance(dtype, pd.CategoricalDtype) instead\n",
      "  if pd.api.types.is_categorical_dtype(dtype):\n",
      "<ipython-input-23-5717676d3adc>:99: DeprecationWarning: is_categorical_dtype is deprecated and will be removed in a future version. Use isinstance(dtype, pd.CategoricalDtype) instead\n",
      "  if pd.api.types.is_categorical_dtype(dtype):\n"
     ]
    },
    {
     "name": "stdout",
     "output_type": "stream",
     "text": [
      "Erro em SKU 4598, data 20241112: Cannot convert non-finite values (NA or inf) to integer\n"
     ]
    },
    {
     "name": "stderr",
     "output_type": "stream",
     "text": [
      "<ipython-input-23-5717676d3adc>:99: DeprecationWarning: is_categorical_dtype is deprecated and will be removed in a future version. Use isinstance(dtype, pd.CategoricalDtype) instead\n",
      "  if pd.api.types.is_categorical_dtype(dtype):\n",
      "<ipython-input-23-5717676d3adc>:99: DeprecationWarning: is_categorical_dtype is deprecated and will be removed in a future version. Use isinstance(dtype, pd.CategoricalDtype) instead\n",
      "  if pd.api.types.is_categorical_dtype(dtype):\n",
      "<ipython-input-23-5717676d3adc>:99: DeprecationWarning: is_categorical_dtype is deprecated and will be removed in a future version. Use isinstance(dtype, pd.CategoricalDtype) instead\n",
      "  if pd.api.types.is_categorical_dtype(dtype):\n",
      "<ipython-input-23-5717676d3adc>:99: DeprecationWarning: is_categorical_dtype is deprecated and will be removed in a future version. Use isinstance(dtype, pd.CategoricalDtype) instead\n",
      "  if pd.api.types.is_categorical_dtype(dtype):\n"
     ]
    },
    {
     "name": "stdout",
     "output_type": "stream",
     "text": [
      "Erro em SKU 1972, data 20241227: Cannot convert non-finite values (NA or inf) to integer\n"
     ]
    },
    {
     "name": "stderr",
     "output_type": "stream",
     "text": [
      "<ipython-input-23-5717676d3adc>:99: DeprecationWarning: is_categorical_dtype is deprecated and will be removed in a future version. Use isinstance(dtype, pd.CategoricalDtype) instead\n",
      "  if pd.api.types.is_categorical_dtype(dtype):\n",
      "<ipython-input-23-5717676d3adc>:99: DeprecationWarning: is_categorical_dtype is deprecated and will be removed in a future version. Use isinstance(dtype, pd.CategoricalDtype) instead\n",
      "  if pd.api.types.is_categorical_dtype(dtype):\n",
      "<ipython-input-23-5717676d3adc>:99: DeprecationWarning: is_categorical_dtype is deprecated and will be removed in a future version. Use isinstance(dtype, pd.CategoricalDtype) instead\n",
      "  if pd.api.types.is_categorical_dtype(dtype):\n",
      "<ipython-input-23-5717676d3adc>:99: DeprecationWarning: is_categorical_dtype is deprecated and will be removed in a future version. Use isinstance(dtype, pd.CategoricalDtype) instead\n",
      "  if pd.api.types.is_categorical_dtype(dtype):\n"
     ]
    },
    {
     "name": "stdout",
     "output_type": "stream",
     "text": [
      "Erro em SKU 2550, data 20241125: Cannot convert non-finite values (NA or inf) to integer\n"
     ]
    },
    {
     "name": "stderr",
     "output_type": "stream",
     "text": [
      "<ipython-input-23-5717676d3adc>:99: DeprecationWarning: is_categorical_dtype is deprecated and will be removed in a future version. Use isinstance(dtype, pd.CategoricalDtype) instead\n",
      "  if pd.api.types.is_categorical_dtype(dtype):\n",
      "<ipython-input-23-5717676d3adc>:99: DeprecationWarning: is_categorical_dtype is deprecated and will be removed in a future version. Use isinstance(dtype, pd.CategoricalDtype) instead\n",
      "  if pd.api.types.is_categorical_dtype(dtype):\n",
      "<ipython-input-23-5717676d3adc>:99: DeprecationWarning: is_categorical_dtype is deprecated and will be removed in a future version. Use isinstance(dtype, pd.CategoricalDtype) instead\n",
      "  if pd.api.types.is_categorical_dtype(dtype):\n",
      "<ipython-input-23-5717676d3adc>:99: DeprecationWarning: is_categorical_dtype is deprecated and will be removed in a future version. Use isinstance(dtype, pd.CategoricalDtype) instead\n",
      "  if pd.api.types.is_categorical_dtype(dtype):\n"
     ]
    },
    {
     "name": "stdout",
     "output_type": "stream",
     "text": [
      "Erro em SKU 4008, data 20241115: Cannot convert non-finite values (NA or inf) to integer\n"
     ]
    },
    {
     "name": "stderr",
     "output_type": "stream",
     "text": [
      "<ipython-input-23-5717676d3adc>:99: DeprecationWarning: is_categorical_dtype is deprecated and will be removed in a future version. Use isinstance(dtype, pd.CategoricalDtype) instead\n",
      "  if pd.api.types.is_categorical_dtype(dtype):\n",
      "<ipython-input-23-5717676d3adc>:99: DeprecationWarning: is_categorical_dtype is deprecated and will be removed in a future version. Use isinstance(dtype, pd.CategoricalDtype) instead\n",
      "  if pd.api.types.is_categorical_dtype(dtype):\n",
      "<ipython-input-23-5717676d3adc>:99: DeprecationWarning: is_categorical_dtype is deprecated and will be removed in a future version. Use isinstance(dtype, pd.CategoricalDtype) instead\n",
      "  if pd.api.types.is_categorical_dtype(dtype):\n",
      "<ipython-input-23-5717676d3adc>:99: DeprecationWarning: is_categorical_dtype is deprecated and will be removed in a future version. Use isinstance(dtype, pd.CategoricalDtype) instead\n",
      "  if pd.api.types.is_categorical_dtype(dtype):\n"
     ]
    },
    {
     "name": "stdout",
     "output_type": "stream",
     "text": [
      "Erro em SKU 4310, data 20241129: Cannot convert non-finite values (NA or inf) to integer\n"
     ]
    },
    {
     "name": "stderr",
     "output_type": "stream",
     "text": [
      "<ipython-input-23-5717676d3adc>:99: DeprecationWarning: is_categorical_dtype is deprecated and will be removed in a future version. Use isinstance(dtype, pd.CategoricalDtype) instead\n",
      "  if pd.api.types.is_categorical_dtype(dtype):\n",
      "<ipython-input-23-5717676d3adc>:99: DeprecationWarning: is_categorical_dtype is deprecated and will be removed in a future version. Use isinstance(dtype, pd.CategoricalDtype) instead\n",
      "  if pd.api.types.is_categorical_dtype(dtype):\n",
      "<ipython-input-23-5717676d3adc>:99: DeprecationWarning: is_categorical_dtype is deprecated and will be removed in a future version. Use isinstance(dtype, pd.CategoricalDtype) instead\n",
      "  if pd.api.types.is_categorical_dtype(dtype):\n",
      "<ipython-input-23-5717676d3adc>:99: DeprecationWarning: is_categorical_dtype is deprecated and will be removed in a future version. Use isinstance(dtype, pd.CategoricalDtype) instead\n",
      "  if pd.api.types.is_categorical_dtype(dtype):\n"
     ]
    },
    {
     "name": "stdout",
     "output_type": "stream",
     "text": [
      "Erro em SKU 1805, data 20241206: Cannot convert non-finite values (NA or inf) to integer\n"
     ]
    },
    {
     "name": "stderr",
     "output_type": "stream",
     "text": [
      "<ipython-input-23-5717676d3adc>:99: DeprecationWarning: is_categorical_dtype is deprecated and will be removed in a future version. Use isinstance(dtype, pd.CategoricalDtype) instead\n",
      "  if pd.api.types.is_categorical_dtype(dtype):\n",
      "<ipython-input-23-5717676d3adc>:99: DeprecationWarning: is_categorical_dtype is deprecated and will be removed in a future version. Use isinstance(dtype, pd.CategoricalDtype) instead\n",
      "  if pd.api.types.is_categorical_dtype(dtype):\n",
      "<ipython-input-23-5717676d3adc>:99: DeprecationWarning: is_categorical_dtype is deprecated and will be removed in a future version. Use isinstance(dtype, pd.CategoricalDtype) instead\n",
      "  if pd.api.types.is_categorical_dtype(dtype):\n",
      "<ipython-input-23-5717676d3adc>:99: DeprecationWarning: is_categorical_dtype is deprecated and will be removed in a future version. Use isinstance(dtype, pd.CategoricalDtype) instead\n",
      "  if pd.api.types.is_categorical_dtype(dtype):\n"
     ]
    },
    {
     "name": "stdout",
     "output_type": "stream",
     "text": [
      "Erro em SKU 2303, data 20241130: Cannot convert non-finite values (NA or inf) to integer\n"
     ]
    },
    {
     "name": "stderr",
     "output_type": "stream",
     "text": [
      "<ipython-input-23-5717676d3adc>:99: DeprecationWarning: is_categorical_dtype is deprecated and will be removed in a future version. Use isinstance(dtype, pd.CategoricalDtype) instead\n",
      "  if pd.api.types.is_categorical_dtype(dtype):\n",
      "<ipython-input-23-5717676d3adc>:99: DeprecationWarning: is_categorical_dtype is deprecated and will be removed in a future version. Use isinstance(dtype, pd.CategoricalDtype) instead\n",
      "  if pd.api.types.is_categorical_dtype(dtype):\n",
      "<ipython-input-23-5717676d3adc>:99: DeprecationWarning: is_categorical_dtype is deprecated and will be removed in a future version. Use isinstance(dtype, pd.CategoricalDtype) instead\n",
      "  if pd.api.types.is_categorical_dtype(dtype):\n",
      "<ipython-input-23-5717676d3adc>:99: DeprecationWarning: is_categorical_dtype is deprecated and will be removed in a future version. Use isinstance(dtype, pd.CategoricalDtype) instead\n",
      "  if pd.api.types.is_categorical_dtype(dtype):\n"
     ]
    },
    {
     "name": "stdout",
     "output_type": "stream",
     "text": [
      "Erro em SKU 1531, data 20241211: Cannot convert non-finite values (NA or inf) to integer\n"
     ]
    },
    {
     "name": "stderr",
     "output_type": "stream",
     "text": [
      "<ipython-input-23-5717676d3adc>:99: DeprecationWarning: is_categorical_dtype is deprecated and will be removed in a future version. Use isinstance(dtype, pd.CategoricalDtype) instead\n",
      "  if pd.api.types.is_categorical_dtype(dtype):\n",
      "<ipython-input-23-5717676d3adc>:99: DeprecationWarning: is_categorical_dtype is deprecated and will be removed in a future version. Use isinstance(dtype, pd.CategoricalDtype) instead\n",
      "  if pd.api.types.is_categorical_dtype(dtype):\n",
      "<ipython-input-23-5717676d3adc>:99: DeprecationWarning: is_categorical_dtype is deprecated and will be removed in a future version. Use isinstance(dtype, pd.CategoricalDtype) instead\n",
      "  if pd.api.types.is_categorical_dtype(dtype):\n",
      "<ipython-input-23-5717676d3adc>:99: DeprecationWarning: is_categorical_dtype is deprecated and will be removed in a future version. Use isinstance(dtype, pd.CategoricalDtype) instead\n",
      "  if pd.api.types.is_categorical_dtype(dtype):\n"
     ]
    },
    {
     "name": "stdout",
     "output_type": "stream",
     "text": [
      "Erro em SKU 3803, data 20241204: Cannot convert non-finite values (NA or inf) to integer\n"
     ]
    },
    {
     "name": "stderr",
     "output_type": "stream",
     "text": [
      "<ipython-input-23-5717676d3adc>:99: DeprecationWarning: is_categorical_dtype is deprecated and will be removed in a future version. Use isinstance(dtype, pd.CategoricalDtype) instead\n",
      "  if pd.api.types.is_categorical_dtype(dtype):\n",
      "<ipython-input-23-5717676d3adc>:99: DeprecationWarning: is_categorical_dtype is deprecated and will be removed in a future version. Use isinstance(dtype, pd.CategoricalDtype) instead\n",
      "  if pd.api.types.is_categorical_dtype(dtype):\n",
      "<ipython-input-23-5717676d3adc>:99: DeprecationWarning: is_categorical_dtype is deprecated and will be removed in a future version. Use isinstance(dtype, pd.CategoricalDtype) instead\n",
      "  if pd.api.types.is_categorical_dtype(dtype):\n",
      "<ipython-input-23-5717676d3adc>:99: DeprecationWarning: is_categorical_dtype is deprecated and will be removed in a future version. Use isinstance(dtype, pd.CategoricalDtype) instead\n",
      "  if pd.api.types.is_categorical_dtype(dtype):\n"
     ]
    },
    {
     "name": "stdout",
     "output_type": "stream",
     "text": [
      "Erro em SKU 4599, data 20241107: Cannot convert non-finite values (NA or inf) to integer\n"
     ]
    },
    {
     "name": "stderr",
     "output_type": "stream",
     "text": [
      "<ipython-input-23-5717676d3adc>:99: DeprecationWarning: is_categorical_dtype is deprecated and will be removed in a future version. Use isinstance(dtype, pd.CategoricalDtype) instead\n",
      "  if pd.api.types.is_categorical_dtype(dtype):\n",
      "<ipython-input-23-5717676d3adc>:99: DeprecationWarning: is_categorical_dtype is deprecated and will be removed in a future version. Use isinstance(dtype, pd.CategoricalDtype) instead\n",
      "  if pd.api.types.is_categorical_dtype(dtype):\n",
      "<ipython-input-23-5717676d3adc>:99: DeprecationWarning: is_categorical_dtype is deprecated and will be removed in a future version. Use isinstance(dtype, pd.CategoricalDtype) instead\n",
      "  if pd.api.types.is_categorical_dtype(dtype):\n",
      "<ipython-input-23-5717676d3adc>:99: DeprecationWarning: is_categorical_dtype is deprecated and will be removed in a future version. Use isinstance(dtype, pd.CategoricalDtype) instead\n",
      "  if pd.api.types.is_categorical_dtype(dtype):\n"
     ]
    },
    {
     "name": "stdout",
     "output_type": "stream",
     "text": [
      "Erro em SKU 4552, data 20241214: Cannot convert non-finite values (NA or inf) to integer\n"
     ]
    },
    {
     "name": "stderr",
     "output_type": "stream",
     "text": [
      "<ipython-input-23-5717676d3adc>:99: DeprecationWarning: is_categorical_dtype is deprecated and will be removed in a future version. Use isinstance(dtype, pd.CategoricalDtype) instead\n",
      "  if pd.api.types.is_categorical_dtype(dtype):\n",
      "<ipython-input-23-5717676d3adc>:99: DeprecationWarning: is_categorical_dtype is deprecated and will be removed in a future version. Use isinstance(dtype, pd.CategoricalDtype) instead\n",
      "  if pd.api.types.is_categorical_dtype(dtype):\n",
      "<ipython-input-23-5717676d3adc>:99: DeprecationWarning: is_categorical_dtype is deprecated and will be removed in a future version. Use isinstance(dtype, pd.CategoricalDtype) instead\n",
      "  if pd.api.types.is_categorical_dtype(dtype):\n",
      "<ipython-input-23-5717676d3adc>:99: DeprecationWarning: is_categorical_dtype is deprecated and will be removed in a future version. Use isinstance(dtype, pd.CategoricalDtype) instead\n",
      "  if pd.api.types.is_categorical_dtype(dtype):\n"
     ]
    },
    {
     "name": "stdout",
     "output_type": "stream",
     "text": [
      "Erro em SKU 3380, data 20241125: Cannot convert non-finite values (NA or inf) to integer\n"
     ]
    },
    {
     "name": "stderr",
     "output_type": "stream",
     "text": [
      "<ipython-input-23-5717676d3adc>:99: DeprecationWarning: is_categorical_dtype is deprecated and will be removed in a future version. Use isinstance(dtype, pd.CategoricalDtype) instead\n",
      "  if pd.api.types.is_categorical_dtype(dtype):\n",
      "<ipython-input-23-5717676d3adc>:99: DeprecationWarning: is_categorical_dtype is deprecated and will be removed in a future version. Use isinstance(dtype, pd.CategoricalDtype) instead\n",
      "  if pd.api.types.is_categorical_dtype(dtype):\n",
      "<ipython-input-23-5717676d3adc>:99: DeprecationWarning: is_categorical_dtype is deprecated and will be removed in a future version. Use isinstance(dtype, pd.CategoricalDtype) instead\n",
      "  if pd.api.types.is_categorical_dtype(dtype):\n",
      "<ipython-input-23-5717676d3adc>:99: DeprecationWarning: is_categorical_dtype is deprecated and will be removed in a future version. Use isinstance(dtype, pd.CategoricalDtype) instead\n",
      "  if pd.api.types.is_categorical_dtype(dtype):\n"
     ]
    },
    {
     "name": "stdout",
     "output_type": "stream",
     "text": [
      "Erro em SKU 3870, data 20241216: Cannot convert non-finite values (NA or inf) to integer\n"
     ]
    },
    {
     "name": "stderr",
     "output_type": "stream",
     "text": [
      "<ipython-input-23-5717676d3adc>:99: DeprecationWarning: is_categorical_dtype is deprecated and will be removed in a future version. Use isinstance(dtype, pd.CategoricalDtype) instead\n",
      "  if pd.api.types.is_categorical_dtype(dtype):\n",
      "<ipython-input-23-5717676d3adc>:99: DeprecationWarning: is_categorical_dtype is deprecated and will be removed in a future version. Use isinstance(dtype, pd.CategoricalDtype) instead\n",
      "  if pd.api.types.is_categorical_dtype(dtype):\n",
      "<ipython-input-23-5717676d3adc>:99: DeprecationWarning: is_categorical_dtype is deprecated and will be removed in a future version. Use isinstance(dtype, pd.CategoricalDtype) instead\n",
      "  if pd.api.types.is_categorical_dtype(dtype):\n",
      "<ipython-input-23-5717676d3adc>:99: DeprecationWarning: is_categorical_dtype is deprecated and will be removed in a future version. Use isinstance(dtype, pd.CategoricalDtype) instead\n",
      "  if pd.api.types.is_categorical_dtype(dtype):\n"
     ]
    },
    {
     "name": "stdout",
     "output_type": "stream",
     "text": [
      "Erro em SKU 4360, data 20241121: Cannot convert non-finite values (NA or inf) to integer\n"
     ]
    },
    {
     "name": "stderr",
     "output_type": "stream",
     "text": [
      "<ipython-input-23-5717676d3adc>:99: DeprecationWarning: is_categorical_dtype is deprecated and will be removed in a future version. Use isinstance(dtype, pd.CategoricalDtype) instead\n",
      "  if pd.api.types.is_categorical_dtype(dtype):\n",
      "<ipython-input-23-5717676d3adc>:99: DeprecationWarning: is_categorical_dtype is deprecated and will be removed in a future version. Use isinstance(dtype, pd.CategoricalDtype) instead\n",
      "  if pd.api.types.is_categorical_dtype(dtype):\n",
      "<ipython-input-23-5717676d3adc>:99: DeprecationWarning: is_categorical_dtype is deprecated and will be removed in a future version. Use isinstance(dtype, pd.CategoricalDtype) instead\n",
      "  if pd.api.types.is_categorical_dtype(dtype):\n",
      "<ipython-input-23-5717676d3adc>:99: DeprecationWarning: is_categorical_dtype is deprecated and will be removed in a future version. Use isinstance(dtype, pd.CategoricalDtype) instead\n",
      "  if pd.api.types.is_categorical_dtype(dtype):\n"
     ]
    },
    {
     "name": "stdout",
     "output_type": "stream",
     "text": [
      "Erro em SKU 2478, data 20241230: Cannot convert non-finite values (NA or inf) to integer\n"
     ]
    },
    {
     "name": "stderr",
     "output_type": "stream",
     "text": [
      "<ipython-input-23-5717676d3adc>:99: DeprecationWarning: is_categorical_dtype is deprecated and will be removed in a future version. Use isinstance(dtype, pd.CategoricalDtype) instead\n",
      "  if pd.api.types.is_categorical_dtype(dtype):\n",
      "<ipython-input-23-5717676d3adc>:99: DeprecationWarning: is_categorical_dtype is deprecated and will be removed in a future version. Use isinstance(dtype, pd.CategoricalDtype) instead\n",
      "  if pd.api.types.is_categorical_dtype(dtype):\n",
      "<ipython-input-23-5717676d3adc>:99: DeprecationWarning: is_categorical_dtype is deprecated and will be removed in a future version. Use isinstance(dtype, pd.CategoricalDtype) instead\n",
      "  if pd.api.types.is_categorical_dtype(dtype):\n",
      "<ipython-input-23-5717676d3adc>:99: DeprecationWarning: is_categorical_dtype is deprecated and will be removed in a future version. Use isinstance(dtype, pd.CategoricalDtype) instead\n",
      "  if pd.api.types.is_categorical_dtype(dtype):\n"
     ]
    },
    {
     "name": "stdout",
     "output_type": "stream",
     "text": [
      "Erro em SKU 4523, data 20241105: Cannot convert non-finite values (NA or inf) to integer\n"
     ]
    },
    {
     "name": "stderr",
     "output_type": "stream",
     "text": [
      "<ipython-input-23-5717676d3adc>:99: DeprecationWarning: is_categorical_dtype is deprecated and will be removed in a future version. Use isinstance(dtype, pd.CategoricalDtype) instead\n",
      "  if pd.api.types.is_categorical_dtype(dtype):\n",
      "<ipython-input-23-5717676d3adc>:99: DeprecationWarning: is_categorical_dtype is deprecated and will be removed in a future version. Use isinstance(dtype, pd.CategoricalDtype) instead\n",
      "  if pd.api.types.is_categorical_dtype(dtype):\n",
      "<ipython-input-23-5717676d3adc>:99: DeprecationWarning: is_categorical_dtype is deprecated and will be removed in a future version. Use isinstance(dtype, pd.CategoricalDtype) instead\n",
      "  if pd.api.types.is_categorical_dtype(dtype):\n",
      "<ipython-input-23-5717676d3adc>:99: DeprecationWarning: is_categorical_dtype is deprecated and will be removed in a future version. Use isinstance(dtype, pd.CategoricalDtype) instead\n",
      "  if pd.api.types.is_categorical_dtype(dtype):\n"
     ]
    },
    {
     "name": "stdout",
     "output_type": "stream",
     "text": [
      "Erro em SKU 2227, data 20241223: Cannot convert non-finite values (NA or inf) to integer\n"
     ]
    },
    {
     "name": "stderr",
     "output_type": "stream",
     "text": [
      "<ipython-input-23-5717676d3adc>:99: DeprecationWarning: is_categorical_dtype is deprecated and will be removed in a future version. Use isinstance(dtype, pd.CategoricalDtype) instead\n",
      "  if pd.api.types.is_categorical_dtype(dtype):\n",
      "<ipython-input-23-5717676d3adc>:99: DeprecationWarning: is_categorical_dtype is deprecated and will be removed in a future version. Use isinstance(dtype, pd.CategoricalDtype) instead\n",
      "  if pd.api.types.is_categorical_dtype(dtype):\n",
      "<ipython-input-23-5717676d3adc>:99: DeprecationWarning: is_categorical_dtype is deprecated and will be removed in a future version. Use isinstance(dtype, pd.CategoricalDtype) instead\n",
      "  if pd.api.types.is_categorical_dtype(dtype):\n",
      "<ipython-input-23-5717676d3adc>:99: DeprecationWarning: is_categorical_dtype is deprecated and will be removed in a future version. Use isinstance(dtype, pd.CategoricalDtype) instead\n",
      "  if pd.api.types.is_categorical_dtype(dtype):\n"
     ]
    },
    {
     "name": "stdout",
     "output_type": "stream",
     "text": [
      "Erro em SKU 3714, data 20241119: Cannot convert non-finite values (NA or inf) to integer\n"
     ]
    },
    {
     "name": "stderr",
     "output_type": "stream",
     "text": [
      "<ipython-input-23-5717676d3adc>:99: DeprecationWarning: is_categorical_dtype is deprecated and will be removed in a future version. Use isinstance(dtype, pd.CategoricalDtype) instead\n",
      "  if pd.api.types.is_categorical_dtype(dtype):\n",
      "<ipython-input-23-5717676d3adc>:99: DeprecationWarning: is_categorical_dtype is deprecated and will be removed in a future version. Use isinstance(dtype, pd.CategoricalDtype) instead\n",
      "  if pd.api.types.is_categorical_dtype(dtype):\n",
      "<ipython-input-23-5717676d3adc>:99: DeprecationWarning: is_categorical_dtype is deprecated and will be removed in a future version. Use isinstance(dtype, pd.CategoricalDtype) instead\n",
      "  if pd.api.types.is_categorical_dtype(dtype):\n",
      "<ipython-input-23-5717676d3adc>:99: DeprecationWarning: is_categorical_dtype is deprecated and will be removed in a future version. Use isinstance(dtype, pd.CategoricalDtype) instead\n",
      "  if pd.api.types.is_categorical_dtype(dtype):\n"
     ]
    },
    {
     "name": "stdout",
     "output_type": "stream",
     "text": [
      "Erro em SKU 2735, data 20241210: Cannot convert non-finite values (NA or inf) to integer\n"
     ]
    },
    {
     "name": "stderr",
     "output_type": "stream",
     "text": [
      "<ipython-input-23-5717676d3adc>:99: DeprecationWarning: is_categorical_dtype is deprecated and will be removed in a future version. Use isinstance(dtype, pd.CategoricalDtype) instead\n",
      "  if pd.api.types.is_categorical_dtype(dtype):\n",
      "<ipython-input-23-5717676d3adc>:99: DeprecationWarning: is_categorical_dtype is deprecated and will be removed in a future version. Use isinstance(dtype, pd.CategoricalDtype) instead\n",
      "  if pd.api.types.is_categorical_dtype(dtype):\n",
      "<ipython-input-23-5717676d3adc>:99: DeprecationWarning: is_categorical_dtype is deprecated and will be removed in a future version. Use isinstance(dtype, pd.CategoricalDtype) instead\n",
      "  if pd.api.types.is_categorical_dtype(dtype):\n",
      "<ipython-input-23-5717676d3adc>:99: DeprecationWarning: is_categorical_dtype is deprecated and will be removed in a future version. Use isinstance(dtype, pd.CategoricalDtype) instead\n",
      "  if pd.api.types.is_categorical_dtype(dtype):\n"
     ]
    },
    {
     "name": "stdout",
     "output_type": "stream",
     "text": [
      "Erro em SKU 1972, data 20241102: Cannot convert non-finite values (NA or inf) to integer\n"
     ]
    },
    {
     "name": "stderr",
     "output_type": "stream",
     "text": [
      "<ipython-input-23-5717676d3adc>:99: DeprecationWarning: is_categorical_dtype is deprecated and will be removed in a future version. Use isinstance(dtype, pd.CategoricalDtype) instead\n",
      "  if pd.api.types.is_categorical_dtype(dtype):\n",
      "<ipython-input-23-5717676d3adc>:99: DeprecationWarning: is_categorical_dtype is deprecated and will be removed in a future version. Use isinstance(dtype, pd.CategoricalDtype) instead\n",
      "  if pd.api.types.is_categorical_dtype(dtype):\n",
      "<ipython-input-23-5717676d3adc>:99: DeprecationWarning: is_categorical_dtype is deprecated and will be removed in a future version. Use isinstance(dtype, pd.CategoricalDtype) instead\n",
      "  if pd.api.types.is_categorical_dtype(dtype):\n",
      "<ipython-input-23-5717676d3adc>:99: DeprecationWarning: is_categorical_dtype is deprecated and will be removed in a future version. Use isinstance(dtype, pd.CategoricalDtype) instead\n",
      "  if pd.api.types.is_categorical_dtype(dtype):\n"
     ]
    },
    {
     "name": "stdout",
     "output_type": "stream",
     "text": [
      "Erro em SKU 4467, data 20241107: Cannot convert non-finite values (NA or inf) to integer\n"
     ]
    },
    {
     "name": "stderr",
     "output_type": "stream",
     "text": [
      "<ipython-input-23-5717676d3adc>:99: DeprecationWarning: is_categorical_dtype is deprecated and will be removed in a future version. Use isinstance(dtype, pd.CategoricalDtype) instead\n",
      "  if pd.api.types.is_categorical_dtype(dtype):\n",
      "<ipython-input-23-5717676d3adc>:99: DeprecationWarning: is_categorical_dtype is deprecated and will be removed in a future version. Use isinstance(dtype, pd.CategoricalDtype) instead\n",
      "  if pd.api.types.is_categorical_dtype(dtype):\n",
      "<ipython-input-23-5717676d3adc>:99: DeprecationWarning: is_categorical_dtype is deprecated and will be removed in a future version. Use isinstance(dtype, pd.CategoricalDtype) instead\n",
      "  if pd.api.types.is_categorical_dtype(dtype):\n",
      "<ipython-input-23-5717676d3adc>:99: DeprecationWarning: is_categorical_dtype is deprecated and will be removed in a future version. Use isinstance(dtype, pd.CategoricalDtype) instead\n",
      "  if pd.api.types.is_categorical_dtype(dtype):\n"
     ]
    },
    {
     "name": "stdout",
     "output_type": "stream",
     "text": [
      "Erro em SKU 1806, data 20241212: Cannot convert non-finite values (NA or inf) to integer\n"
     ]
    },
    {
     "name": "stderr",
     "output_type": "stream",
     "text": [
      "<ipython-input-23-5717676d3adc>:99: DeprecationWarning: is_categorical_dtype is deprecated and will be removed in a future version. Use isinstance(dtype, pd.CategoricalDtype) instead\n",
      "  if pd.api.types.is_categorical_dtype(dtype):\n",
      "<ipython-input-23-5717676d3adc>:99: DeprecationWarning: is_categorical_dtype is deprecated and will be removed in a future version. Use isinstance(dtype, pd.CategoricalDtype) instead\n",
      "  if pd.api.types.is_categorical_dtype(dtype):\n",
      "<ipython-input-23-5717676d3adc>:99: DeprecationWarning: is_categorical_dtype is deprecated and will be removed in a future version. Use isinstance(dtype, pd.CategoricalDtype) instead\n",
      "  if pd.api.types.is_categorical_dtype(dtype):\n",
      "<ipython-input-23-5717676d3adc>:99: DeprecationWarning: is_categorical_dtype is deprecated and will be removed in a future version. Use isinstance(dtype, pd.CategoricalDtype) instead\n",
      "  if pd.api.types.is_categorical_dtype(dtype):\n"
     ]
    },
    {
     "name": "stdout",
     "output_type": "stream",
     "text": [
      "Erro em SKU 3361, data 20241112: Cannot convert non-finite values (NA or inf) to integer\n"
     ]
    },
    {
     "name": "stderr",
     "output_type": "stream",
     "text": [
      "<ipython-input-23-5717676d3adc>:99: DeprecationWarning: is_categorical_dtype is deprecated and will be removed in a future version. Use isinstance(dtype, pd.CategoricalDtype) instead\n",
      "  if pd.api.types.is_categorical_dtype(dtype):\n",
      "<ipython-input-23-5717676d3adc>:99: DeprecationWarning: is_categorical_dtype is deprecated and will be removed in a future version. Use isinstance(dtype, pd.CategoricalDtype) instead\n",
      "  if pd.api.types.is_categorical_dtype(dtype):\n",
      "<ipython-input-23-5717676d3adc>:99: DeprecationWarning: is_categorical_dtype is deprecated and will be removed in a future version. Use isinstance(dtype, pd.CategoricalDtype) instead\n",
      "  if pd.api.types.is_categorical_dtype(dtype):\n",
      "<ipython-input-23-5717676d3adc>:99: DeprecationWarning: is_categorical_dtype is deprecated and will be removed in a future version. Use isinstance(dtype, pd.CategoricalDtype) instead\n",
      "  if pd.api.types.is_categorical_dtype(dtype):\n"
     ]
    },
    {
     "name": "stdout",
     "output_type": "stream",
     "text": [
      "Erro em SKU 1529, data 20241223: Cannot convert non-finite values (NA or inf) to integer\n"
     ]
    },
    {
     "name": "stderr",
     "output_type": "stream",
     "text": [
      "<ipython-input-23-5717676d3adc>:99: DeprecationWarning: is_categorical_dtype is deprecated and will be removed in a future version. Use isinstance(dtype, pd.CategoricalDtype) instead\n",
      "  if pd.api.types.is_categorical_dtype(dtype):\n",
      "<ipython-input-23-5717676d3adc>:99: DeprecationWarning: is_categorical_dtype is deprecated and will be removed in a future version. Use isinstance(dtype, pd.CategoricalDtype) instead\n",
      "  if pd.api.types.is_categorical_dtype(dtype):\n",
      "<ipython-input-23-5717676d3adc>:99: DeprecationWarning: is_categorical_dtype is deprecated and will be removed in a future version. Use isinstance(dtype, pd.CategoricalDtype) instead\n",
      "  if pd.api.types.is_categorical_dtype(dtype):\n",
      "<ipython-input-23-5717676d3adc>:99: DeprecationWarning: is_categorical_dtype is deprecated and will be removed in a future version. Use isinstance(dtype, pd.CategoricalDtype) instead\n",
      "  if pd.api.types.is_categorical_dtype(dtype):\n"
     ]
    },
    {
     "name": "stdout",
     "output_type": "stream",
     "text": [
      "Erro em SKU 1784, data 20241125: Cannot convert non-finite values (NA or inf) to integer\n"
     ]
    },
    {
     "name": "stderr",
     "output_type": "stream",
     "text": [
      "<ipython-input-23-5717676d3adc>:99: DeprecationWarning: is_categorical_dtype is deprecated and will be removed in a future version. Use isinstance(dtype, pd.CategoricalDtype) instead\n",
      "  if pd.api.types.is_categorical_dtype(dtype):\n",
      "<ipython-input-23-5717676d3adc>:99: DeprecationWarning: is_categorical_dtype is deprecated and will be removed in a future version. Use isinstance(dtype, pd.CategoricalDtype) instead\n",
      "  if pd.api.types.is_categorical_dtype(dtype):\n",
      "<ipython-input-23-5717676d3adc>:99: DeprecationWarning: is_categorical_dtype is deprecated and will be removed in a future version. Use isinstance(dtype, pd.CategoricalDtype) instead\n",
      "  if pd.api.types.is_categorical_dtype(dtype):\n",
      "<ipython-input-23-5717676d3adc>:99: DeprecationWarning: is_categorical_dtype is deprecated and will be removed in a future version. Use isinstance(dtype, pd.CategoricalDtype) instead\n",
      "  if pd.api.types.is_categorical_dtype(dtype):\n"
     ]
    },
    {
     "name": "stdout",
     "output_type": "stream",
     "text": [
      "Erro em SKU 1175, data 20241110: Cannot convert non-finite values (NA or inf) to integer\n"
     ]
    },
    {
     "name": "stderr",
     "output_type": "stream",
     "text": [
      "<ipython-input-23-5717676d3adc>:99: DeprecationWarning: is_categorical_dtype is deprecated and will be removed in a future version. Use isinstance(dtype, pd.CategoricalDtype) instead\n",
      "  if pd.api.types.is_categorical_dtype(dtype):\n",
      "<ipython-input-23-5717676d3adc>:99: DeprecationWarning: is_categorical_dtype is deprecated and will be removed in a future version. Use isinstance(dtype, pd.CategoricalDtype) instead\n",
      "  if pd.api.types.is_categorical_dtype(dtype):\n",
      "<ipython-input-23-5717676d3adc>:99: DeprecationWarning: is_categorical_dtype is deprecated and will be removed in a future version. Use isinstance(dtype, pd.CategoricalDtype) instead\n",
      "  if pd.api.types.is_categorical_dtype(dtype):\n",
      "<ipython-input-23-5717676d3adc>:99: DeprecationWarning: is_categorical_dtype is deprecated and will be removed in a future version. Use isinstance(dtype, pd.CategoricalDtype) instead\n",
      "  if pd.api.types.is_categorical_dtype(dtype):\n"
     ]
    },
    {
     "name": "stdout",
     "output_type": "stream",
     "text": [
      "Erro em SKU 2107, data 20241208: Cannot convert non-finite values (NA or inf) to integer\n"
     ]
    },
    {
     "name": "stderr",
     "output_type": "stream",
     "text": [
      "<ipython-input-23-5717676d3adc>:99: DeprecationWarning: is_categorical_dtype is deprecated and will be removed in a future version. Use isinstance(dtype, pd.CategoricalDtype) instead\n",
      "  if pd.api.types.is_categorical_dtype(dtype):\n",
      "<ipython-input-23-5717676d3adc>:99: DeprecationWarning: is_categorical_dtype is deprecated and will be removed in a future version. Use isinstance(dtype, pd.CategoricalDtype) instead\n",
      "  if pd.api.types.is_categorical_dtype(dtype):\n",
      "<ipython-input-23-5717676d3adc>:99: DeprecationWarning: is_categorical_dtype is deprecated and will be removed in a future version. Use isinstance(dtype, pd.CategoricalDtype) instead\n",
      "  if pd.api.types.is_categorical_dtype(dtype):\n",
      "<ipython-input-23-5717676d3adc>:99: DeprecationWarning: is_categorical_dtype is deprecated and will be removed in a future version. Use isinstance(dtype, pd.CategoricalDtype) instead\n",
      "  if pd.api.types.is_categorical_dtype(dtype):\n"
     ]
    },
    {
     "name": "stdout",
     "output_type": "stream",
     "text": [
      "Erro em SKU 4442, data 20241123: Cannot convert non-finite values (NA or inf) to integer\n"
     ]
    },
    {
     "name": "stderr",
     "output_type": "stream",
     "text": [
      "<ipython-input-23-5717676d3adc>:99: DeprecationWarning: is_categorical_dtype is deprecated and will be removed in a future version. Use isinstance(dtype, pd.CategoricalDtype) instead\n",
      "  if pd.api.types.is_categorical_dtype(dtype):\n",
      "<ipython-input-23-5717676d3adc>:99: DeprecationWarning: is_categorical_dtype is deprecated and will be removed in a future version. Use isinstance(dtype, pd.CategoricalDtype) instead\n",
      "  if pd.api.types.is_categorical_dtype(dtype):\n",
      "<ipython-input-23-5717676d3adc>:99: DeprecationWarning: is_categorical_dtype is deprecated and will be removed in a future version. Use isinstance(dtype, pd.CategoricalDtype) instead\n",
      "  if pd.api.types.is_categorical_dtype(dtype):\n",
      "<ipython-input-23-5717676d3adc>:99: DeprecationWarning: is_categorical_dtype is deprecated and will be removed in a future version. Use isinstance(dtype, pd.CategoricalDtype) instead\n",
      "  if pd.api.types.is_categorical_dtype(dtype):\n"
     ]
    },
    {
     "name": "stdout",
     "output_type": "stream",
     "text": [
      "Erro em SKU 4526, data 20241122: Cannot convert non-finite values (NA or inf) to integer\n"
     ]
    }
   ],
   "source": [
    "# Compara os resultados de predição com os dados de avaliação\n",
    "\n",
    "# Criar colunas para novas predições\n",
    "df_eval['pvp_api_modelA'] = np.nan\n",
    "df_eval['pvp_api_modelB'] = np.nan\n",
    "\n",
    "for idx, row in df_eval.iterrows():\n",
    "    sku = row['sku']\n",
    "    date = row['time_key']\n",
    "\n",
    "    try:\n",
    "        # Previsão para Competitor A\n",
    "        X_A = generate_features_for_api(sku, date, product_prices, chain_campaigns,\n",
    "                                        product_structures, 'competitorA', original_dtypes_A)\n",
    "        if X_A is not None and not X_A.empty:\n",
    "            df_eval.loc[idx, 'pvp_api_modelA'] = modelA.predict(X_A)[0]\n",
    "\n",
    "        # Previsão para Competitor B\n",
    "        X_B = generate_features_for_api(sku, date, product_prices, chain_campaigns,\n",
    "                                        product_structures, 'competitorB', original_dtypes_A)  # pode usar os mesmos dtypes\n",
    "        if X_B is not None and not X_B.empty:\n",
    "            df_eval.loc[idx, 'pvp_api_modelB'] = modelB.predict(X_B)[0]\n",
    "\n",
    "    except Exception as e:\n",
    "        print(f\"Erro em SKU {sku}, data {date}: {e}\")\n"
   ]
  }
 ],
 "metadata": {
  "colab": {
   "authorship_tag": "ABX9TyOZSiUsYGaHSaj731n2iqu5",
   "collapsed_sections": [
    "PAc8_nH_OEab",
    "szm3Q4vwn8dd",
    "PWEZxseRoJaB",
    "yTkUGpCOoWaQ",
    "Z2QXfQdMQ7DQ"
   ],
   "mount_file_id": "1Gvb3NamwRyAvcaP5Hhi55LGPCDRhNmem",
   "provenance": [],
   "toc_visible": true
  },
  "kernelspec": {
   "display_name": "Python 3",
   "name": "python3"
  },
  "language_info": {
   "name": "python"
  }
 },
 "nbformat": 4,
 "nbformat_minor": 0
}
